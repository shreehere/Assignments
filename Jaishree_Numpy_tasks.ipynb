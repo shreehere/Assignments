{
  "cells": [
    {
      "cell_type": "markdown",
      "metadata": {
        "id": "view-in-github",
        "colab_type": "text"
      },
      "source": [
        "<a href=\"https://colab.research.google.com/github/shreehere/Assignments/blob/main/Jaishree_Numpy_tasks.ipynb\" target=\"_parent\"><img src=\"https://colab.research.google.com/assets/colab-badge.svg\" alt=\"Open In Colab\"/></a>"
      ]
    },
    {
      "cell_type": "markdown",
      "metadata": {
        "id": "_LalvBVuODYr"
      },
      "source": [
        "# Numpy\n",
        "\n"
      ]
    },
    {
      "cell_type": "markdown",
      "metadata": {
        "id": "EVNI1oiHODYu"
      },
      "source": [
        "#### 1. Import the numpy package under the name `np` (★☆☆) \n",
        "(**hint**: import … as …)"
      ]
    },
    {
      "cell_type": "code",
      "execution_count": 1,
      "metadata": {
        "collapsed": true,
        "id": "0xZdOXAUODYv"
      },
      "outputs": [],
      "source": [
        "import numpy as np"
      ]
    },
    {
      "cell_type": "markdown",
      "metadata": {
        "id": "Grb4KtSWODYv"
      },
      "source": [
        "#### 2. Print the numpy version and the configuration (★☆☆) \n",
        "(**hint**: np.\\_\\_version\\_\\_, np.show\\_config)"
      ]
    },
    {
      "cell_type": "code",
      "execution_count": null,
      "metadata": {
        "colab": {
          "base_uri": "https://localhost:8080/"
        },
        "id": "uCRqr2z2ODYw",
        "outputId": "a29d9929-58e8-4c6f-df21-9e8ccae97ecd"
      },
      "outputs": [
        {
          "data": {
            "text/plain": [
              "(<module 'numpy.version' from '/usr/local/lib/python3.7/dist-packages/numpy/version.py'>,\n",
              " <function numpy.__config__.show()>)"
            ]
          },
          "execution_count": 5,
          "metadata": {},
          "output_type": "execute_result"
        }
      ],
      "source": [
        "np.version,np.show_config"
      ]
    },
    {
      "cell_type": "markdown",
      "metadata": {
        "id": "gnsmnxUOODYw"
      },
      "source": [
        "#### 3. Create a null vector of size 10 (★☆☆) \n",
        "(**hint**: np.zeros)"
      ]
    },
    {
      "cell_type": "code",
      "execution_count": null,
      "metadata": {
        "colab": {
          "base_uri": "https://localhost:8080/"
        },
        "id": "drmmrV3qODYw",
        "outputId": "a906b8c5-1580-4395-b636-88687b070c20"
      },
      "outputs": [
        {
          "name": "stdout",
          "output_type": "stream",
          "text": [
            "[0. 0. 0. 0. 0. 0. 0. 0. 0. 0.]\n"
          ]
        }
      ],
      "source": [
        "x=np.zeros(10)\n",
        "print(x)"
      ]
    },
    {
      "cell_type": "markdown",
      "metadata": {
        "id": "1HWSn7pEODYx"
      },
      "source": [
        "#### 4.  How to find the memory size of any array (★☆☆) \n",
        "(**hint**: size, itemsize)"
      ]
    },
    {
      "cell_type": "code",
      "execution_count": null,
      "metadata": {
        "colab": {
          "base_uri": "https://localhost:8080/"
        },
        "id": "jxWWf6pmODYx",
        "outputId": "7c79b3ca-1300-4a59-f539-283d1d962149"
      },
      "outputs": [
        {
          "name": "stdout",
          "output_type": "stream",
          "text": [
            "Size of the array  =  5\n",
            "Memory size of one element in an array = 8\n",
            "Memory size of the array =  40\n"
          ]
        }
      ],
      "source": [
        "#Creating an array\n",
        "a=[1,2,3,4,5]\n",
        "\n",
        "#Creating a 1-dimentional numpy array\n",
        "m=np.array(a)\n",
        "\n",
        "#Memory = size of an array * Memory size of one element in an array\n",
        "\n",
        "print(\"Size of the array  = \", m.size)\n",
        "print(\"Memory size of one element in an array =\", m.itemsize)\n",
        "print(\"Memory size of the array = \", m.size * m.itemsize)\n"
      ]
    },
    {
      "cell_type": "markdown",
      "metadata": {
        "id": "dUFLznuIODYy"
      },
      "source": [
        "#### 5.  How to get the documentation of the numpy add function from the command line? (★☆☆) \n",
        "(**hint**: np.info)"
      ]
    },
    {
      "cell_type": "code",
      "execution_count": null,
      "metadata": {
        "colab": {
          "base_uri": "https://localhost:8080/"
        },
        "collapsed": true,
        "id": "zc7kHpxiODYy",
        "outputId": "25280f79-b8b3-4389-b575-0aa6202894ad"
      },
      "outputs": [
        {
          "name": "stdout",
          "output_type": "stream",
          "text": [
            "add(x1, x2, /, out=None, *, where=True, casting='same_kind', order='K', dtype=None, subok=True[, signature, extobj])\n",
            "\n",
            "Add arguments element-wise.\n",
            "\n",
            "Parameters\n",
            "----------\n",
            "x1, x2 : array_like\n",
            "    The arrays to be added.\n",
            "    If ``x1.shape != x2.shape``, they must be broadcastable to a common\n",
            "    shape (which becomes the shape of the output).\n",
            "out : ndarray, None, or tuple of ndarray and None, optional\n",
            "    A location into which the result is stored. If provided, it must have\n",
            "    a shape that the inputs broadcast to. If not provided or None,\n",
            "    a freshly-allocated array is returned. A tuple (possible only as a\n",
            "    keyword argument) must have length equal to the number of outputs.\n",
            "where : array_like, optional\n",
            "    This condition is broadcast over the input. At locations where the\n",
            "    condition is True, the `out` array will be set to the ufunc result.\n",
            "    Elsewhere, the `out` array will retain its original value.\n",
            "    Note that if an uninitialized `out` array is created via the default\n",
            "    ``out=None``, locations within it where the condition is False will\n",
            "    remain uninitialized.\n",
            "**kwargs\n",
            "    For other keyword-only arguments, see the\n",
            "    :ref:`ufunc docs <ufuncs.kwargs>`.\n",
            "\n",
            "Returns\n",
            "-------\n",
            "add : ndarray or scalar\n",
            "    The sum of `x1` and `x2`, element-wise.\n",
            "    This is a scalar if both `x1` and `x2` are scalars.\n",
            "\n",
            "Notes\n",
            "-----\n",
            "Equivalent to `x1` + `x2` in terms of array broadcasting.\n",
            "\n",
            "Examples\n",
            "--------\n",
            ">>> np.add(1.0, 4.0)\n",
            "5.0\n",
            ">>> x1 = np.arange(9.0).reshape((3, 3))\n",
            ">>> x2 = np.arange(3.0)\n",
            ">>> np.add(x1, x2)\n",
            "array([[  0.,   2.,   4.],\n",
            "       [  3.,   5.,   7.],\n",
            "       [  6.,   8.,  10.]])\n",
            "\n",
            "The ``+`` operator can be used as a shorthand for ``np.add`` on ndarrays.\n",
            "\n",
            ">>> x1 = np.arange(9.0).reshape((3, 3))\n",
            ">>> x2 = np.arange(3.0)\n",
            ">>> x1 + x2\n",
            "array([[ 0.,  2.,  4.],\n",
            "       [ 3.,  5.,  7.],\n",
            "       [ 6.,  8., 10.]])\n"
          ]
        }
      ],
      "source": [
        "np.info(np.add)"
      ]
    },
    {
      "cell_type": "markdown",
      "metadata": {
        "id": "Qnag6AAiODYy"
      },
      "source": [
        "#### 6.  Create a null vector of size 10 but the fifth value which is 1 (★☆☆) \n",
        "(**hint**: array\\[4\\])"
      ]
    },
    {
      "cell_type": "code",
      "execution_count": null,
      "metadata": {
        "colab": {
          "base_uri": "https://localhost:8080/"
        },
        "id": "n5Ann5AWODYz",
        "outputId": "0a4ec097-cc9b-4e0d-acb3-cd1b958412c8"
      },
      "outputs": [
        {
          "data": {
            "text/plain": [
              "array([0., 0., 0., 0., 1., 0., 0., 0., 0., 0.])"
            ]
          },
          "execution_count": 22,
          "metadata": {},
          "output_type": "execute_result"
        }
      ],
      "source": [
        "nv=np.zeros(10)  #creating a null vector of size 10\n",
        "nv[4]=1   #Assigning the 5th value to 1 using index\n",
        "nv  #printing the array"
      ]
    },
    {
      "cell_type": "markdown",
      "metadata": {
        "id": "RbxcwFQJODYz"
      },
      "source": [
        "#### 7.  Create a vector with values ranging from 10 to 49 (★☆☆) \n",
        "(**hint**: np.arange)"
      ]
    },
    {
      "cell_type": "code",
      "execution_count": null,
      "metadata": {
        "colab": {
          "base_uri": "https://localhost:8080/"
        },
        "id": "0TDjTI0DODYz",
        "outputId": "6b56ad0f-0fdb-441f-972f-62c92356162f"
      },
      "outputs": [
        {
          "data": {
            "text/plain": [
              "array([10, 11, 12, 13, 14, 15, 16, 17, 18, 19, 20, 21, 22, 23, 24, 25, 26,\n",
              "       27, 28, 29, 30, 31, 32, 33, 34, 35, 36, 37, 38, 39, 40, 41, 42, 43,\n",
              "       44, 45, 46, 47, 48, 49])"
            ]
          },
          "execution_count": 27,
          "metadata": {},
          "output_type": "execute_result"
        }
      ],
      "source": [
        "v1=np.arange(10,50)\n",
        "v1"
      ]
    },
    {
      "cell_type": "markdown",
      "metadata": {
        "id": "M4EhWC_5ODYz"
      },
      "source": [
        "#### 8.  Reverse a vector (first element becomes last) (★☆☆) \n",
        "(**hint**: array\\[::-1\\])"
      ]
    },
    {
      "cell_type": "code",
      "execution_count": null,
      "metadata": {
        "colab": {
          "base_uri": "https://localhost:8080/"
        },
        "id": "QQ7t-H_rODY0",
        "outputId": "c8208132-dc30-4ea9-d193-5b7a664d57fa"
      },
      "outputs": [
        {
          "name": "stdout",
          "output_type": "stream",
          "text": [
            "An array created with 10 values\n",
            "[ 1  2  3  4  5  6  7  8  9 10] \n",
            "\n",
            "Reversed the array using negative index\n",
            "[10  9  8  7  6  5  4  3  2  1]\n"
          ]
        }
      ],
      "source": [
        "v2=np.arange(1,11)\n",
        "print(\"An array created with 10 values\")\n",
        "print(v2 ,'\\n')\n",
        "print(\"Reversed the array using negative index\")\n",
        "v3=v2[::-1]\n",
        "print(v3)"
      ]
    },
    {
      "cell_type": "markdown",
      "metadata": {
        "id": "L5OSkRkyODY0"
      },
      "source": [
        "#### 9.  Create a 3x3 matrix with values ranging from 0 to 8 (★☆☆) \n",
        "(**hint**: reshape)"
      ]
    },
    {
      "cell_type": "code",
      "execution_count": null,
      "metadata": {
        "colab": {
          "base_uri": "https://localhost:8080/"
        },
        "id": "Se-SwvJmODY0",
        "outputId": "6151defc-6082-49f1-bb05-96ef2ef5ae46"
      },
      "outputs": [
        {
          "data": {
            "text/plain": [
              "array([[0, 1, 2],\n",
              "       [3, 4, 5],\n",
              "       [6, 7, 8]])"
            ]
          },
          "execution_count": 4,
          "metadata": {},
          "output_type": "execute_result"
        }
      ],
      "source": [
        "#Creating an array with values ranging from 0 to 8\n",
        "M=np.arange(0,9)\n",
        "\n",
        "#Rearranging the array to a 3X3 matrix\n",
        "M.reshape(3,3)"
      ]
    },
    {
      "cell_type": "markdown",
      "metadata": {
        "id": "ZYDTKz4NODY0"
      },
      "source": [
        "#### 10. Find indices of non-zero elements from \\[1,2,0,0,4,0\\] (★☆☆) \n",
        "(**hint**: np.nonzero)"
      ]
    },
    {
      "cell_type": "code",
      "execution_count": null,
      "metadata": {
        "colab": {
          "base_uri": "https://localhost:8080/"
        },
        "id": "tRER6ZW3ODY0",
        "outputId": "3d416953-0074-42e2-a81b-8e8769b422c8"
      },
      "outputs": [
        {
          "data": {
            "text/plain": [
              "(array([0, 1, 4]),)"
            ]
          },
          "execution_count": 5,
          "metadata": {},
          "output_type": "execute_result"
        }
      ],
      "source": [
        "a=[1,2,0,0,4,0]\n",
        "np.nonzero(a)"
      ]
    },
    {
      "cell_type": "markdown",
      "metadata": {
        "id": "dduGzC1iODY1"
      },
      "source": [
        "#### 11. Create a 3x3 identity matrix (★☆☆) \n",
        "(**hint**: np.eye)"
      ]
    },
    {
      "cell_type": "code",
      "execution_count": null,
      "metadata": {
        "colab": {
          "base_uri": "https://localhost:8080/"
        },
        "id": "TPHo3p9wODY1",
        "outputId": "ba6e50ff-71cc-460f-8597-9e4eafe952cc"
      },
      "outputs": [
        {
          "data": {
            "text/plain": [
              "array([[1., 0., 0.],\n",
              "       [0., 1., 0.],\n",
              "       [0., 0., 1.]])"
            ]
          },
          "execution_count": 6,
          "metadata": {},
          "output_type": "execute_result"
        }
      ],
      "source": [
        "np.eye(3,3)"
      ]
    },
    {
      "cell_type": "markdown",
      "metadata": {
        "id": "E8xCpZBFODY1"
      },
      "source": [
        "#### 12. Create a 3x3x3 array with random values (★☆☆) \n",
        "(**hint**: np.random.random)"
      ]
    },
    {
      "cell_type": "code",
      "execution_count": null,
      "metadata": {
        "colab": {
          "base_uri": "https://localhost:8080/"
        },
        "id": "2sHMr30tODY2",
        "outputId": "475963c7-9dc7-4946-9984-436712a5fc15"
      },
      "outputs": [
        {
          "data": {
            "text/plain": [
              "array([[[0.80241218, 0.49330772, 0.88378461],\n",
              "        [0.07578487, 0.01326311, 0.58010382],\n",
              "        [0.15301856, 0.17987685, 0.80490798]],\n",
              "\n",
              "       [[0.40928138, 0.44018815, 0.85008995],\n",
              "        [0.63094112, 0.42525594, 0.72376915],\n",
              "        [0.32912955, 0.54550585, 0.28224524]],\n",
              "\n",
              "       [[0.70166039, 0.67306877, 0.77177407],\n",
              "        [0.01688031, 0.24734282, 0.19676522],\n",
              "        [0.7719462 , 0.0968478 , 0.43493587]]])"
            ]
          },
          "execution_count": 10,
          "metadata": {},
          "output_type": "execute_result"
        }
      ],
      "source": [
        "x=np.random.random((3,3,3))\n",
        "x"
      ]
    },
    {
      "cell_type": "markdown",
      "metadata": {
        "id": "Wr0cp1raODY2"
      },
      "source": [
        "#### 13. Create a 10x10 array with random values and find the minimum and maximum values (★☆☆) \n",
        "(**hint**: min, max)"
      ]
    },
    {
      "cell_type": "code",
      "execution_count": null,
      "metadata": {
        "colab": {
          "base_uri": "https://localhost:8080/"
        },
        "id": "A9zg8VYBODY2",
        "outputId": "1ff1eaa4-9b20-452e-a95b-65979131e908"
      },
      "outputs": [
        {
          "name": "stdout",
          "output_type": "stream",
          "text": [
            "[[0.69510882 0.1004342  0.63998358 0.10880491 0.115258   0.10835162\n",
            "  0.5966921  0.82408698 0.35999583 0.37175321]\n",
            " [0.63573293 0.11078839 0.38902414 0.37561659 0.5012732  0.91685461\n",
            "  0.25738304 0.73464736 0.6995827  0.65234601]\n",
            " [0.0818107  0.86670165 0.15330503 0.85276556 0.32597998 0.03904214\n",
            "  0.1304081  0.58400804 0.37053022 0.35394793]\n",
            " [0.8203737  0.46423637 0.34358765 0.96765605 0.6293727  0.95262878\n",
            "  0.27033472 0.69704002 0.4730505  0.94828086]\n",
            " [0.47486763 0.66891122 0.63223451 0.27314964 0.25263006 0.11775423\n",
            "  0.18578718 0.83862709 0.70135573 0.27341701]\n",
            " [0.63828925 0.68663245 0.97906181 0.0574757  0.43550545 0.58536453\n",
            "  0.51991471 0.56451717 0.11965808 0.88618027]\n",
            " [0.82008088 0.45300161 0.64324861 0.61478786 0.70589654 0.80600311\n",
            "  0.74197822 0.04231481 0.00187268 0.4864184 ]\n",
            " [0.04422279 0.5581472  0.75522172 0.51424304 0.43100771 0.79069989\n",
            "  0.12039888 0.48979093 0.07848369 0.31666478]\n",
            " [0.04113865 0.88277948 0.87681974 0.89775185 0.2049861  0.4340166\n",
            "  0.05978573 0.14097601 0.24948578 0.85838365]\n",
            " [0.32517111 0.93519523 0.10510838 0.26932746 0.35715955 0.19702707\n",
            "  0.31108965 0.03309559 0.85141147 0.94349741]] \n",
            "\n",
            "Minimum of a is  0.0018726795439324428\n",
            "Maximum of a is  0.9790618055546895\n"
          ]
        }
      ],
      "source": [
        "a=np.random.random((10,10))\n",
        "print(a,'\\n')\n",
        "\n",
        "#Minimum of a \n",
        "print(\"Minimum of a is \",a.min())\n",
        "print(\"Maximum of a is \",a.max())"
      ]
    },
    {
      "cell_type": "markdown",
      "metadata": {
        "id": "-Ax73y_7ODY2"
      },
      "source": [
        "#### 14. Create a random vector of size 30 and find the mean value (★☆☆) \n",
        "(**hint**: mean)"
      ]
    },
    {
      "cell_type": "code",
      "execution_count": null,
      "metadata": {
        "colab": {
          "base_uri": "https://localhost:8080/"
        },
        "id": "jJakGiplODY2",
        "outputId": "8cc79f77-6d9c-4617-e3d4-006a6c0fbf28"
      },
      "outputs": [
        {
          "name": "stdout",
          "output_type": "stream",
          "text": [
            "[0.05592911 0.48559762 0.14106823 0.65360347 0.28273482 0.45502692\n",
            " 0.0875125  0.12570442 0.37946423 0.0411873 ] \n",
            "\n",
            "Mean of all the random values is  0.2707828643675172\n"
          ]
        }
      ],
      "source": [
        "x=np.random.random(10)\n",
        "print(x,'\\n')\n",
        "\n",
        "print('Mean of all the random values is ', x.mean())"
      ]
    },
    {
      "cell_type": "markdown",
      "metadata": {
        "id": "Uuq--w38ODY2"
      },
      "source": [
        "#### 15. Create a 2d array with 1 on the border and 0 inside (★☆☆) \n",
        "(**hint**: array\\[1:-1, 1:-1\\])"
      ]
    },
    {
      "cell_type": "code",
      "execution_count": null,
      "metadata": {
        "colab": {
          "base_uri": "https://localhost:8080/"
        },
        "id": "dRRSiAwQODY2",
        "outputId": "c1d2d901-12f7-4fd7-8393-d98ab3de87c3"
      },
      "outputs": [
        {
          "name": "stdout",
          "output_type": "stream",
          "text": [
            "[[1. 1. 1. 1. 1. 1. 1. 1. 1. 1.]\n",
            " [1. 0. 0. 0. 0. 0. 0. 0. 0. 1.]\n",
            " [1. 0. 0. 0. 0. 0. 0. 0. 0. 1.]\n",
            " [1. 0. 0. 0. 0. 0. 0. 0. 0. 1.]\n",
            " [1. 0. 0. 0. 0. 0. 0. 0. 0. 1.]\n",
            " [1. 0. 0. 0. 0. 0. 0. 0. 0. 1.]\n",
            " [1. 0. 0. 0. 0. 0. 0. 0. 0. 1.]\n",
            " [1. 0. 0. 0. 0. 0. 0. 0. 0. 1.]\n",
            " [1. 0. 0. 0. 0. 0. 0. 0. 0. 1.]\n",
            " [1. 1. 1. 1. 1. 1. 1. 1. 1. 1.]]\n"
          ]
        }
      ],
      "source": [
        "x=np.ones((10,10))\n",
        "x[1:-1,1:-1]=0\n",
        "print(x)"
      ]
    },
    {
      "cell_type": "markdown",
      "metadata": {
        "id": "VlWzcaMnODY3"
      },
      "source": [
        "#### 16. How to add a border (filled with 0's) around an existing array? (★☆☆) \n",
        "(**hint**: np.pad)"
      ]
    },
    {
      "cell_type": "code",
      "execution_count": null,
      "metadata": {
        "colab": {
          "base_uri": "https://localhost:8080/"
        },
        "id": "dqlnuyjOODY3",
        "outputId": "4be34cdf-250e-4161-8bfb-b7c06bd143c3"
      },
      "outputs": [
        {
          "name": "stdout",
          "output_type": "stream",
          "text": [
            "[[1. 1. 1. 1. 1.]\n",
            " [1. 1. 1. 1. 1.]\n",
            " [1. 1. 1. 1. 1.]\n",
            " [1. 1. 1. 1. 1.]\n",
            " [1. 1. 1. 1. 1.]] \n",
            "\n",
            "Adding a border(filled with 0s) \n",
            " [[0. 0. 0. 0. 0. 0. 0.]\n",
            " [0. 1. 1. 1. 1. 1. 0.]\n",
            " [0. 1. 1. 1. 1. 1. 0.]\n",
            " [0. 1. 1. 1. 1. 1. 0.]\n",
            " [0. 1. 1. 1. 1. 1. 0.]\n",
            " [0. 1. 1. 1. 1. 1. 0.]\n",
            " [0. 0. 0. 0. 0. 0. 0.]]\n"
          ]
        }
      ],
      "source": [
        "x=np.ones((5,5))\n",
        "print(x,'\\n')\n",
        "x=np.pad(x,pad_width=1)\n",
        "print('Adding a border(filled with 0s) \\n',x)"
      ]
    },
    {
      "cell_type": "markdown",
      "metadata": {
        "id": "hs_K-IAcODY3"
      },
      "source": [
        "#### 17. What is the result of the following expression? (★☆☆) \n",
        "(**hint**: NaN = not a number, inf = infinity)"
      ]
    },
    {
      "cell_type": "markdown",
      "metadata": {
        "id": "WM2UDZEJODY3"
      },
      "source": [
        "```python\n",
        "0 * np.nan       -   nan \n",
        "np.nan == np.nan -   False\n",
        "np.inf > np.nan  -   False\n",
        "np.nan - np.nan  -   nan\n",
        "0.3 == 3 * 0.1   -   False\n",
        "```"
      ]
    },
    {
      "cell_type": "markdown",
      "metadata": {
        "id": "X3CWaiyOODY4"
      },
      "source": [
        "#### 18. Create a 5x5 matrix with values 1,2,3,4 just below the diagonal (★☆☆) \n",
        "(**hint**: np.diag)"
      ]
    },
    {
      "cell_type": "code",
      "execution_count": null,
      "metadata": {
        "colab": {
          "base_uri": "https://localhost:8080/"
        },
        "id": "wQxMCeoQODY4",
        "outputId": "9338968c-1e7e-4380-fa14-9c5e04ecfa9d"
      },
      "outputs": [
        {
          "data": {
            "text/plain": [
              "array([[0, 0, 0, 0, 0],\n",
              "       [1, 0, 0, 0, 0],\n",
              "       [0, 2, 0, 0, 0],\n",
              "       [0, 0, 3, 0, 0],\n",
              "       [0, 0, 0, 4, 0]])"
            ]
          },
          "execution_count": 4,
          "metadata": {},
          "output_type": "execute_result"
        }
      ],
      "source": [
        "x=np.diag([1,2,3,4],k=-1)   #k=1 takes the values just below the diagonal\n",
        "x"
      ]
    },
    {
      "cell_type": "markdown",
      "metadata": {
        "id": "bLfvYB-OODY4"
      },
      "source": [
        "#### 19. Create a 8x8 matrix and fill it with a checkerboard pattern (★☆☆) \n",
        "(**hint**: array\\[::2\\])"
      ]
    },
    {
      "cell_type": "code",
      "execution_count": null,
      "metadata": {
        "colab": {
          "base_uri": "https://localhost:8080/"
        },
        "id": "DXJWYWsXODY4",
        "outputId": "c6672c97-570e-404d-cc1e-c74d884da20c"
      },
      "outputs": [
        {
          "name": "stdout",
          "output_type": "stream",
          "text": [
            "[[1. 0. 1. 0. 1. 0. 1. 0.]\n",
            " [0. 1. 0. 1. 0. 1. 0. 1.]\n",
            " [1. 0. 1. 0. 1. 0. 1. 0.]\n",
            " [0. 1. 0. 1. 0. 1. 0. 1.]\n",
            " [1. 0. 1. 0. 1. 0. 1. 0.]\n",
            " [0. 1. 0. 1. 0. 1. 0. 1.]\n",
            " [1. 0. 1. 0. 1. 0. 1. 0.]\n",
            " [0. 1. 0. 1. 0. 1. 0. 1.]]\n"
          ]
        }
      ],
      "source": [
        "x= np.ones ((8,8))\n",
        "x[1::2, ::2]= 0   #From (Row 1 - Row8)+(All columns)-with slicing of 2\n",
        "x[::2, 1::2] = 0  #From(All Rows)+(Column 1 - Column 8)-with slicing of 2\n",
        "print (x)"
      ]
    },
    {
      "cell_type": "markdown",
      "metadata": {
        "id": "30w5FriDODY4"
      },
      "source": [
        "#### 20. Consider a (6,7,8) shape array, what is the index (x,y,z) of the 100th element? \n",
        "(**hint**: np.unravel_index)"
      ]
    },
    {
      "cell_type": "code",
      "execution_count": null,
      "metadata": {
        "colab": {
          "base_uri": "https://localhost:8080/"
        },
        "id": "OojiE2FOODY4",
        "outputId": "db892485-087b-496b-938e-a3fe6b7c9c41"
      },
      "outputs": [
        {
          "data": {
            "text/plain": [
              "(1, 5, 4)"
            ]
          },
          "execution_count": 15,
          "metadata": {},
          "output_type": "execute_result"
        }
      ],
      "source": [
        "np.unravel_index(100,(6,7,8))"
      ]
    },
    {
      "cell_type": "markdown",
      "metadata": {
        "id": "Rtcm8LeBODY5"
      },
      "source": [
        "#### 21. Create a checkerboard 8x8 matrix using the tile function (★☆☆) \n",
        "(**hint**: np.tile)"
      ]
    },
    {
      "cell_type": "code",
      "execution_count": null,
      "metadata": {
        "colab": {
          "base_uri": "https://localhost:8080/"
        },
        "id": "R0wXi0xNODY5",
        "outputId": "2ee183e0-9187-4da6-caf4-14e23a8ecd45"
      },
      "outputs": [
        {
          "data": {
            "text/plain": [
              "array([[0, 1, 0, 1, 0, 1, 0, 1],\n",
              "       [1, 0, 1, 0, 1, 0, 1, 0],\n",
              "       [0, 1, 0, 1, 0, 1, 0, 1],\n",
              "       [1, 0, 1, 0, 1, 0, 1, 0],\n",
              "       [0, 1, 0, 1, 0, 1, 0, 1],\n",
              "       [1, 0, 1, 0, 1, 0, 1, 0],\n",
              "       [0, 1, 0, 1, 0, 1, 0, 1],\n",
              "       [1, 0, 1, 0, 1, 0, 1, 0]])"
            ]
          },
          "execution_count": 22,
          "metadata": {},
          "output_type": "execute_result"
        }
      ],
      "source": [
        "arr=np.array([[0,1],[1,0]])\n",
        "x=np.tile(arr,(4,4))\n",
        "x"
      ]
    },
    {
      "cell_type": "markdown",
      "metadata": {
        "id": "Ps8OFmzMODY5"
      },
      "source": [
        "#### 22. Normalize a 5x5 random matrix (★☆☆) \n",
        "(**hint**: (x - min) / (max - min))"
      ]
    },
    {
      "cell_type": "code",
      "execution_count": null,
      "metadata": {
        "colab": {
          "base_uri": "https://localhost:8080/"
        },
        "id": "HT3_QQ_pODY5",
        "outputId": "9ae5db63-7c7c-4f1a-a013-6481c3d7eae6"
      },
      "outputs": [
        {
          "name": "stdout",
          "output_type": "stream",
          "text": [
            "[[0.70546618 0.26875165 0.07950282 0.25523702 0.59666669]\n",
            " [0.78676417 0.40301519 0.12038193 0.18780452 0.70197578]\n",
            " [0.35464689 0.83133758 0.47501345 0.39055736 0.32141245]\n",
            " [0.03845084 0.07487357 0.80396112 0.04225611 0.21403727]\n",
            " [0.75297979 0.92960832 0.89500463 0.78808797 0.42204242]] \n",
            "\n",
            "The values are normalized and the higher value becomes 1 and the lower value becomes 0 \n",
            "\n",
            "[[0.74848201 0.25842886 0.04606591 0.2432636  0.62639418]\n",
            " [0.83970942 0.40909083 0.09193783 0.16759516 0.74456531]\n",
            " [0.35481501 0.88972686 0.48988268 0.39511144 0.31752144]\n",
            " [0.         0.04087126 0.85900675 0.00427003 0.19703188]\n",
            " [0.80179875 1.         0.96116995 0.84119491 0.43044197]]\n"
          ]
        }
      ],
      "source": [
        "x=np.random.random((5,5))\n",
        "print(x,'\\n')\n",
        "m=x.max()\n",
        "n=x.min()\n",
        "x=(x-n)/(m-n)\n",
        "print('The values are normalized and the higher value becomes 1 and the lower value becomes 0 \\n')\n",
        "print(x)"
      ]
    },
    {
      "cell_type": "markdown",
      "metadata": {
        "id": "VcrybdjPODY5"
      },
      "source": [
        "#### 23. Create a custom dtype that describes a color as four unsigned bytes (RGBA) (★☆☆) \n",
        "(**hint**: np.dtype)"
      ]
    },
    {
      "cell_type": "code",
      "execution_count": null,
      "metadata": {
        "colab": {
          "base_uri": "https://localhost:8080/"
        },
        "collapsed": true,
        "id": "lDcv17XXODY5",
        "outputId": "b111646b-cc6d-41d1-f7eb-c5484d5ed7c9"
      },
      "outputs": [
        {
          "name": "stderr",
          "output_type": "stream",
          "text": [
            "/usr/local/lib/python3.7/dist-packages/ipykernel_launcher.py:1: FutureWarning: Passing (type, 1) or '1type' as a synonym of type is deprecated; in a future version of numpy, it will be understood as (type, (1,)) / '(1,)type'.\n",
            "  \"\"\"Entry point for launching an IPython kernel.\n"
          ]
        },
        {
          "data": {
            "text/plain": [
              "dtype([('R', 'u1'), ('G', 'u1', (1, 2)), ('B', 'u1'), ('A', 'u1')])"
            ]
          },
          "execution_count": 49,
          "metadata": {},
          "output_type": "execute_result"
        }
      ],
      "source": [
        "a=np.dtype([('R',np.ubyte,1),('G',np.ubyte,(1,2)),('B',np.ubyte,1),('A',np.ubyte,1)])\n",
        "a"
      ]
    },
    {
      "cell_type": "markdown",
      "metadata": {
        "id": "agL1-0CzODY5"
      },
      "source": [
        "#### 24. Multiply a 5x3 matrix by a 3x2 matrix (real matrix product) (★☆☆) \n",
        "(**hint**: np.dot | @)"
      ]
    },
    {
      "cell_type": "code",
      "execution_count": null,
      "metadata": {
        "colab": {
          "base_uri": "https://localhost:8080/"
        },
        "id": "Za6R09nHODY5",
        "outputId": "87a67279-ab9a-4664-fa6b-d6134ae1107d"
      },
      "outputs": [
        {
          "name": "stdout",
          "output_type": "stream",
          "text": [
            "Creating a 5X3 matrix \n",
            "\n",
            "[[54. 69. 18.]\n",
            " [63.  3. 87.]\n",
            " [10. 21. 26.]\n",
            " [87. 55. 56.]\n",
            " [95. 94.  8.]] \n",
            "\n",
            "Creating a 3X2 matrix \n",
            "\n",
            "[[90. 23.]\n",
            " [10. 10.]\n",
            " [67. 51.]] \n",
            "\n",
            "Product of a and b\n",
            "[[ 6756.  2850.]\n",
            " [11529.  5916.]\n",
            " [ 2852.  1766.]\n",
            " [12132.  5407.]\n",
            " [10026.  3533.]]\n"
          ]
        }
      ],
      "source": [
        "a=np.floor(100*np.random.random((5,3)))\n",
        "print(\"Creating a 5X3 matrix \\n\")\n",
        "print(a,'\\n')\n",
        "\n",
        "b=np.floor(100*np.random.random((3,2)))\n",
        "print(\"Creating a 3X2 matrix \\n\")\n",
        "print(b,'\\n')\n",
        "\n",
        "p=a.dot(b)\n",
        "print(\"Product of a and b\")\n",
        "print(p)"
      ]
    },
    {
      "cell_type": "markdown",
      "metadata": {
        "id": "Jels8eN8ODY5"
      },
      "source": [
        "#### 25. Given a 1D array, negate all elements which are between 3 and 8, in place. (★☆☆) \n",
        "(**hint**: >, <=)"
      ]
    },
    {
      "cell_type": "code",
      "execution_count": null,
      "metadata": {
        "colab": {
          "base_uri": "https://localhost:8080/"
        },
        "id": "zBp2qUeEODY5",
        "outputId": "0d17583c-7603-4c1a-a883-fdd4f8ba4c87"
      },
      "outputs": [
        {
          "name": "stdout",
          "output_type": "stream",
          "text": [
            "Created an array of 10 elements\n",
            "[0 1 2 3 4 5 6 7 8 9] \n",
            "\n",
            "using for loop\n",
            "[ 0  1  2 -3 -4 -5 -6 -7  8  9] \n",
            "\n",
            "Another Method\n",
            "using the index value with logical operator \n",
            "[ 0  1  2 -3 -4 -5 -6 -7  8  9]\n"
          ]
        }
      ],
      "source": [
        "x=np.arange(10)\n",
        "print(\"Created an array of 10 elements\")\n",
        "print(x,'\\n')\n",
        "print(\"using for loop\")\n",
        "for i in range(3,8):\n",
        "  x[i]=x[i]*(-1)\n",
        "print(x,'\\n')\n",
        "\n",
        "print('Another Method')\n",
        "y=np.arange(10)\n",
        "print(\"using the index value with logical operator \")\n",
        "y[(y>2)&(y<8)]*=-1\n",
        "print(y)"
      ]
    },
    {
      "cell_type": "markdown",
      "metadata": {
        "id": "hxURSchuODY6"
      },
      "source": [
        "#### 26. What is the output of the following script? (★☆☆) \n",
        "(**hint**: np.sum)"
      ]
    },
    {
      "cell_type": "markdown",
      "metadata": {
        "id": "FqbF9UheODY6"
      },
      "source": [
        "```python\n",
        "# Author: Jake VanderPlas\n",
        "\n",
        "print(sum(range(5),-1))\n",
        "from numpy import *\n",
        "print(sum(range(5),-1))\n",
        "```"
      ]
    },
    {
      "cell_type": "code",
      "execution_count": null,
      "metadata": {
        "colab": {
          "base_uri": "https://localhost:8080/"
        },
        "id": "9u8FNFc9ODY6",
        "outputId": "e1b46919-7ae5-40ea-da20-e2811e2513db"
      },
      "outputs": [
        {
          "output_type": "stream",
          "name": "stdout",
          "text": [
            "9\n",
            "The statement \"print(sum(range(5),-1))\" refers the following \n",
            " 0+1+2+3+4+(-1) \n",
            "\n",
            "Here the statement \"print(sum(range(5),-1))\" refers the following \n",
            " 0+1+2+3+4 - This takes the sum after importing numpy\n",
            "10\n"
          ]
        }
      ],
      "source": [
        "print(sum(range(5),-1)) \n",
        "print('The statement \"print(sum(range(5),-1))\" refers the following \\n 0+1+2+3+4+(-1) \\n') \n",
        "from numpy import *\n",
        "print('Here the statement \"print(sum(range(5),-1))\" refers the following \\n 0+1+2+3+4 - This takes the sum after importing numpy') \n",
        "print(sum(range(5),-1))"
      ]
    },
    {
      "cell_type": "markdown",
      "metadata": {
        "id": "olQ7nbo4ODY6"
      },
      "source": [
        "#### 27. Consider an integer vector Z, which of these expressions are legal? (★☆☆)"
      ]
    },
    {
      "cell_type": "markdown",
      "metadata": {
        "id": "2BGslZuhODY6"
      },
      "source": [
        "```python\n",
        "Z**Z\n",
        "2 << Z >> 2\n",
        "Z <- Z\n",
        "1j*Z\n",
        "Z/1/1\n",
        "Z<Z>Z\n",
        "```"
      ]
    },
    {
      "cell_type": "code",
      "execution_count": null,
      "metadata": {
        "colab": {
          "base_uri": "https://localhost:8080/"
        },
        "id": "bVZlQSquODY6",
        "outputId": "5761b933-0115-4c47-a3f0-39d39bdf47e3"
      },
      "outputs": [
        {
          "data": {
            "text/plain": [
              "array([1536,    1,    3,    6,   12])"
            ]
          },
          "execution_count": 87,
          "metadata": {},
          "output_type": "execute_result"
        }
      ],
      "source": [
        "Z**Z\n",
        "2 << Z >> 2\n",
        "Z <- Z\n",
        "1j*Z\n",
        "Z/1/1\n",
        "\n",
        "#All the above are a valid expression\n",
        "\n",
        "Z<Z>Z  # Not a valid expression "
      ]
    },
    {
      "cell_type": "markdown",
      "metadata": {
        "id": "YrAFKyKgODY6"
      },
      "source": [
        "#### 28. What are the result of the following expressions?"
      ]
    },
    {
      "cell_type": "markdown",
      "metadata": {
        "id": "RvoucBE3ODY6"
      },
      "source": [
        "```python\n",
        "np.array(0) / np.array(0)\n",
        "np.array(0) // np.array(0)\n",
        "np.array([np.nan]).astype(int).astype(float)\n",
        "```"
      ]
    },
    {
      "cell_type": "code",
      "execution_count": null,
      "metadata": {
        "colab": {
          "base_uri": "https://localhost:8080/"
        },
        "id": "4PL-oHCQODY6",
        "outputId": "5f985ac1-f0fc-4bec-ddcc-c93cb73b4294"
      },
      "outputs": [
        {
          "name": "stdout",
          "output_type": "stream",
          "text": [
            "np.array(0) / np.array(0) \n",
            "\n",
            "nan \n",
            "\n",
            "np.array(0) // np.array(0) \n",
            "\n",
            "0 \n",
            "\n",
            "np.array([np.nan]).astype(int).astype(float) \n",
            "\n"
          ]
        },
        {
          "name": "stderr",
          "output_type": "stream",
          "text": [
            "/usr/local/lib/python3.7/dist-packages/ipykernel_launcher.py:3: RuntimeWarning: invalid value encountered in true_divide\n",
            "  This is separate from the ipykernel package so we can avoid doing imports until\n",
            "/usr/local/lib/python3.7/dist-packages/ipykernel_launcher.py:6: RuntimeWarning: divide by zero encountered in floor_divide\n",
            "  \n"
          ]
        },
        {
          "data": {
            "text/plain": [
              "array([-9.22337204e+18])"
            ]
          },
          "execution_count": 93,
          "metadata": {},
          "output_type": "execute_result"
        }
      ],
      "source": [
        "x=np.array(0)\n",
        "print(\"np.array(0) / np.array(0) \\n\")\n",
        "print(x/x,'\\n')\n",
        "\n",
        "print(\"np.array(0) // np.array(0) \\n\")\n",
        "print(x//x,'\\n')\n",
        "\n",
        "print(\"np.array([np.nan]).astype(int).astype(float) \\n\")\n",
        "np.array([np.nan]).astype(int).astype(float)"
      ]
    },
    {
      "cell_type": "markdown",
      "metadata": {
        "id": "BnBUf8HJODY6"
      },
      "source": [
        "#### 29. How to round away from zero a float array ? (★☆☆) \n",
        "(**hint**: np.uniform, np.copysign, np.ceil, np.abs)"
      ]
    },
    {
      "cell_type": "code",
      "execution_count": null,
      "metadata": {
        "colab": {
          "background_save": true,
          "base_uri": "https://localhost:8080/",
          "height": 339
        },
        "id": "pU28RaD3SQHb",
        "outputId": "150b50e4-ff49-47f7-a99d-1712183f763f"
      },
      "outputs": [
        {
          "data": {
            "text/plain": [
              "array([ 2.7,  9.5, -5.2,  4.1, -7.1])"
            ]
          },
          "execution_count": 112,
          "metadata": {},
          "output_type": "execute_result"
        }
      ],
      "source": [
        "x=[2.7,-9.5,5.2,-4.1,7.1]\n",
        "x1=[3,8.4,-6.2,7,-8]\n",
        "\n",
        "y=np.ceil(x)   #Top most value\n",
        "y\n",
        "\n",
        "z=np.abs(x)    #Absolute value\n",
        "z\n",
        "\n",
        "a=np.copysign(x,x1)  #copying the sign of elements of x1 to elements of x\n",
        "a\n"
      ]
    },
    {
      "cell_type": "markdown",
      "metadata": {
        "id": "vf_5WznRODY7"
      },
      "source": [
        "#### 30. How to find common values between two arrays? (★☆☆) \n",
        "(**hint**: np.intersect1d)"
      ]
    },
    {
      "cell_type": "code",
      "execution_count": null,
      "metadata": {
        "id": "ArMwbvS0ODY7",
        "colab": {
          "base_uri": "https://localhost:8080/"
        },
        "outputId": "886be836-1c79-4cc6-fa80-5b5779edd863"
      },
      "outputs": [
        {
          "output_type": "stream",
          "name": "stdout",
          "text": [
            "Common values between a and b with unique values\n",
            "[1 3 5] \n",
            "\n",
            "Common values between a and b with repeated values\n",
            "[1 3 5 5]\n"
          ]
        }
      ],
      "source": [
        "a=np.array([1,3,5,5,7,9])\n",
        "b=np.array([1,2,3,5,6])\n",
        "\n",
        "print(\"Common values between a and b with unique values\")\n",
        "d=np.intersect1d(a,b,assume_unique=False)\n",
        "print(d, '\\n')\n",
        "\n",
        "print(\"Common values between a and b with repeated values\")\n",
        "c=np.intersect1d(a,b,assume_unique=True)\n",
        "print(c)"
      ]
    },
    {
      "cell_type": "markdown",
      "metadata": {
        "id": "JveJHqnHODY7"
      },
      "source": [
        "#### 31. How to ignore all numpy warnings (not recommended)? (★☆☆) \n",
        "(**hint**: np.seterr, np.errstate)"
      ]
    },
    {
      "cell_type": "code",
      "execution_count": null,
      "metadata": {
        "id": "vE5xn9olODY7",
        "colab": {
          "base_uri": "https://localhost:8080/"
        },
        "outputId": "c2b1a535-7f52-49f7-944b-6079226a0251"
      },
      "outputs": [
        {
          "output_type": "execute_result",
          "data": {
            "text/plain": [
              "{'divide': 'warn', 'over': 'warn', 'under': 'ignore', 'invalid': 'warn'}"
            ]
          },
          "metadata": {},
          "execution_count": 17
        }
      ],
      "source": [
        "np.seterr(all='ignore')"
      ]
    },
    {
      "cell_type": "markdown",
      "metadata": {
        "id": "kqk5TYepODY7"
      },
      "source": [
        "#### 32. Is the following expressions true? (★☆☆) \n",
        "(**hint**: imaginary number)"
      ]
    },
    {
      "cell_type": "markdown",
      "metadata": {
        "id": "Y2JBsryoODY7"
      },
      "source": [
        "```python\n",
        "np.sqrt(-1) == np.emath.sqrt(-1)\n",
        "```"
      ]
    },
    {
      "cell_type": "code",
      "execution_count": null,
      "metadata": {
        "id": "TtNuKs3rODY7",
        "colab": {
          "base_uri": "https://localhost:8080/"
        },
        "outputId": "c320a929-d9c5-4b05-e812-c34bb5af9389"
      },
      "outputs": [
        {
          "output_type": "stream",
          "name": "stdout",
          "text": [
            "The value of np.sqrt(-1) is  nan\n",
            "The value of np.emath.sqrt(-1) is  1j\n",
            "The statement 'np.sqrt(-1) == np.emath.sqrt(-1)' gives the following result\n"
          ]
        },
        {
          "output_type": "execute_result",
          "data": {
            "text/plain": [
              "False"
            ]
          },
          "metadata": {},
          "execution_count": 22
        }
      ],
      "source": [
        "print(\"The value of np.sqrt(-1) is \" , np.sqrt(-1))\n",
        "print(\"The value of np.emath.sqrt(-1) is \", np.emath.sqrt(-1))\n",
        "print(\"The statement 'np.sqrt(-1) == np.emath.sqrt(-1)' gives the following result\")\n",
        "np.sqrt(-1) == np.emath.sqrt(-1)"
      ]
    },
    {
      "cell_type": "markdown",
      "metadata": {
        "id": "_eDCROv4ODY7"
      },
      "source": [
        "#### 33. How to get the dates of yesterday, today and tomorrow? (★☆☆) \n",
        "(**hint**: np.datetime64, np.timedelta64)"
      ]
    },
    {
      "cell_type": "code",
      "execution_count": null,
      "metadata": {
        "collapsed": true,
        "id": "rjTM0jXtODY8",
        "colab": {
          "base_uri": "https://localhost:8080/"
        },
        "outputId": "99f8c9b3-80a2-4a94-83d1-eafa12eedcfb"
      },
      "outputs": [
        {
          "output_type": "stream",
          "name": "stdout",
          "text": [
            "Today's Date is 2022-11-15\n",
            "Tomorrow's Date is 2022-11-16\n",
            "Yesterday's Date is 2022-11-14\n"
          ]
        }
      ],
      "source": [
        "#For Today's Date\n",
        "Today=print(\"Today's Date is\",np.datetime64('Today','D'))\n",
        "\n",
        "#For Tomorrow's Date\n",
        "Tomorrow=print(\"Tomorrow's Date is\", np.datetime64('Today','D')+np.timedelta64(1,'D'))\n",
        "\n",
        "#For Yesterday's Date\n",
        "Tomorrow=print(\"Yesterday's Date is\", np.datetime64('Today','D')+np.timedelta64(-1,'D'))"
      ]
    },
    {
      "cell_type": "markdown",
      "metadata": {
        "id": "j-Hn8VmbODY8"
      },
      "source": [
        "#### 34. How to get all the dates corresponding to the month of July 2016? (★★☆) \n",
        "(**hint**: np.arange(dtype=datetime64\\['D'\\]))"
      ]
    },
    {
      "cell_type": "code",
      "execution_count": null,
      "metadata": {
        "id": "j10dhmD6ODY8",
        "colab": {
          "base_uri": "https://localhost:8080/"
        },
        "outputId": "48f9d8cc-56b8-496a-dfd9-81445cb554ee"
      },
      "outputs": [
        {
          "output_type": "execute_result",
          "data": {
            "text/plain": [
              "array(['2016-07-01', '2016-07-02', '2016-07-03', '2016-07-04',\n",
              "       '2016-07-05', '2016-07-06', '2016-07-07', '2016-07-08',\n",
              "       '2016-07-09', '2016-07-10', '2016-07-11', '2016-07-12',\n",
              "       '2016-07-13', '2016-07-14', '2016-07-15', '2016-07-16',\n",
              "       '2016-07-17', '2016-07-18', '2016-07-19', '2016-07-20',\n",
              "       '2016-07-21', '2016-07-22', '2016-07-23', '2016-07-24',\n",
              "       '2016-07-25', '2016-07-26', '2016-07-27', '2016-07-28',\n",
              "       '2016-07-29', '2016-07-30', '2016-07-31'], dtype='datetime64[D]')"
            ]
          },
          "metadata": {},
          "execution_count": 32
        }
      ],
      "source": [
        "np.arange('2016-07','2016-08',dtype='datetime64[D]')"
      ]
    },
    {
      "cell_type": "markdown",
      "metadata": {
        "id": "Qldgk4coODY8"
      },
      "source": [
        "#### 35. How to compute ((A+B)\\*(-A/2)) in place (without copy)? (★★☆) \n",
        "(**hint**: np.add(out=), np.negative(out=), np.multiply(out=), np.divide(out=))"
      ]
    },
    {
      "cell_type": "code",
      "execution_count": null,
      "metadata": {
        "id": "T9cGPpj0ODY8",
        "colab": {
          "base_uri": "https://localhost:8080/"
        },
        "outputId": "27d4cd38-bc44-4e0e-a02b-8f82c45f1e55"
      },
      "outputs": [
        {
          "output_type": "stream",
          "name": "stdout",
          "text": [
            "Adding 2 arrays\n",
            "[ 3  7  5 13] \n",
            "\n",
            "Multiplying 2 arrays\n",
            "[  3  14 -15  52] \n",
            "\n",
            "Negate the elements\n",
            "[-1 -2  3 -4] \n",
            "\n",
            "Dividing the elements\n"
          ]
        },
        {
          "output_type": "execute_result",
          "data": {
            "text/plain": [
              "array([0.5, 0.5, 0.5, 0.5, 0.5])"
            ]
          },
          "metadata": {},
          "execution_count": 27
        }
      ],
      "source": [
        "A=np.array([1,2,-3,4])\n",
        "B=np.array([2,5,8,9])\n",
        "print(\"Adding 2 arrays\")\n",
        "print(np.add(A,B,out=B),'\\n')\n",
        "print(\"Multiplying 2 arrays\")\n",
        "print(np.multiply(A,B,out=B),'\\n')\n",
        "print(\"Negate the elements\")\n",
        "print(np.negative(A,out=A),'\\n')\n",
        "\n",
        "#Creating with ones to work on divide\n",
        "a=np.ones(5)\n",
        "b=np.ones(5)\n",
        "print(\"Dividing the elements\")\n",
        "np.divide(a,2,out=a)"
      ]
    },
    {
      "cell_type": "markdown",
      "metadata": {
        "id": "zwvIUzpQODY8"
      },
      "source": [
        "#### 36. Extract the integer part of a random array using 5 different methods (★★☆) \n",
        "(**hint**: %, np.floor, np.ceil, astype, np.trunc)"
      ]
    },
    {
      "cell_type": "code",
      "execution_count": null,
      "metadata": {
        "id": "-f1GsBhKODY8",
        "colab": {
          "base_uri": "https://localhost:8080/"
        },
        "outputId": "4f614a3f-1517-49ac-d65e-ed1e6b311217"
      },
      "outputs": [
        {
          "output_type": "stream",
          "name": "stdout",
          "text": [
            "Creating an array with 3X4 matrix with random values \n",
            " \n",
            "[[74.31586729 34.30446582 34.4359062  51.13261158]\n",
            " [55.50137233 48.00601363 78.10225669 66.24492547]\n",
            " [ 2.88736963 80.67280246 97.27828155 43.95271413]] \n",
            "\n",
            "floor - Rounds off to the least value\n",
            "[[74. 34. 34. 51.]\n",
            " [55. 48. 78. 66.]\n",
            " [ 2. 80. 97. 43.]] \n",
            "\n",
            "ceil - Rounds off with the highest value\n",
            "[[75. 35. 35. 52.]\n",
            " [56. 49. 79. 67.]\n",
            " [ 3. 81. 98. 44.]] \n",
            "\n",
            "trunc - Truncates the decimal value\n",
            "[[74. 34. 34. 51.]\n",
            " [55. 48. 78. 66.]\n",
            " [ 2. 80. 97. 43.]] \n",
            "\n",
            "astype - gives the integer value of elements\n",
            "[[74 34 34 51]\n",
            " [55 48 78 66]\n",
            " [ 2 80 97 43]] \n",
            "\n",
            "using % to round off values\n",
            "[[74. 34. 34. 51.]\n",
            " [55. 48. 78. 66.]\n",
            " [ 2. 80. 97. 43.]]\n"
          ]
        }
      ],
      "source": [
        "print('Creating an array with 3X4 matrix with random values \\n ')\n",
        "x=100*np.random.random((3,4))\n",
        "print(x,'\\n')\n",
        "\n",
        "#x=np.floor(100*np.random.random((3,4)))\n",
        "#print(x)\n",
        "\n",
        "print(\"floor - Rounds off to the least value\")\n",
        "y=np.floor(x)\n",
        "print(y,'\\n')\n",
        "\n",
        "z=np.ceil(x)\n",
        "print(\"ceil - Rounds off with the highest value\")\n",
        "print(z,'\\n')\n",
        "\n",
        "t=np.trunc(x)\n",
        "print(\"trunc - Truncates the decimal value\")\n",
        "print(t,'\\n')\n",
        "\n",
        "r=x.astype(int)\n",
        "print('astype - gives the integer value of elements')\n",
        "print(r,'\\n')\n",
        "\n",
        "print('using % to round off values')\n",
        "print(x-x%1)"
      ]
    },
    {
      "cell_type": "markdown",
      "metadata": {
        "id": "wPH5UrOEODY8"
      },
      "source": [
        "#### 37. Create a 5x5 matrix with row values ranging from 0 to 4 (★★☆) \n",
        "(**hint**: np.arange)"
      ]
    },
    {
      "cell_type": "code",
      "execution_count": null,
      "metadata": {
        "id": "NUipFTcfODY8",
        "colab": {
          "base_uri": "https://localhost:8080/"
        },
        "outputId": "e9817ca5-db1c-4ea8-ba54-3d85729c7113"
      },
      "outputs": [
        {
          "output_type": "execute_result",
          "data": {
            "text/plain": [
              "array([[0, 1, 2, 3, 4],\n",
              "       [0, 1, 2, 3, 4],\n",
              "       [0, 1, 2, 3, 4],\n",
              "       [0, 1, 2, 3, 4],\n",
              "       [0, 1, 2, 3, 4]])"
            ]
          },
          "metadata": {},
          "execution_count": 62
        }
      ],
      "source": [
        "x=np.arange(0,5)\n",
        "y=np.array([x,x,x,x,x])\n",
        "y.reshape((5,5))\n"
      ]
    },
    {
      "cell_type": "markdown",
      "metadata": {
        "id": "SYwg6aOhODY8"
      },
      "source": [
        "#### 38. Consider a generator function that generates 10 integers and use it to build an array (★☆☆) \n",
        "(**hint**: np.fromiter)"
      ]
    },
    {
      "cell_type": "code",
      "execution_count": null,
      "metadata": {
        "id": "uJ2n7FEZODY9",
        "colab": {
          "base_uri": "https://localhost:8080/"
        },
        "outputId": "ceb442f6-ae4b-48b1-a827-7ca0b6f77d30"
      },
      "outputs": [
        {
          "output_type": "stream",
          "name": "stdout",
          "text": [
            "[ 1  2  3  4  5  6  7  8  9 10]\n"
          ]
        }
      ],
      "source": [
        "#creating a function called generator\n",
        "\n",
        "def generator():\n",
        "  for x in range(1,11):\n",
        "    yield x\n",
        "\n",
        "#Using fromiter method to generate the elements\n",
        "y=np.fromiter(generator(),dtype=int)\n",
        "print(y)\n",
        "\n"
      ]
    },
    {
      "cell_type": "markdown",
      "metadata": {
        "id": "9Md52u9xODY9"
      },
      "source": [
        "#### 39. Create a vector of size 10 with values ranging from 0 to 1, both excluded (★★☆) \n",
        "(**hint**: np.linspace)"
      ]
    },
    {
      "cell_type": "code",
      "execution_count": null,
      "metadata": {
        "id": "fxRbihe8ODY9",
        "colab": {
          "base_uri": "https://localhost:8080/"
        },
        "outputId": "43a611d4-45da-4f60-98e2-1dec704fcd15"
      },
      "outputs": [
        {
          "output_type": "stream",
          "name": "stdout",
          "text": [
            "[0.1 0.2 0.3 0.4 0.5 0.6 0.7 0.8 0.9]\n"
          ]
        }
      ],
      "source": [
        "x=np.linspace(0,1,10,endpoint=False)[1:]\n",
        "\n",
        "#endpoint=False is not taking the endpoint we gave here\n",
        "#we are using the slicing method and removing the start point here\n",
        "\n",
        "print(x)"
      ]
    },
    {
      "cell_type": "markdown",
      "metadata": {
        "id": "l9BtxVrRODY9"
      },
      "source": [
        "#### 40. Create a random vector of size 10 and sort it (★★☆) \n",
        "(**hint**: sort)"
      ]
    },
    {
      "cell_type": "code",
      "execution_count": null,
      "metadata": {
        "id": "XGEYOgyRODY9",
        "colab": {
          "base_uri": "https://localhost:8080/"
        },
        "outputId": "4a3732f0-18d2-4be3-f593-c5850de2994a"
      },
      "outputs": [
        {
          "output_type": "stream",
          "name": "stdout",
          "text": [
            "Random vector of size 10\n",
            "[80  9 63 34 96 58 35 66 26 18] \n",
            "\n",
            "Sorted using the method sort()\n",
            "[ 9 18 26 34 35 58 63 66 80 96]\n"
          ]
        }
      ],
      "source": [
        "#creating a vector with random elements\n",
        "print('Random vector of size 10')\n",
        "v=np.random.randint(1,100,size=10)\n",
        "print(v,'\\n')\n",
        "\n",
        "#using the sort function to sort it\n",
        "v.sort()\n",
        "print('Sorted using the method sort()')\n",
        "print(v)\n"
      ]
    },
    {
      "cell_type": "markdown",
      "metadata": {
        "id": "P9xcMlhuODY9"
      },
      "source": [
        "#### 41. How to sum a small array faster than np.sum? (★★☆) \n",
        "(**hint**: np.add.reduce)"
      ]
    },
    {
      "cell_type": "code",
      "execution_count": null,
      "metadata": {
        "id": "e86MXTvYODY9",
        "colab": {
          "base_uri": "https://localhost:8080/"
        },
        "outputId": "2b412cd2-b5a1-47cb-f043-fe338235ff3d"
      },
      "outputs": [
        {
          "output_type": "stream",
          "name": "stdout",
          "text": [
            "Time taken to execute with np.sum()\n",
            "0.8785724639892578 \n",
            "\n",
            "Time taken to execute with np.add.reduce()\n",
            "0.1933574676513672 \n",
            "\n",
            "It is clear that the time taken with the method np.sum() is more than that of with the method np.add.reduce() \n"
          ]
        }
      ],
      "source": [
        "import time\n",
        "\n",
        "start_time=time.time()    #the start before starting the execution is noted\n",
        "x=np.arange(100)          #An array created with 100 elements\n",
        "x=np.sum(x)               #sum of the elements are calculated using sum() method\n",
        "end_time=time.time()      #the end time after the execution is also noted\n",
        "Execution_time=end_time-start_time\n",
        "print(\"Time taken to execute with np.sum()\")\n",
        "print(1000*Execution_time,'\\n')\n",
        "\n",
        "start_time2=time.time()    #same as above with np.add.reduce() method\n",
        "y=np.arange(100)\n",
        "y=np.add.reduce(y)\n",
        "end_time2=time.time()\n",
        "Execution_time2=end_time2-start_time2\n",
        "print(\"Time taken to execute with np.add.reduce()\")\n",
        "print(1000*Execution_time2,'\\n')\n",
        "\n",
        "print(\"It is clear that the time taken with the method np.sum() is more than that of with the method np.add.reduce() \")\n",
        "\n"
      ]
    },
    {
      "cell_type": "markdown",
      "metadata": {
        "id": "Ac5wxH7ZODY9"
      },
      "source": [
        "#### 42. Consider two random array A and B, check if they are equal (★★☆) \n",
        "(**hint**: np.allclose, np.array\\_equal)"
      ]
    },
    {
      "cell_type": "code",
      "execution_count": null,
      "metadata": {
        "id": "bdXSsXBhODY9",
        "colab": {
          "base_uri": "https://localhost:8080/"
        },
        "outputId": "b5868b68-4b56-4c6e-df99-8bd0be77fde4"
      },
      "outputs": [
        {
          "output_type": "stream",
          "name": "stdout",
          "text": [
            "Using method np.array_equal\n",
            "True\n",
            "Using method np.allclose\n",
            "True\n",
            "The result is true as the elements are the same\n"
          ]
        }
      ],
      "source": [
        "#created 2 arrays with the same set of elements\n",
        "A=np.array([1,3,5,7])\n",
        "B=np.array([1,3,5,7])\n",
        "print(\"Using method np.array_equal\")\n",
        "print(np.array_equal(A,B))\n",
        "\n",
        "print(\"Using method np.allclose\")\n",
        "print(np.allclose(A,B))\n",
        "\n",
        "print(\"The result is true as the elements are the same\")"
      ]
    },
    {
      "cell_type": "markdown",
      "metadata": {
        "id": "oGUqylX3ODY9"
      },
      "source": [
        "#### 43. Make an array immutable (read-only) (★★☆) \n",
        "(**hint**: flags.writeable)"
      ]
    },
    {
      "cell_type": "code",
      "execution_count": null,
      "metadata": {
        "id": "jrDjeKJXODY-",
        "colab": {
          "base_uri": "https://localhost:8080/",
          "height": 374
        },
        "outputId": "5ef68a1e-f0df-42a1-a4a8-622f68383a20"
      },
      "outputs": [
        {
          "output_type": "stream",
          "name": "stdout",
          "text": [
            "Creating an array with 5 elements\n",
            "[1 2 3 4 5] \n",
            "\n",
            "Changing the first index value to 100\n",
            "[  1 100   3   4   5] \n",
            "\n",
            "Making the array 'Read-only' using setflags \n",
            "\n",
            "Now x has become Read-only and we cannot change the values of elements\n",
            "Assigning value to an index gives the following error\n"
          ]
        },
        {
          "output_type": "error",
          "ename": "ValueError",
          "evalue": "ignored",
          "traceback": [
            "\u001b[0;31m---------------------------------------------------------------------------\u001b[0m",
            "\u001b[0;31mValueError\u001b[0m                                Traceback (most recent call last)",
            "\u001b[0;32m<ipython-input-35-a55b57b10927>\u001b[0m in \u001b[0;36m<module>\u001b[0;34m\u001b[0m\n\u001b[1;32m      9\u001b[0m \u001b[0mprint\u001b[0m\u001b[0;34m(\u001b[0m\u001b[0;34m'Now x has become Read-only and we cannot change the values of elements'\u001b[0m\u001b[0;34m)\u001b[0m\u001b[0;34m\u001b[0m\u001b[0;34m\u001b[0m\u001b[0m\n\u001b[1;32m     10\u001b[0m \u001b[0mprint\u001b[0m\u001b[0;34m(\u001b[0m\u001b[0;34m\"Assigning value to an index gives the following error\"\u001b[0m\u001b[0;34m)\u001b[0m\u001b[0;34m\u001b[0m\u001b[0;34m\u001b[0m\u001b[0m\n\u001b[0;32m---> 11\u001b[0;31m \u001b[0mx\u001b[0m\u001b[0;34m[\u001b[0m\u001b[0;36m4\u001b[0m\u001b[0;34m]\u001b[0m\u001b[0;34m=\u001b[0m\u001b[0;36m100\u001b[0m\u001b[0;34m\u001b[0m\u001b[0;34m\u001b[0m\u001b[0m\n\u001b[0m",
            "\u001b[0;31mValueError\u001b[0m: assignment destination is read-only"
          ]
        }
      ],
      "source": [
        "print('Creating an array with 5 elements')\n",
        "x=np.array([1,2,3,4,5])\n",
        "print(x,'\\n')\n",
        "print('Changing the first index value to 100')\n",
        "x[1]=100\n",
        "print(x,'\\n')\n",
        "print(\"Making the array 'Read-only' using setflags \\n\")\n",
        "x.setflags(write=False)\n",
        "print('Now x has become Read-only and we cannot change the values of elements')\n",
        "print(\"Assigning value to an index gives the following error\")\n",
        "x[4]=100\n"
      ]
    },
    {
      "cell_type": "markdown",
      "metadata": {
        "id": "PKGbWggXODY-"
      },
      "source": [
        "#### 44. Consider a random 10x2 matrix representing cartesian coordinates, convert them to polar coordinates (★★☆) \n",
        "(**hint**: np.sqrt, np.arctan2)"
      ]
    },
    {
      "cell_type": "code",
      "execution_count": null,
      "metadata": {
        "id": "ZEcY_ZhCODY-",
        "colab": {
          "base_uri": "https://localhost:8080/"
        },
        "outputId": "fb2b1c2b-6771-458e-8472-5cfbe4883438"
      },
      "outputs": [
        {
          "output_type": "stream",
          "name": "stdout",
          "text": [
            "Random 10x2 matrix created\n",
            "[0.15597871 0.52612687 0.23874931 0.89383201 0.34289466 0.10385084\n",
            " 0.47589817 0.78718287 0.71842061 0.92671921] \n",
            "\n",
            "Cartesian coordinates are rectangular coordinate system\n",
            "To find the co-ordinates, we need to use the regular trignometry theorem\n",
            "r=square root of (x^2+y^2)\n",
            "using the function sqrt \n",
            "\n",
            "[0.54105975 0.92879487 0.68807929 0.62596023 1.02238855 0.85645441\n",
            " 0.85132205 1.14661968 0.57812862 1.1866514 ] \n",
            "\n",
            "Polar co-ordinates uses both the tetha and the radial distance\n",
            "It is the inverse tangent function which is the arctangent\n",
            "using the function arctan2 to get the inverse tangent function \n",
            "\n",
            "[0.21980612 1.07013331 0.1775162  1.52825019 0.66223588 0.01026502\n",
            " 0.29427909 0.84581481 0.66255805 0.94843159]\n"
          ]
        }
      ],
      "source": [
        "#creating a random matrix of 10x2 matrix\n",
        "print(\"Random 10x2 matrix created\")\n",
        "z=np.random.random((10,2))\n",
        "print(x,'\\n')\n",
        "x,y=z[:,0],z[:,1]\n",
        "print(\"Cartesian coordinates are rectangular coordinate system\")\n",
        "print(\"To find the co-ordinates, we need to use the regular trignometry theorem\")\n",
        "print(\"r=square root of (x^2+y^2)\")\n",
        "print(\"using the function sqrt \\n\")\n",
        "r=np.sqrt(x**2+y**2)\n",
        "print(r ,'\\n')\n",
        "\n",
        "print(\"Polar co-ordinates uses both the tetha and the radial distance\")\n",
        "print(\"It is the inverse tangent function which is the arctangent\")\n",
        "print(\"using the function arctan2 to get the inverse tangent function \\n\")\n",
        "t=np.arctan2(y,x)\n",
        "print(t)"
      ]
    },
    {
      "cell_type": "markdown",
      "metadata": {
        "id": "7UJUnE_FODY-"
      },
      "source": [
        "#### 45. Create random vector of size 10 and replace the maximum value by 0 (★★☆) \n",
        "(**hint**: argmax)"
      ]
    },
    {
      "cell_type": "code",
      "execution_count": null,
      "metadata": {
        "id": "1armKFdVODY-",
        "colab": {
          "base_uri": "https://localhost:8080/"
        },
        "outputId": "d08ce70e-2c2d-4760-e373-8d00f439cb67"
      },
      "outputs": [
        {
          "output_type": "stream",
          "name": "stdout",
          "text": [
            "[26 58 58 89 85 61  5 44 42 33] \n",
            "\n",
            "Max value replaced to zero\n",
            "[26 58 58  0 85 61  5 44 42 33]\n"
          ]
        }
      ],
      "source": [
        "#creating a random vecotr of size 10\n",
        "x=np.random.randint(1,100,size=10)\n",
        "print(x,'\\n')\n",
        "\n",
        "#argmax method gives the index value of the max element\n",
        "#Assigning the max element to 0\n",
        "print(\"Max value replaced to zero\")\n",
        "x[x.argmax()]=0\n",
        "print(x)"
      ]
    },
    {
      "cell_type": "markdown",
      "metadata": {
        "id": "9xJmCXrYODY-"
      },
      "source": [
        "#### 46. Create a structured array with `x` and `y` coordinates covering the \\[0,1\\]x\\[0,1\\] area (★★☆) \n",
        "(**hint**: np.meshgrid)"
      ]
    },
    {
      "cell_type": "code",
      "execution_count": null,
      "metadata": {
        "id": "1qpnYkTGODY-",
        "colab": {
          "base_uri": "https://localhost:8080/"
        },
        "outputId": "97193940-f7c8-4c88-ef3b-2f1655682e1d"
      },
      "outputs": [
        {
          "output_type": "stream",
          "name": "stdout",
          "text": [
            "[[(0. , 0. ) (0.5, 0. ) (1. , 0. )]\n",
            " [(0. , 0.5) (0.5, 0.5) (1. , 0.5)]\n",
            " [(0. , 1. ) (0.5, 1. ) (1. , 1. )]]\n"
          ]
        }
      ],
      "source": [
        "z=np.ones((3,3),[('x',float),('y',float)])   #creating a 3x3 array and assigning x and y datatype as float\n",
        "x=np.linspace(0,1,3)   #giving the values of x and y between 0 and 1\n",
        "y=np.linspace(0,1,3)\n",
        "z['x'],z['y']=np.meshgrid(x,y)  #using meshgrid to create z with x and y co-ordinates\n",
        "print(z)\n"
      ]
    },
    {
      "cell_type": "markdown",
      "metadata": {
        "id": "UVxLl3yVODY-"
      },
      "source": [
        "####  47. Given two arrays, X and Y, construct the Cauchy matrix C (Cij =1/(xi - yj)) \n",
        "(**hint**: np.subtract.outer)"
      ]
    },
    {
      "cell_type": "code",
      "execution_count": null,
      "metadata": {
        "id": "wWnVLx7fODY-",
        "colab": {
          "base_uri": "https://localhost:8080/"
        },
        "outputId": "bd343ea9-073e-4ae0-c2b5-010f340724c7"
      },
      "outputs": [
        {
          "output_type": "stream",
          "name": "stdout",
          "text": [
            "Cauchy Matrix\n",
            "Matrix - x\n",
            "[[0.62070252 0.44263946 0.60391274]\n",
            " [0.16563792 0.32023522 0.36945902]\n",
            " [0.55693712 0.80891827 0.80033218]] \n",
            "\n",
            "Matrix - y\n",
            "[[0.18760144 0.61110621 0.50972593]\n",
            " [0.80636747 0.44170362 0.29148364]\n",
            " [0.88574843 0.10347891 0.90361207]] \n",
            "\n",
            "Cauchy matrix = aij=1/xi-yj\n",
            "linalg method is used to compute the determinant of an array\n",
            "[[ -3141.18430111 -44866.85366082   3932.54496136]\n",
            " [ -5976.35154996   -752.92436636    250.37479223]\n",
            " [   706.47414624  22727.13592332  -9354.3388381 ]]\n"
          ]
        }
      ],
      "source": [
        "#Cauchy matrix is an m×n matrix with elements aij in the form\n",
        "#aij=1/xi-yj  where i and j >1 , i<m and j<n\n",
        "\n",
        "print(\"Cauchy Matrix\")\n",
        "print(\"Matrix - x\")\n",
        "x = np.random.random((3,3))\n",
        "print(x, '\\n')\n",
        "print(\"Matrix - y\")\n",
        "y = np.random.random((3,3))\n",
        "print(y, '\\n')\n",
        "print(\"Cauchy matrix = aij=1/xi-yj\")\n",
        "z=np.subtract.outer(x,y)\n",
        "c = 1 / z\n",
        "#using linear algebra to compute the determinant of an array\n",
        "print(\"linalg method is used to compute the determinant of an array\")\n",
        "print(np.linalg.det(c))"
      ]
    },
    {
      "cell_type": "markdown",
      "metadata": {
        "id": "_UC2MJKwODY-"
      },
      "source": [
        "#### 48. Print the minimum and maximum representable value for each numpy scalar type (★★☆) \n",
        "(**hint**: np.iinfo, np.finfo, eps)"
      ]
    },
    {
      "cell_type": "code",
      "execution_count": null,
      "metadata": {
        "id": "vGMXX1EiODY-",
        "colab": {
          "base_uri": "https://localhost:8080/"
        },
        "outputId": "b75d8f27-bb8d-4a88-b99b-41f171aee565"
      },
      "outputs": [
        {
          "output_type": "stream",
          "name": "stdout",
          "text": [
            "-128\n",
            "127\n",
            "-2147483648\n",
            "2147483647\n",
            "-9223372036854775808\n",
            "9223372036854775807\n",
            "-3.4028235e+38\n",
            "3.4028235e+38\n",
            "1.1920929e-07\n",
            "-1.7976931348623157e+308\n",
            "1.7976931348623157e+308\n",
            "2.220446049250313e-16\n"
          ]
        }
      ],
      "source": [
        "for dtype in [np.int8, np.int32, np.int64]:\n",
        "   print(np.iinfo(dtype).min)\n",
        "   print(np.iinfo(dtype).max)\n",
        "for dtype in [np.float32, np.float64]:\n",
        "   print(np.finfo(dtype).min)\n",
        "   print(np.finfo(dtype).max)\n",
        "   print(np.finfo(dtype).eps)"
      ]
    },
    {
      "cell_type": "markdown",
      "metadata": {
        "id": "Mwkv3OyEODY-"
      },
      "source": [
        "\n",
        "#### 49. How to print all the values of an array? (★★☆) \n",
        "(**hint**: np.set\\_printoptions)"
      ]
    },
    {
      "cell_type": "code",
      "execution_count": null,
      "metadata": {
        "id": "aievebgbODY_",
        "colab": {
          "base_uri": "https://localhost:8080/"
        },
        "outputId": "19b86cf4-b535-4efc-abaa-8a83beff062b"
      },
      "outputs": [
        {
          "output_type": "stream",
          "name": "stdout",
          "text": [
            "Values printed in a single line with three dots...\n",
            "[   0    1    2 ...  998  999 1000] \n",
            "\n",
            "Now printing all the values here\n",
            "[   0    1    2    3    4    5    6    7    8    9   10   11   12   13\n",
            "   14   15   16   17   18   19   20   21   22   23   24   25   26   27\n",
            "   28   29   30   31   32   33   34   35   36   37   38   39   40   41\n",
            "   42   43   44   45   46   47   48   49   50   51   52   53   54   55\n",
            "   56   57   58   59   60   61   62   63   64   65   66   67   68   69\n",
            "   70   71   72   73   74   75   76   77   78   79   80   81   82   83\n",
            "   84   85   86   87   88   89   90   91   92   93   94   95   96   97\n",
            "   98   99  100  101  102  103  104  105  106  107  108  109  110  111\n",
            "  112  113  114  115  116  117  118  119  120  121  122  123  124  125\n",
            "  126  127  128  129  130  131  132  133  134  135  136  137  138  139\n",
            "  140  141  142  143  144  145  146  147  148  149  150  151  152  153\n",
            "  154  155  156  157  158  159  160  161  162  163  164  165  166  167\n",
            "  168  169  170  171  172  173  174  175  176  177  178  179  180  181\n",
            "  182  183  184  185  186  187  188  189  190  191  192  193  194  195\n",
            "  196  197  198  199  200  201  202  203  204  205  206  207  208  209\n",
            "  210  211  212  213  214  215  216  217  218  219  220  221  222  223\n",
            "  224  225  226  227  228  229  230  231  232  233  234  235  236  237\n",
            "  238  239  240  241  242  243  244  245  246  247  248  249  250  251\n",
            "  252  253  254  255  256  257  258  259  260  261  262  263  264  265\n",
            "  266  267  268  269  270  271  272  273  274  275  276  277  278  279\n",
            "  280  281  282  283  284  285  286  287  288  289  290  291  292  293\n",
            "  294  295  296  297  298  299  300  301  302  303  304  305  306  307\n",
            "  308  309  310  311  312  313  314  315  316  317  318  319  320  321\n",
            "  322  323  324  325  326  327  328  329  330  331  332  333  334  335\n",
            "  336  337  338  339  340  341  342  343  344  345  346  347  348  349\n",
            "  350  351  352  353  354  355  356  357  358  359  360  361  362  363\n",
            "  364  365  366  367  368  369  370  371  372  373  374  375  376  377\n",
            "  378  379  380  381  382  383  384  385  386  387  388  389  390  391\n",
            "  392  393  394  395  396  397  398  399  400  401  402  403  404  405\n",
            "  406  407  408  409  410  411  412  413  414  415  416  417  418  419\n",
            "  420  421  422  423  424  425  426  427  428  429  430  431  432  433\n",
            "  434  435  436  437  438  439  440  441  442  443  444  445  446  447\n",
            "  448  449  450  451  452  453  454  455  456  457  458  459  460  461\n",
            "  462  463  464  465  466  467  468  469  470  471  472  473  474  475\n",
            "  476  477  478  479  480  481  482  483  484  485  486  487  488  489\n",
            "  490  491  492  493  494  495  496  497  498  499  500  501  502  503\n",
            "  504  505  506  507  508  509  510  511  512  513  514  515  516  517\n",
            "  518  519  520  521  522  523  524  525  526  527  528  529  530  531\n",
            "  532  533  534  535  536  537  538  539  540  541  542  543  544  545\n",
            "  546  547  548  549  550  551  552  553  554  555  556  557  558  559\n",
            "  560  561  562  563  564  565  566  567  568  569  570  571  572  573\n",
            "  574  575  576  577  578  579  580  581  582  583  584  585  586  587\n",
            "  588  589  590  591  592  593  594  595  596  597  598  599  600  601\n",
            "  602  603  604  605  606  607  608  609  610  611  612  613  614  615\n",
            "  616  617  618  619  620  621  622  623  624  625  626  627  628  629\n",
            "  630  631  632  633  634  635  636  637  638  639  640  641  642  643\n",
            "  644  645  646  647  648  649  650  651  652  653  654  655  656  657\n",
            "  658  659  660  661  662  663  664  665  666  667  668  669  670  671\n",
            "  672  673  674  675  676  677  678  679  680  681  682  683  684  685\n",
            "  686  687  688  689  690  691  692  693  694  695  696  697  698  699\n",
            "  700  701  702  703  704  705  706  707  708  709  710  711  712  713\n",
            "  714  715  716  717  718  719  720  721  722  723  724  725  726  727\n",
            "  728  729  730  731  732  733  734  735  736  737  738  739  740  741\n",
            "  742  743  744  745  746  747  748  749  750  751  752  753  754  755\n",
            "  756  757  758  759  760  761  762  763  764  765  766  767  768  769\n",
            "  770  771  772  773  774  775  776  777  778  779  780  781  782  783\n",
            "  784  785  786  787  788  789  790  791  792  793  794  795  796  797\n",
            "  798  799  800  801  802  803  804  805  806  807  808  809  810  811\n",
            "  812  813  814  815  816  817  818  819  820  821  822  823  824  825\n",
            "  826  827  828  829  830  831  832  833  834  835  836  837  838  839\n",
            "  840  841  842  843  844  845  846  847  848  849  850  851  852  853\n",
            "  854  855  856  857  858  859  860  861  862  863  864  865  866  867\n",
            "  868  869  870  871  872  873  874  875  876  877  878  879  880  881\n",
            "  882  883  884  885  886  887  888  889  890  891  892  893  894  895\n",
            "  896  897  898  899  900  901  902  903  904  905  906  907  908  909\n",
            "  910  911  912  913  914  915  916  917  918  919  920  921  922  923\n",
            "  924  925  926  927  928  929  930  931  932  933  934  935  936  937\n",
            "  938  939  940  941  942  943  944  945  946  947  948  949  950  951\n",
            "  952  953  954  955  956  957  958  959  960  961  962  963  964  965\n",
            "  966  967  968  969  970  971  972  973  974  975  976  977  978  979\n",
            "  980  981  982  983  984  985  986  987  988  989  990  991  992  993\n",
            "  994  995  996  997  998  999 1000]\n"
          ]
        }
      ],
      "source": [
        "x=np.arange(1001)\n",
        "print(\"Values printed in a single line with three dots...\")\n",
        "print(x,'\\n')\n",
        "\n",
        "from numpy import sys   #importing sys to use the maxsize\n",
        "np.set_printoptions(threshold=sys.maxsize) #using set_printoptions\n",
        "print(\"Now printing all the values here\")\n",
        "print(x)"
      ]
    },
    {
      "cell_type": "markdown",
      "metadata": {
        "id": "wKRO5j7gODY_"
      },
      "source": [
        "#### 50. How to find the closest value (to a given scalar) in a vector? (★★☆) \n",
        "(**hint**: argmin)"
      ]
    },
    {
      "cell_type": "code",
      "execution_count": null,
      "metadata": {
        "id": "UsJ0aGX5ODY_",
        "colab": {
          "base_uri": "https://localhost:8080/"
        },
        "outputId": "c524e0dc-bf24-49e3-f9ec-977aa7eb2345"
      },
      "outputs": [
        {
          "output_type": "stream",
          "name": "stdout",
          "text": [
            "Random array z is created ranging 0 to 100 \n",
            "\n",
            "Random float value created within 100\n",
            "88.59131335382027 \n",
            "\n",
            "Minimum element index value of the closest using argmin\n",
            "89 \n",
            "\n",
            "Maximum element index value of the closest using argmax\n",
            "89\n"
          ]
        }
      ],
      "source": [
        "#Generated an array ranging from 0 to 100\n",
        "Z = np.arange(100)\n",
        "print(\"Random array z is created ranging 0 to 100 \\n\")\n",
        "\n",
        "#Randomly generating a float value\n",
        "i = np.random.uniform(0,100)\n",
        "print(\"Random float value created within 100\")\n",
        "print(i,'\\n')\n",
        "\n",
        "#using minimum index value to the closest\n",
        "print(\"Minimum element index value of the closest using argmin\")\n",
        "index = (np.abs(Z-i)).argmin()\n",
        "print(Z[index],'\\n')\n",
        "\n",
        "#using maximum index value to the closest\n",
        "print(\"Maximum element index value of the closest using argmax\")\n",
        "index1=(np.abs(Z+i)).argmax()\n",
        "print(Z[index])"
      ]
    },
    {
      "cell_type": "markdown",
      "metadata": {
        "id": "CqZHjcS6ODY_"
      },
      "source": [
        "#### 51. Create a structured array representing a position (x,y) and a color (r,g,b) (★★☆) \n",
        "(**hint**: dtype)"
      ]
    },
    {
      "cell_type": "code",
      "execution_count": null,
      "metadata": {
        "id": "1NMzwNmiODY_",
        "colab": {
          "base_uri": "https://localhost:8080/"
        },
        "outputId": "4c9222be-107a-4f78-98a7-518285574719"
      },
      "outputs": [
        {
          "output_type": "stream",
          "name": "stdout",
          "text": [
            "[[((1, 1), (1., 1., 1.)) ((1, 1), (1., 1., 1.)) ((1, 1), (1., 1., 1.))]\n",
            " [((1, 1), (1., 1., 1.)) ((1, 1), (1., 1., 1.)) ((1, 1), (1., 1., 1.))]\n",
            " [((1, 1), (1., 1., 1.)) ((1, 1), (1., 1., 1.)) ((1, 1), (1., 1., 1.))]\n",
            " [((1, 1), (1., 1., 1.)) ((1, 1), (1., 1., 1.)) ((1, 1), (1., 1., 1.))]]\n"
          ]
        }
      ],
      "source": [
        "#Creating a structured array with size 12\n",
        "z = np.ones(12, [ ('position', [ ('x', int),\n",
        "                                  ('y', int)]),\n",
        "                   ('color',    [ ('r', float),\n",
        "                                  ('g', float),\n",
        "                                  ('b', float)])]).reshape(4,3)\n",
        "                                  #reshaping to 4x3 array\n",
        "print(z)"
      ]
    },
    {
      "cell_type": "markdown",
      "metadata": {
        "id": "fwtWuSW4ODY_"
      },
      "source": [
        "#### 52. Consider a random vector with shape (100,2) representing coordinates, find point by point distances (★★☆) \n",
        "(**hint**: np.atleast\\_2d, T, np.sqrt)"
      ]
    },
    {
      "cell_type": "code",
      "execution_count": null,
      "metadata": {
        "id": "kUvOjb6TODY_",
        "colab": {
          "base_uri": "https://localhost:8080/"
        },
        "outputId": "4323e66a-6559-45d2-9493-3524b7c5c7b7"
      },
      "outputs": [
        {
          "output_type": "stream",
          "name": "stdout",
          "text": [
            "[[0.         0.79386062 0.07402388 0.38341611 0.65886615 0.93531665\n",
            "  0.6260326  0.41570803 0.76750358 0.55145241 0.41467622 0.64635163\n",
            "  0.90723031 0.78770387 0.67040211 0.70969747 0.65907135 0.66889673\n",
            "  0.70821877 0.87535924 0.92669296 0.35812193 0.90316179 0.712835\n",
            "  0.79623303 1.03694813 0.34798357 0.42338435 0.41344607 0.50792698\n",
            "  0.56867968 0.84437364 1.17611528 1.0218338  0.20974636 0.29440524\n",
            "  0.60104083 0.93353285 0.98023967 0.40036081 0.60823757 0.93692692\n",
            "  0.35657088 1.05791834 0.1708523  0.65513493 0.72752502 0.17066469\n",
            "  0.7424875  0.79516563 0.8826102  0.50529698 0.18905813 0.69847716\n",
            "  0.3435699  0.43958638 0.57366731 0.35952879 0.25154567 0.96523164\n",
            "  0.13559247 0.49878872 0.78362571 0.22151197 1.0779325  0.99249087\n",
            "  1.11125454 0.7693134  0.79904465 0.84348425 0.22766364 0.88083129\n",
            "  0.7416034  0.77729894 0.14925202 0.81594172 0.70985157 0.55457157\n",
            "  0.58877779 0.72046392 0.7982592  0.73799668 0.77174465 0.92579852\n",
            "  0.48613135 0.568255   1.09583338 0.20610173 1.01666178 0.95381178\n",
            "  0.93903032 0.59069721 0.87425249 0.13838927 0.46630102 0.89813751\n",
            "  0.78562844 0.74313449 0.91592842 0.25152696]\n",
            " [0.79386062 0.         0.81393847 0.4632432  0.2023654  0.18279666\n",
            "  0.46118711 0.43474296 0.63339567 0.30420476 0.48233032 0.63647879\n",
            "  0.37423328 0.05380502 0.40385776 0.46473459 0.13664765 0.15191355\n",
            "  0.62890306 0.54195471 0.19782752 0.53662748 0.20200886 0.19103026\n",
            "  0.65879743 0.24863772 0.73497074 0.44637408 0.70260953 0.3417877\n",
            "  0.36606459 0.06982114 0.38241632 0.23296324 0.68402523 0.61080029\n",
            "  0.2562692  0.18852061 0.1867453  0.66409412 0.5631667  0.14529671\n",
            "  0.70208089 0.27992164 0.68656401 0.38241273 0.32525859 0.80842552\n",
            "  0.69936409 0.10852192 0.53210334 0.63835162 0.68578176 0.30017952\n",
            "  0.51442489 0.3850986  0.52011802 0.63821014 0.59688558 0.25461928\n",
            "  0.92426169 0.43601631 0.6801035  0.78205528 0.29553394 0.20210244\n",
            "  0.33196438 0.51701059 0.70909087 0.14241239 0.58438007 0.16486589\n",
            "  0.36702745 0.28092748 0.64715453 0.70962651 0.3917225  0.64482452\n",
            "  0.20799917 0.10559803 0.71198115 0.16613263 0.63983377 0.31037371\n",
            "  0.58204844 0.26001646 0.30685006 0.60354725 0.23120102 0.28964802\n",
            "  0.15409051 0.29492066 0.59906996 0.71506524 0.54758318 0.31423063\n",
            "  0.68717474 0.58856181 0.30968293 0.78079609]\n",
            " [0.07402388 0.81393847 0.         0.37861169 0.6935667  0.94525911\n",
            "  0.6018597  0.41154584 0.7279708  0.55282199 0.46854676 0.71382222\n",
            "  0.89595736 0.80300645 0.72356289 0.76681369 0.67760263 0.6811144\n",
            "  0.77451216 0.93379894 0.95802736 0.3387462  0.9365078  0.71663785\n",
            "  0.86236755 1.06032749 0.42120718 0.41486115 0.48539648 0.50844699\n",
            "  0.55849315 0.86008212 1.1943535  1.03741636 0.27855537 0.35807237\n",
            "  0.63830168 0.96326405 0.99878323 0.35354465 0.57268974 0.95859303\n",
            "  0.30462829 1.08427024 0.14462864 0.70662383 0.71708663 0.24356569\n",
            "  0.81124086 0.80544703 0.9402926  0.57398941 0.15721311 0.69096613\n",
            "  0.33300813 0.44385978 0.63508009 0.31849913 0.23769173 0.96913697\n",
            "  0.15896577 0.55170889 0.74047017 0.295499   1.1033342  1.00895237\n",
            "  1.12299398 0.82872809 0.75393225 0.85163099 0.27487119 0.91206124\n",
            "  0.79174575 0.82073224 0.17074196 0.88381986 0.76200491 0.50965562\n",
            "  0.61343157 0.73371421 0.75287456 0.74356072 0.73176184 0.92142252\n",
            "  0.55150593 0.60242424 1.11914632 0.21116022 1.03114283 0.99195935\n",
            "  0.95436197 0.58916667 0.93580277 0.1097587  0.5289427  0.94091816\n",
            "  0.85316781 0.70705008 0.95762928 0.32554099]\n",
            " [0.38341611 0.4632432  0.37861169 0.         0.40534056 0.57289746\n",
            "  0.26687053 0.03293643 0.45202882 0.17589473 0.35448497 0.65217591\n",
            "  0.52414578 0.4414906  0.53584502 0.60122891 0.3294187  0.31705051\n",
            "  0.69041112 0.75962005 0.63623943 0.0797323  0.62312983 0.34002093\n",
            "  0.76566924 0.71137405 0.51770765 0.04325551 0.53632819 0.13149374\n",
            "  0.18625568 0.49802973 0.83234974 0.67234925 0.38355722 0.37231206\n",
            "  0.37106788 0.63570919 0.63985573 0.23102195 0.29354743 0.60759425\n",
            "  0.25256812 0.74272443 0.23707552 0.51033569 0.34448132 0.47277072\n",
            "  0.75178962 0.43505486 0.75972116 0.55476726 0.23114819 0.31508313\n",
            "  0.05131181 0.07903719 0.52778216 0.19030692 0.14244678 0.59158797\n",
            "  0.5185878  0.40041479 0.48333804 0.47908096 0.75877461 0.64579763\n",
            "  0.75159274 0.67317861 0.50703173 0.47798914 0.26301516 0.59195437\n",
            "  0.57462747 0.56157614 0.24024521 0.80502822 0.56177884 0.30130521\n",
            "  0.29270045 0.36998291 0.50770338 0.36823479 0.45788185 0.54366348\n",
            "  0.50162036 0.32637609 0.76894693 0.17789519 0.66432461 0.69538476\n",
            "  0.5899293  0.21060464 0.78707274 0.27020691 0.46018142 0.6687588\n",
            "  0.77356475 0.415348   0.67912551 0.49483354]\n",
            " [0.65886615 0.2023654  0.6935667  0.40534056 0.         0.38515134\n",
            "  0.51776615 0.3873415  0.7171794  0.31015091 0.29463865 0.43848888\n",
            "  0.54107874 0.23666083 0.21506674 0.28293961 0.15769848 0.21664081\n",
            "  0.43777964 0.39932489 0.26944233 0.48506306 0.24437095 0.3034912\n",
            "  0.47958107 0.39817725 0.54399331 0.40795494 0.50556067 0.3259774\n",
            "  0.39651156 0.27211923 0.55228281 0.42157759 0.51536914 0.43259826\n",
            "  0.06213928 0.27888461 0.36743016 0.63403698 0.6057875  0.31167008\n",
            "  0.65778104 0.40899688 0.58674347 0.19021278 0.43507986 0.64180764\n",
            "  0.50897683 0.28373228 0.39408261 0.43638737 0.59173928 0.39866178\n",
            "  0.4504449  0.33107642 0.31845707 0.59559901 0.51030062 0.45462788\n",
            "  0.78007545 0.23739066 0.76158107 0.607325   0.43121908 0.39018203\n",
            "  0.52492872 0.34594192 0.79042587 0.33191121 0.43426648 0.22416704\n",
            "  0.20502431 0.1598185  0.52289516 0.52929102 0.21494634 0.66322977\n",
            "  0.12076368 0.22098594 0.79265284 0.29708875 0.7239105  0.4935588\n",
            "  0.38081693 0.09114314 0.45523833 0.49495623 0.42344027 0.30005566\n",
            "  0.35055523 0.32928279 0.44557197 0.60875736 0.34795686 0.2636432\n",
            "  0.50374395 0.67141255 0.27518329 0.60176149]\n",
            " [0.93531665 0.18279666 0.94525911 0.57289746 0.38515134 0.\n",
            "  0.48016487 0.5408184  0.60503796 0.39756786 0.65878154 0.81751698\n",
            "  0.26672244 0.15837145 0.58276481 0.64031995 0.28792    0.26671486\n",
            "  0.80684232 0.69796577 0.28353011 0.6350672  0.30853352 0.23588072\n",
            "  0.83072495 0.21445663 0.91107254 0.54504344 0.88223872 0.44161572\n",
            "  0.42596984 0.11304865 0.27311903 0.11740834 0.8480641  0.78108378\n",
            "  0.4378535  0.26234227 0.12438652 0.73702249 0.58265515 0.15324018\n",
            "  0.78367564 0.26425091 0.80844619 0.56258713 0.31479554 0.96952212\n",
            "  0.87658325 0.14016412 0.68614823 0.82082946 0.80384125 0.31105174\n",
            "  0.62317581 0.5018363  0.70274339 0.72246148 0.71454468 0.08262536\n",
            "  1.06928657 0.61723989 0.65060069 0.94835976 0.26474963 0.10580726\n",
            "  0.1787278  0.68721159 0.67774653 0.09533925 0.74039509 0.27859186\n",
            "  0.53822865 0.4454101  0.78615745 0.88163467 0.56698501 0.67892746\n",
            "  0.37273463 0.21666146 0.681142   0.20577983 0.61063901 0.18115898\n",
            "  0.76414249 0.43719568 0.25255674 0.73479548 0.10354473 0.38764054\n",
            "  0.07000653 0.36934929 0.75890635 0.84011357 0.72892176 0.44382139\n",
            "  0.86097015 0.56517656 0.43128472 0.94966785]\n",
            " [0.6260326  0.46118711 0.6018597  0.26687053 0.51776615 0.48016487\n",
            "  0.         0.24414483 0.20557395 0.21261267 0.59102328 0.87345952\n",
            "  0.31744556 0.41521123 0.70742473 0.77796485 0.37382243 0.32340774\n",
            "  0.89979777 0.91495381 0.65899637 0.26813138 0.66051301 0.27224267\n",
            "  0.96390572 0.67453987 0.78173064 0.2241472  0.79424242 0.21652336\n",
            "  0.1249224  0.4575211  0.75247341 0.59676541 0.65042695 0.63461436\n",
            "  0.51435678 0.6491134  0.58648181 0.29113426 0.10384921 0.57867844\n",
            "  0.34660461 0.71819134 0.45920362 0.68017212 0.16712464 0.73573953\n",
            "  0.96707055 0.37718036 0.9107666  0.79694411 0.44477256 0.1708873\n",
            "  0.28964013 0.26573287 0.74258777 0.29901194 0.37509319 0.46062532\n",
            "  0.7559793  0.61407217 0.24691116 0.74530706 0.72662738 0.57929414\n",
            "  0.64521698 0.84811252 0.27505457 0.39387526 0.5296389  0.62377335\n",
            "  0.71999362 0.67266177 0.49610291 1.00889278 0.72129043 0.19929918\n",
            "  0.40091453 0.35720534 0.27696385 0.30125283 0.21219783 0.3718359\n",
            "  0.73965402 0.47461817 0.72376906 0.43160629 0.58361256 0.74637294\n",
            "  0.52643786 0.18852491 0.95610674 0.49414466 0.69677559 0.75152386\n",
            "  0.97904873 0.16191033 0.75365273 0.7616066 ]\n",
            " [0.41570803 0.43474296 0.41154584 0.03293643 0.3873415  0.5408184\n",
            "  0.24414483 0.         0.43573997 0.14344514 0.36161623 0.65653605\n",
            "  0.49239968 0.41132738 0.52886486 0.59569135 0.30236216 0.28698825\n",
            "  0.6920604  0.75121747 0.61106455 0.10264086 0.59915523 0.30742606\n",
            "  0.76517397 0.68231774 0.53769992 0.02523022 0.5525838  0.09920512\n",
            "  0.15549243 0.46761291 0.80143941 0.64119743 0.40805266 0.39092578\n",
            "  0.35709148 0.60975938 0.6095928  0.24670853 0.28089687 0.57851178\n",
            "  0.27383363 0.71456464 0.26990237 0.50281053 0.31286645 0.50115147\n",
            "  0.7550191  0.40343547 0.75062617 0.56480491 0.26365772 0.28281103\n",
            "  0.08238596 0.05628547 0.52993282 0.2103002  0.17523965 0.55877363\n",
            "  0.55100968 0.40128824 0.46919261 0.50517649 0.73018961 0.61494069\n",
            "  0.71954142 0.66773248 0.4938843  0.44579104 0.28639493 0.56724866\n",
            "  0.56348095 0.54531559 0.27146463 0.80585326 0.552864   0.29980503\n",
            "  0.27160744 0.33971259 0.49477564 0.33585311 0.4417945  0.51090105\n",
            "  0.51011154 0.31231122 0.73961714 0.2098545  0.63294297 0.67318006\n",
            "  0.55897385 0.1776725  0.78110424 0.30311809 0.46801913 0.64980426\n",
            "  0.77464048 0.39731617 0.65930112 0.51983874]\n",
            " [0.76750358 0.63339567 0.7279708  0.45202882 0.7171794  0.60503796\n",
            "  0.20557395 0.43573997 0.         0.41740346 0.79249919 1.07830025\n",
            "  0.36837919 0.58233377 0.91181376 0.98247481 0.56683485 0.51182983\n",
            "  1.10532052 1.11610599 0.8284526  0.4279749  0.83539248 0.44358984\n",
            "  1.16934374 0.81572085 0.9690034  0.41256266 0.98792094 0.42172164\n",
            "  0.33026124 0.61389318 0.86312642 0.72097314 0.82852504 0.82431709\n",
            "  0.7178238  0.81529911 0.72463027 0.37690535 0.16283056 0.73015996\n",
            "  0.43114167 0.86342145 0.5967493  0.88455825 0.30877209 0.89919166\n",
            "  1.17243426 0.53506636 1.11122796 0.99788179 0.57853039 0.33404833\n",
            "  0.4608663  0.4661902  0.94769671 0.40968405 0.52927445 0.5605346\n",
            "  0.88686897 0.81891501 0.04677591 0.91733538 0.86742895 0.71048255\n",
            "  0.74442752 1.05218813 0.07569644 0.5355856  0.71182662 0.79824833\n",
            "  0.92118111 0.86828073 0.65686774 1.21444524 0.92437363 0.22297981\n",
            "  0.60311922 0.53595035 0.07860564 0.4672792  0.0067331  0.45039572\n",
            "  0.94149219 0.6790243  0.8575379  0.59414454 0.70568637 0.92301824\n",
            "  0.66406652 0.38948862 1.15906187 0.62938536 0.89877994 0.93825677\n",
            "  1.18462097 0.0458802  0.93787027 0.9368506 ]\n",
            " [0.55145241 0.30420476 0.55282199 0.17589473 0.31015091 0.39756786\n",
            "  0.21261267 0.14344514 0.41740346 0.         0.39852102 0.66736468\n",
            "  0.37018789 0.27403486 0.49481208 0.56536156 0.18372341 0.15239379\n",
            "  0.69018822 0.70393438 0.49240997 0.23900233 0.48590315 0.16418709\n",
            "  0.75221754 0.54750154 0.61786431 0.14812259 0.61684924 0.04447541\n",
            "  0.08799148 0.32894836 0.66047273 0.49977158 0.51015322 0.47082258\n",
            "  0.30214447 0.48780949 0.47086937 0.3598984  0.29571773 0.44412201\n",
            "  0.39872678 0.58290562 0.41273533 0.46755946 0.19809685 0.6173543\n",
            "  0.75847972 0.26119363 0.70030857 0.60272524 0.40702858 0.16103755\n",
            "  0.22569199 0.11240941 0.53579007 0.3351462  0.31823648 0.41633397\n",
            "  0.68701985 0.40921537 0.45948746 0.6114917  0.59688496 0.47436649\n",
            "  0.57629203 0.63552094 0.48766629 0.30243461 0.38943027 0.45130256\n",
            "  0.50926923 0.46844726 0.40347782 0.79780692 0.50911921 0.35714749\n",
            "  0.19056761 0.20286629 0.48956199 0.19240835 0.42408809 0.3760811\n",
            "  0.54367684 0.2620107  0.6036367  0.34598285 0.49095389 0.56652353\n",
            "  0.41822718 0.04398221 0.74388712 0.44541183 0.50085402 0.55790695\n",
            "  0.76832089 0.37269222 0.5633492  0.62127722]\n",
            " [0.41467622 0.48233032 0.46854676 0.35448497 0.29463865 0.65878154\n",
            "  0.59102328 0.36161623 0.79249919 0.39852102 0.         0.29934251\n",
            "  0.74614919 0.50075475 0.25575901 0.2993149  0.37715378 0.4192955\n",
            "  0.3436746  0.46716036 0.5567204  0.41386685 0.52700783 0.49997212\n",
            "  0.42539206 0.69259938 0.25267356 0.38649519 0.22794611 0.37819803\n",
            "  0.47358321 0.54852695 0.84683303 0.71182333 0.23284394 0.14242322\n",
            "  0.23286651 0.56918789 0.6595856  0.55989591 0.64203568 0.60535076\n",
            "  0.55749461 0.70108095 0.40917395 0.24084808 0.590889   0.3570287\n",
            "  0.40042404 0.53309007 0.47280358 0.20596853 0.42302213 0.55170064\n",
            "  0.370946   0.32632054 0.18339556 0.50973435 0.37274713 0.71629699\n",
            "  0.51632303 0.08422943 0.82852761 0.31622363 0.72393962 0.68040066\n",
            "  0.81345449 0.36432519 0.85406474 0.58600948 0.19532082 0.51340874\n",
            "  0.32798972 0.37473578 0.31456862 0.45942555 0.29522739 0.65535814\n",
            "  0.29039213 0.4547672  0.8551284  0.51053598 0.79881444 0.72461726\n",
            "  0.14902166 0.22236912 0.74923402 0.32206878 0.71202023 0.56098972\n",
            "  0.6361109  0.43993945 0.47550125 0.41656939 0.1065109  0.49478857\n",
            "  0.42753087 0.75141247 0.51474145 0.30823957]\n",
            " [0.64635163 0.63647879 0.71382222 0.65217591 0.43848888 0.81751698\n",
            "  0.87345952 0.65653605 1.07830025 0.66736468 0.29934251 0.\n",
            "  0.97294202 0.67485525 0.23719011 0.19622012 0.5824901  0.63802167\n",
            "  0.066714   0.29108925 0.61484214 0.71320819 0.57891046 0.72662657\n",
            "  0.15252736 0.77107203 0.32734684 0.68171093 0.25260824 0.65694909\n",
            "  0.75067725 0.70583626 0.92859101 0.83090215 0.4366174  0.35792333\n",
            "  0.39991784 0.63519146 0.77329583 0.85835514 0.93414274 0.71374745\n",
            "  0.85306403 0.75942719 0.68930127 0.25519481 0.84258577 0.52155487\n",
            "  0.10200338 0.72201286 0.3050969  0.142773   0.70582094 0.803351\n",
            "  0.67028242 0.61555937 0.13166163 0.80778732 0.66697318 0.89100397\n",
            "  0.70757346 0.25940047 1.1168611  0.46183836 0.78394152 0.80112488\n",
            "  0.93454637 0.19788923 1.1434471  0.77035062 0.46797068 0.58497521\n",
            "  0.30125861 0.39684944 0.58806931 0.17014028 0.26260541 0.95347528\n",
            "  0.50806941 0.6550729  1.14478167 0.72695266 1.08480965 0.93110928\n",
            "  0.16577301 0.42348043 0.8174541  0.61018823 0.83688955 0.56633378\n",
            "  0.77270084 0.70369315 0.25947247 0.68919919 0.19933476 0.47869976\n",
            "  0.13935033 1.03535091 0.50255514 0.43644129]\n",
            " [0.90723031 0.37423328 0.89595736 0.52414578 0.54107874 0.26672244\n",
            "  0.31744556 0.49239968 0.36837919 0.37018789 0.74614919 0.97294202\n",
            "  0.         0.3221859  0.75609342 0.82295128 0.39045496 0.3357738\n",
            "  0.97805219 0.9151829  0.53749421 0.5578511  0.55606076 0.24856857\n",
            "  1.01968319 0.47990664 0.98179717 0.48388139 0.97259945 0.40855658\n",
            "  0.33861954 0.32344823 0.50078385 0.37243252 0.88025143 0.83679286\n",
            "  0.57308089 0.51870582 0.3909597  0.60821014 0.40103991 0.41498241\n",
            "  0.66305904 0.5301407  0.75135877 0.73123102 0.17970833 0.98659204\n",
            "  1.04926167 0.26731772 0.90578729 0.93959637 0.74031436 0.21102715\n",
            "  0.56457346 0.47938229 0.84519355 0.6119369  0.65918097 0.2026403\n",
            "  1.04192714 0.73315743 0.41007973 0.98167219 0.52868937 0.36967023\n",
            "  0.37928385 0.88196949 0.43437405 0.23567145 0.75959849 0.52141031\n",
            "  0.73354677 0.6533918  0.76380538 1.06979153 0.7523523  0.50381037\n",
            "  0.46827551 0.32011516 0.43800514 0.24600574 0.37284357 0.08829564\n",
            "  0.87976008 0.55183501 0.51181642 0.70203964 0.35605709 0.6412248\n",
            "  0.33522545 0.3265939  0.9707271  0.78620766 0.83880868 0.68332951\n",
            "  1.04471529 0.33661828 0.67523364 0.99111988]\n",
            " [0.78770387 0.05380502 0.80300645 0.4414906  0.23666083 0.15837145\n",
            "  0.41521123 0.41132738 0.58233377 0.27403486 0.50075475 0.67485525\n",
            "  0.3221859  0.         0.44590065 0.50916478 0.13130115 0.12444073\n",
            "  0.67091704 0.59306966 0.24642299 0.51141548 0.25365363 0.1430646\n",
            "  0.70463112 0.27369366 0.75285119 0.4203896  0.72517608 0.31471672\n",
            "  0.32724556 0.05711465 0.3921458  0.23448369 0.69118994 0.62290692\n",
            "  0.28412997 0.23467023 0.19837008 0.63181863 0.51817145 0.17090376\n",
            "  0.67251468 0.31107045 0.67112698 0.42313111 0.27366829 0.81365333\n",
            "  0.74179974 0.05516704 0.58360263 0.66763326 0.66877597 0.25056591\n",
            "  0.49277614 0.36533857 0.55465024 0.60908967 0.5792846  0.21937676\n",
            "  0.92017799 0.46201881 0.62909272 0.79100298 0.32370876 0.20603212\n",
            "  0.32529901 0.56409053 0.65799153 0.09587592 0.58591745 0.21658576\n",
            "  0.41443587 0.33139475 0.63935632 0.75529682 0.43677375 0.60312508\n",
            "  0.2146238  0.07164187 0.66093888 0.1157151  0.58871494 0.26207535\n",
            "  0.60998801 0.27987849 0.32960306 0.59185612 0.2289602  0.34153973\n",
            "  0.15147334 0.25845074 0.64921355 0.70107494 0.57357136 0.3680342\n",
            "  0.73194602 0.53781002 0.36332983 0.79178167]\n",
            " [0.67040211 0.40385776 0.72356289 0.53584502 0.21506674 0.58276481\n",
            "  0.70742473 0.52886486 0.91181376 0.49481208 0.25575901 0.23719011\n",
            "  0.75609342 0.44590065 0.         0.07076405 0.37040373 0.42892148\n",
            "  0.22514655 0.22490557 0.38252717 0.61044849 0.34708906 0.51705574\n",
            "  0.26525398 0.53739005 0.44472048 0.55320003 0.38438257 0.49748173\n",
            "  0.58265057 0.47233328 0.69578505 0.59378277 0.48079028 0.38745903\n",
            "  0.1951777  0.4017677  0.53621565 0.76392482 0.78477236 0.4766844\n",
            "  0.77409808 0.5295943  0.65257012 0.02725692 0.64474719 0.59835891\n",
            "  0.29590886 0.49608164 0.22680865 0.28371433 0.66381207 0.60699537\n",
            "  0.56934112 0.47715915 0.14754256 0.7179953  0.59948484 0.65820299\n",
            "  0.76814461 0.17191363 0.95427957 0.54873112 0.55406976 0.56394625\n",
            "  0.69753672 0.14102688 0.98247738 0.54176412 0.44899581 0.34982476\n",
            "  0.081204   0.16506893 0.56451802 0.31451011 0.04136258 0.82577756\n",
            "  0.3111736  0.4360403  0.98436319 0.51198426 0.91852058 0.70645934\n",
            "  0.24526787 0.23282937 0.58619555 0.56088246 0.59970014 0.34881321\n",
            "  0.5359969  0.52324347 0.25262423 0.66453369 0.2338365  0.26726316\n",
            "  0.28867856 0.86672435 0.29032687 0.53299667]\n",
            " [0.70969747 0.46473459 0.76681369 0.60122891 0.28293961 0.64031995\n",
            "  0.77796485 0.59569135 0.98247481 0.56536156 0.2993149  0.19622012\n",
            "  0.82295128 0.50916478 0.07076405 0.         0.4395478  0.49827046\n",
            "  0.16846024 0.16802229 0.42031855 0.67441165 0.3842895  0.58603689\n",
            "  0.19677309 0.5768946  0.45417217 0.62027321 0.38724324 0.56732256\n",
            "  0.65314227 0.53190624 0.73366007 0.64246878 0.51173143 0.41923728\n",
            "  0.26589623 0.44124263 0.5847434  0.82750452 0.85452744 0.52532199\n",
            "  0.8353402  0.56369264 0.70519814 0.09797808 0.71482834 0.62298643\n",
            "  0.23665986 0.56064068 0.17355056 0.27709996 0.71760564 0.67724131\n",
            "  0.63273406 0.5449353  0.14879618 0.78064947 0.65751414 0.71768355\n",
            "  0.79926569 0.21960872 1.02484821 0.56965123 0.58818786 0.61357663\n",
            "  0.74509585 0.07204117 1.05300482 0.60475398 0.4946321  0.3928384\n",
            "  0.10688258 0.20395448 0.61332514 0.24687293 0.07333686 0.89374736\n",
            "  0.38187509 0.5033509  1.05487203 0.57996832 0.98917917 0.77082781\n",
            "  0.25223001 0.30345281 0.62204008 0.61500835 0.64963486 0.37046137\n",
            "  0.58980844 0.59399818 0.18590337 0.71478999 0.25284639 0.28336648\n",
            "  0.22278327 0.93741776 0.30722788 0.55083986]\n",
            " [0.65907135 0.13664765 0.67760263 0.3294187  0.15769848 0.28792\n",
            "  0.37382243 0.30236216 0.56683485 0.18372341 0.37715378 0.5824901\n",
            "  0.39045496 0.13130115 0.37040373 0.4395478  0.         0.05894245\n",
            "  0.58897431 0.55439681 0.31064773 0.4049369  0.30245842 0.14667473\n",
            "  0.63563974 0.38491148 0.62724292 0.31622059 0.60423597 0.21493913\n",
            "  0.26055578 0.18646171 0.51733018 0.36321979 0.56026943 0.49387562\n",
            "  0.18264771 0.30794365 0.32148679 0.53942005 0.46900073 0.28188675\n",
            "  0.57374249 0.41387806 0.54999329 0.34445723 0.27764563 0.68240754\n",
            "  0.66007618 0.15609014 0.54812439 0.55643366 0.54944433 0.24185766\n",
            "  0.38025904 0.25060989 0.45526746 0.5097329  0.46076903 0.33959759\n",
            "  0.79060694 0.34868585 0.61220735 0.66044191 0.43072668 0.33353766\n",
            "  0.45642486 0.50357384 0.64128454 0.20908885 0.45468826 0.2683874\n",
            "  0.36160841 0.30150739 0.51159119 0.68484001 0.37258817 0.53899431\n",
            "  0.08682058 0.07780539 0.64372099 0.14446515 0.57353527 0.35351956\n",
            "  0.49726915 0.16410477 0.44332873 0.46701373 0.35891951 0.38287439\n",
            "  0.28087426 0.18846983 0.60259719 0.57841765 0.45833957 0.37860133\n",
            "  0.65840051 0.52095576 0.38224326 0.66191784]\n",
            " [0.66889673 0.15191355 0.6811144  0.31705051 0.21664081 0.26671486\n",
            "  0.32340774 0.28698825 0.51182983 0.15239379 0.4192955  0.63802167\n",
            "  0.3357738  0.12444073 0.42892148 0.49827046 0.05894245 0.\n",
            "  0.64631451 0.61268281 0.34370386 0.38754536 0.34067094 0.08883329\n",
            "  0.69417496 0.39615624 0.66541765 0.29666952 0.64723838 0.19122938\n",
            "  0.21751592 0.18112542 0.51602951 0.3570476  0.58724868 0.52727212\n",
            "  0.23910575 0.33748629 0.32280952 0.51222127 0.42172607 0.29248216\n",
            "  0.55082377 0.43064625 0.54753647 0.40281378 0.21891229 0.70619855\n",
            "  0.71731305 0.12695513 0.60616069 0.60582258 0.54476208 0.18366771\n",
            "  0.36833864 0.24113344 0.50956186 0.48708012 0.45521768 0.30639259\n",
            "  0.80263487 0.39847856 0.5576081  0.68868189 0.44499582 0.32955263\n",
            "  0.44254686 0.56250377 0.58674416 0.17778608 0.47582949 0.30476444\n",
            "  0.42033776 0.35788452 0.51986765 0.7432296  0.43152232 0.4975525\n",
            "  0.13300915 0.05308925 0.58928178 0.09185194 0.5184993  0.30554189\n",
            "  0.54620907 0.21606613 0.45297926 0.47005425 0.35018656 0.42476514\n",
            "  0.27411701 0.14515656 0.66136031 0.57795358 0.50614883 0.42853949\n",
            "  0.71656765 0.46600288 0.43025905 0.69244114]\n",
            " [0.70821877 0.62890306 0.77451216 0.69041112 0.43777964 0.80684232\n",
            "  0.89979777 0.6920604  1.10532052 0.69018822 0.3436746  0.066714\n",
            "  0.97805219 0.67091704 0.22514655 0.16846024 0.58897431 0.64631451\n",
            "  0.         0.2308376  0.58691991 0.75516163 0.55089059 0.7351202\n",
            "  0.08803482 0.74351448 0.39378941 0.71728739 0.31911317 0.68378182\n",
            "  0.77563689 0.69712044 0.89921516 0.81091825 0.49878395 0.41698986\n",
            "  0.40738735 0.60829076 0.75319494 0.90318195 0.96586319 0.69378106\n",
            "  0.90098746 0.72799461 0.74347872 0.24802656 0.85699873 0.58707018\n",
            "  0.07122003 0.72059488 0.24571836 0.20789095 0.75928665 0.81823512\n",
            "  0.7122182  0.64784823 0.16269974 0.85325582 0.71565118 0.88304421\n",
            "  0.77277279 0.2907911  1.14526932 0.52763465 0.75238171 0.78203357\n",
            "  0.91344924 0.14836581 1.172448   0.76679236 0.52226632 0.56087082\n",
            "  0.27498793 0.37213997 0.64333094 0.11575096 0.24099401 0.99114251\n",
            "  0.52046342 0.65813645 1.17396069 0.73260321 1.11191563 0.93088542\n",
            "  0.22326426 0.43666225 0.78696371 0.66152612 0.81808772 0.52929018\n",
            "  0.75771819 0.72412169 0.19428283 0.74521742 0.25139603 0.44075851\n",
            "  0.08386259 1.06151901 0.46437032 0.50258273]\n",
            " [0.87535924 0.54195471 0.93379894 0.75962005 0.39932489 0.69796577\n",
            "  0.91495381 0.75121747 1.11610599 0.70393438 0.46716036 0.29108925\n",
            "  0.9151829  0.59306966 0.22490557 0.16802229 0.55439681 0.61268281\n",
            "  0.2308376  0.         0.43403847 0.83494801 0.40064134 0.6956205\n",
            "  0.18454091 0.5829937  0.59997988 0.77515309 0.5281462  0.71218357\n",
            "  0.79169799 0.60106562 0.72820653 0.67151834 0.67401926 0.58274662\n",
            "  0.40272992 0.45725515 0.61598015 0.988496   0.99840968 0.56018472\n",
            "  0.99899359 0.55616241 0.87301182 0.24950737 0.83141598 0.78006656\n",
            "  0.26729253 0.64786631 0.01647169 0.41344445 0.88520418 0.79622755\n",
            "  0.79405231 0.69822704 0.30456758 0.94282066 0.82347483 0.77982414\n",
            "  0.96013369 0.38751705 1.16015669 0.72421833 0.57925854 0.64673838\n",
            "  0.76696526 0.1072021  1.18887842 0.6839232  0.66242546 0.42315868\n",
            "  0.19499706 0.26185169 0.78133523 0.22564309 0.19843261 1.04548362\n",
            "  0.51405665 0.60542257 1.19102162 0.68341626 1.12283902 0.85163474\n",
            "  0.40355227 0.44544916 0.6158628  0.78247927 0.68217754 0.35038875\n",
            "  0.63703212 0.72712661 0.06495472 0.88280801 0.41252026 0.2672637\n",
            "  0.22225329 1.07041072 0.28731098 0.70294093]\n",
            " [0.92669296 0.19782752 0.95802736 0.63623943 0.26944233 0.28353011\n",
            "  0.65899637 0.61106455 0.8284526  0.49240997 0.5567204  0.61484214\n",
            "  0.53749421 0.24642299 0.38252717 0.42031855 0.31064773 0.34370386\n",
            "  0.58691991 0.43403847 0.         0.7136378  0.03604147 0.38839936\n",
            "  0.59015083 0.15662317 0.79718556 0.62621684 0.74880383 0.52554775\n",
            "  0.56096473 0.21906872 0.31379068 0.23775578 0.78324103 0.69785641\n",
            "  0.33028216 0.02327133 0.18347008 0.85005793 0.76077492 0.13234081\n",
            "  0.88387437 0.14826742 0.84292682 0.37222217 0.51968055 0.909601\n",
            "  0.65110858 0.2942249  0.42030103 0.66039583 0.84539408 0.49687522\n",
            "  0.68604926 0.55727417 0.52639396 0.81990426 0.75939554 0.36546712\n",
            "  1.04931304 0.48731978 0.87522613 0.87257033 0.17247921 0.21438171\n",
            "  0.33362259 0.44824812 0.90405669 0.30584026 0.70340542 0.04596678\n",
            "  0.31380416 0.2182851  0.78743809 0.63976757 0.35242589 0.84075533\n",
            "  0.34940024 0.30242912 0.90704159 0.36208581 0.83479384 0.45859376\n",
            "  0.6132348  0.35878164 0.20369597 0.75379217 0.24909423 0.10439275\n",
            "  0.21534289 0.48881999 0.49807267 0.86781322 0.58912523 0.16802789\n",
            "  0.62450069 0.78410126 0.1514999  0.86485318]\n",
            " [0.35812193 0.53662748 0.3387462  0.0797323  0.48506306 0.6350672\n",
            "  0.26813138 0.10264086 0.4279749  0.23900233 0.41386685 0.71320819\n",
            "  0.5578511  0.51141548 0.61044849 0.67441165 0.4049369  0.38754536\n",
            "  0.75516163 0.83494801 0.7136378  0.         0.70139703 0.39948614\n",
            "  0.83297443 0.78356033 0.54759951 0.09108419 0.57560028 0.19676844\n",
            "  0.22305383 0.56715657 0.89947448 0.73876185 0.40180383 0.40841627\n",
            "  0.4500538  0.71240018 0.70921768 0.1535798  0.26516581 0.6797903\n",
            "  0.1728676  0.81654245 0.19422978 0.58544124 0.37991467 0.47311609\n",
            "  0.81410106 0.50008881 0.83557325 0.60690362 0.18246887 0.35637328\n",
            "  0.04296379 0.15702094 0.59261678 0.1107104  0.10697519 0.64658332\n",
            "  0.48941595 0.46779998 0.453134   0.48936792 0.83184912 0.71331574\n",
            "  0.81353608 0.74610754 0.473963   0.53972888 0.28924069 0.66971798\n",
            "  0.65204952 0.64104011 0.23093778 0.87053383 0.63779392 0.24766405\n",
            "  0.37205824 0.43979886 0.47408834 0.42928745 0.43317308 0.58801139\n",
            "  0.55698957 0.4054596  0.8405244  0.16704129 0.72982335 0.77453389\n",
            "  0.65719177 0.2662519  0.86028365 0.22928426 0.51706573 0.74849059\n",
            "  0.83882133 0.39689114 0.75881241 0.50904469]\n",
            " [0.90316179 0.20200886 0.9365078  0.62312983 0.24437095 0.30853352\n",
            "  0.66051301 0.59915523 0.83539248 0.48590315 0.52700783 0.57891046\n",
            "  0.55606076 0.25365363 0.34708906 0.3842895  0.30245842 0.34067094\n",
            "  0.55089059 0.40064134 0.03604147 0.70139703 0.         0.39270767\n",
            "  0.55469383 0.19266445 0.7651677  0.61540934 0.71563886 0.5168915\n",
            "  0.55806346 0.23379609 0.34968384 0.27094025 0.75520053 0.66871464\n",
            "  0.30385629 0.05795102 0.21543882 0.84081924 0.76111104 0.16120102\n",
            "  0.87277371 0.18279051 0.82442481 0.33733512 0.52707099 0.88139094\n",
            "  0.61517457 0.30457654 0.38722042 0.62592791 0.82766051 0.5020844\n",
            "  0.67224463 0.54448581 0.49152906 0.80895172 0.7427311  0.39104563\n",
            "  1.02415748 0.45586058 0.88210647 0.8431782  0.20718487 0.24626931\n",
            "  0.36836221 0.41252736 0.91108605 0.32177495 0.67850896 0.03714423\n",
            "  0.27781258 0.18254019 0.76577223 0.60443782 0.31657371 0.83810108\n",
            "  0.33288249 0.30338514 0.91398231 0.36811408 0.84182385 0.47965423\n",
            "  0.57946516 0.33495838 0.23915744 0.73429253 0.28156392 0.08791077\n",
            "  0.242187   0.48552696 0.46432918 0.84839882 0.55619105 0.13677712\n",
            "  0.58888323 0.7905698  0.12278571 0.83476449]\n",
            " [0.712835   0.19103026 0.71663785 0.34002093 0.3034912  0.23588072\n",
            "  0.27224267 0.30742606 0.44358984 0.16418709 0.49997212 0.72662657\n",
            "  0.24856857 0.1430646  0.51705574 0.58603689 0.14667473 0.08883329\n",
            "  0.7351202  0.6956205  0.38839936 0.39948614 0.39270767 0.\n",
            "  0.78227052 0.40738684 0.74121149 0.31000046 0.72748246 0.20865992\n",
            "  0.19322793 0.1870344  0.50464552 0.34394468 0.65221787 0.59934186\n",
            "  0.32793849 0.37750726 0.323029   0.50397645 0.37544943 0.30833799\n",
            "  0.54902015 0.44876438 0.57692232 0.49113161 0.13857963 0.76666117\n",
            "  0.80613304 0.10844818 0.68834352 0.69116979 0.57108374 0.10958289\n",
            "  0.38940406 0.27362934 0.597784   0.48721911 0.48241179 0.25270034\n",
            "  0.84815122 0.48458901 0.4901682  0.75421359 0.45895866 0.32133872\n",
            "  0.41409093 0.64931408 0.51924739 0.14064457 0.53583765 0.35560946\n",
            "  0.5052379  0.43719052 0.56396552 0.83151155 0.51834604 0.46252314\n",
            "  0.21993474 0.09344419 0.52205551 0.0313188  0.4501035  0.22754743\n",
            "  0.6313688  0.3039551  0.45982313 0.50848954 0.33350312 0.47997287\n",
            "  0.26571547 0.1334773  0.74610911 0.609541   0.59063125 0.49608431\n",
            "  0.80505275 0.39840744 0.49472896 0.76039598]\n",
            " [0.79623303 0.65879743 0.86236755 0.76566924 0.47958107 0.83072495\n",
            "  0.96390572 0.76517397 1.16934374 0.75221754 0.42539206 0.15252736\n",
            "  1.01968319 0.70463112 0.26525398 0.19677309 0.63563974 0.69417496\n",
            "  0.08803482 0.18454091 0.59015083 0.83297443 0.55469383 0.78227052\n",
            "  0.         0.74496373 0.47939359 0.79031869 0.40460045 0.7495398\n",
            "  0.8390855  0.72467144 0.8964563  0.82242145 0.58681826 0.50464451\n",
            "  0.45867716 0.61263954 0.76514835 0.98270985 1.03464164 0.70665211\n",
            "  0.98264968 0.72381536 0.8289879  0.29151483 0.9095122  0.67407979\n",
            "  0.08678929 0.75670592 0.20094671 0.29511913 0.84442071 0.87149098\n",
            "  0.79016219 0.71856949 0.24210344 0.9333357  0.79813408 0.90969823\n",
            "  0.86005114 0.36545694 1.21049598 0.61434812 0.74772177 0.79505575\n",
            "  0.92251116 0.14392374 1.23816264 0.79987829 0.60815046 0.57015162\n",
            "  0.29265012 0.38626144 0.72945654 0.05092092 0.26795301 1.06495229\n",
            "  0.57431076 0.70012191 1.23983841 0.77666197 1.1760014  0.96661324\n",
            "  0.3109313  0.49285785 0.78355471 0.74567347 0.83114115 0.5195028\n",
            "  0.77651844 0.78360723 0.13070487 0.83157408 0.33747727 0.43185397\n",
            "  0.03772946 1.12486306 0.45433865 0.58880157]\n",
            " [1.03694813 0.24863772 1.06032749 0.71137405 0.39817725 0.21445663\n",
            "  0.67453987 0.68231774 0.81572085 0.54750154 0.69259938 0.77107203\n",
            "  0.47990664 0.27369366 0.53739005 0.5768946  0.38491148 0.39615624\n",
            "  0.74351448 0.5829937  0.15662317 0.78356033 0.19266445 0.40738684\n",
            "  0.74496373 0.         0.93949612 0.69279245 0.89532926 0.5873778\n",
            "  0.59860676 0.22124383 0.15870521 0.11503587 0.91134795 0.83053105\n",
            "  0.46025949 0.13588746 0.09118394 0.90538802 0.77837255 0.10380609\n",
            "  0.94614807 0.05046027 0.93485024 0.52554389 0.51579297 1.03753161\n",
            "  0.80740972 0.29913371 0.56841602 0.81163723 0.93432732 0.50386904\n",
            "  0.76263204 0.63353894 0.67922312 0.88264394 0.8455045  0.28168927\n",
            "  1.16492536 0.62955195 0.86178319 1.00505502 0.05218244 0.1103644\n",
            "  0.18814437 0.60397368 0.88940009 0.28272557 0.82091115 0.18823836\n",
            "  0.47027979 0.37424125 0.89205599 0.79412874 0.50849834 0.86916939\n",
            "  0.44820197 0.34464125 0.89272419 0.37648802 0.82152237 0.3926591\n",
            "  0.76224895 0.48002511 0.05889214 0.85074207 0.13121151 0.23439906\n",
            "  0.1516643  0.53151765 0.64774031 0.96293493 0.73545614 0.31605169\n",
            "  0.77980099 0.77449594 0.29571465 0.99992235]\n",
            " [0.34798357 0.73497074 0.42120718 0.51770765 0.54399331 0.91107254\n",
            "  0.78173064 0.53769992 0.9690034  0.61786431 0.25267356 0.32734684\n",
            "  0.98179717 0.75285119 0.44472048 0.45417217 0.62724292 0.66541765\n",
            "  0.39378941 0.59997988 0.79718556 0.54759951 0.7651677  0.74121149\n",
            "  0.47939359 0.93949612 0.         0.55888589 0.07479358 0.58749325\n",
            "  0.67870529 0.80115406 1.09557252 0.96376885 0.15696038 0.1479762\n",
            "  0.48323157 0.81174068 0.91084984 0.66175935 0.80820203 0.85565251\n",
            "  0.63774193 0.94419104 0.44495769 0.44224587 0.81583404 0.1987745\n",
            "  0.41221024 0.78330462 0.61123168 0.18803221 0.46505209 0.77801987\n",
            "  0.51023508 0.52239606 0.30561648 0.61102214 0.46321269 0.96683964\n",
            "  0.38489558 0.31025319 0.99814747 0.13791872 0.96770077 0.93232609\n",
            "  1.0658074  0.49437795 1.02028134 0.83631354 0.25843767 0.75593305\n",
            "  0.5258696  0.59676815 0.34664568 0.4888424  0.4855013  0.79275294\n",
            "  0.54051034 0.70425717 1.02059881 0.75503428 0.97470638 0.96834163\n",
            "  0.20216332 0.4750419  0.99491093 0.39522292 0.9642995  0.78636158\n",
            "  0.88865643 0.66160822 0.58099752 0.43170078 0.21219851 0.70991004\n",
            "  0.46109353 0.93303196 0.73221366 0.11022981]\n",
            " [0.42338435 0.44637408 0.41486115 0.04325551 0.40795494 0.54504344\n",
            "  0.2241472  0.02523022 0.41256266 0.14812259 0.38649519 0.68171093\n",
            "  0.48388139 0.4203896  0.55320003 0.62027321 0.31622059 0.29666952\n",
            "  0.71728739 0.77515309 0.62621684 0.09108419 0.61540934 0.31000046\n",
            "  0.79031869 0.69279245 0.55888589 0.         0.57538473 0.10569559\n",
            "  0.14529533 0.4760771  0.80852124 0.64787087 0.42642902 0.41270054\n",
            "  0.37957166 0.62414315 0.61813646 0.22707534 0.25653029 0.58906048\n",
            "  0.25765773 0.72627212 0.27142327 0.52704408 0.30419901 0.51592858\n",
            "  0.7802385  0.40931238 0.77438409 0.58929927 0.2633354  0.27634172\n",
            "  0.08189082 0.07779339 0.55516258 0.1936947  0.1771961  0.559304\n",
            "  0.55807279 0.4265124  0.44533298 0.52227187 0.74130549 0.62229752\n",
            "  0.72367721 0.69231097 0.4697635  0.44974827 0.30549305 0.58289116\n",
            "  0.58672512 0.56658266 0.28212645 0.83105906 0.57674578 0.27471088\n",
            "  0.29074525 0.34879097 0.47059999 0.33936095 0.41854736 0.50658566\n",
            "  0.53485318 0.33484711 0.74962375 0.21898013 0.63907262 0.69078073\n",
            "  0.56618618 0.17763396 0.80556399 0.30550036 0.49284322 0.6695674\n",
            "  0.79985464 0.37481524 0.67853382 0.53784742]\n",
            " [0.41344607 0.70260953 0.48539648 0.53632819 0.50556067 0.88223872\n",
            "  0.79424242 0.5525838  0.98792094 0.61684924 0.22794611 0.25260824\n",
            "  0.97259945 0.72517608 0.38438257 0.38724324 0.60423597 0.64723838\n",
            "  0.31911317 0.5281462  0.74880383 0.57560028 0.71563886 0.72748246\n",
            "  0.40460045 0.89532926 0.07479358 0.57538473 0.         0.59073309\n",
            "  0.68459936 0.77052926 1.05287592 0.92713818 0.21051309 0.16739446\n",
            "  0.44702711 0.76465847 0.87272385 0.700202   0.82969993 0.81602308\n",
            "  0.6811029  0.8967825  0.49418655 0.38495252 0.81297112 0.27202784\n",
            "  0.33807899 0.75977442 0.53984629 0.11480734 0.51350924 0.77425574\n",
            "  0.5358185  0.52996498 0.24036304 0.64884649 0.50040993 0.9424496\n",
            "  0.45848609 0.26819114 1.01963863 0.21140468 0.92068088 0.89573974\n",
            "  1.03037108 0.42345676 1.04304635 0.81254194 0.28970069 0.7092282\n",
            "  0.4654363  0.54200263 0.39282059 0.4144921  0.42426263 0.8230644\n",
            "  0.51769179 0.68199762 1.04361874 0.73846128 0.99387205 0.95254534\n",
            "  0.13913132 0.44529896 0.94936952 0.43414903 0.92881779 0.73073347\n",
            "  0.85479833 0.65975884 0.50728687 0.48483734 0.1599111  0.65144301\n",
            "  0.38650051 0.94989909 0.67427189 0.18463334]\n",
            " [0.50792698 0.3417877  0.50844699 0.13149374 0.3259774  0.44161572\n",
            "  0.21652336 0.09920512 0.42172164 0.04447541 0.37819803 0.65694909\n",
            "  0.40855658 0.31471672 0.49748173 0.56732256 0.21493913 0.19122938\n",
            "  0.68378182 0.71218357 0.52554775 0.19676844 0.5168915  0.20865992\n",
            "  0.7495398  0.5873778  0.58749325 0.10569559 0.59073309 0.\n",
            "  0.09539869 0.37038889 0.70319614 0.54269876 0.47381066 0.43970984\n",
            "  0.3095876  0.52225556 0.51245146 0.32452012 0.28729998 0.48371044\n",
            "  0.36039441 0.62147092 0.36826285 0.47038896 0.23258907 0.57803595\n",
            "  0.75071426 0.30451522 0.70955594 0.58393201 0.36264193 0.19772432\n",
            "  0.18156413 0.07086796 0.5260752  0.2964674  0.27377977 0.46075547\n",
            "  0.64351852 0.39757725 0.46153322 0.57449499 0.63615345 0.5168487\n",
            "  0.6203404  0.63849878 0.48888798 0.34659149 0.35216543 0.48324114\n",
            "  0.518847   0.48571372 0.36043115 0.79375331 0.51513826 0.33730022\n",
            "  0.20525736 0.24314065 0.49048513 0.23674211 0.42828531 0.41849229\n",
            "  0.5257593  0.26686434 0.64405667 0.30217219 0.53418431 0.59522077\n",
            "  0.46077592 0.08332445 0.74896687 0.40094528 0.48280914 0.58109261\n",
            "  0.76362242 0.3784313  0.58804372 0.58549759]\n",
            " [0.56867968 0.36606459 0.55849315 0.18625568 0.39651156 0.42596984\n",
            "  0.1249224  0.15549243 0.33026124 0.08799148 0.47358321 0.75067725\n",
            "  0.33861954 0.32724556 0.58265057 0.65314227 0.26055578 0.21751592\n",
            "  0.77563689 0.79169799 0.56096473 0.22305383 0.55806346 0.19322793\n",
            "  0.8390855  0.59860676 0.67870529 0.14529533 0.68459936 0.09539869\n",
            "  0.         0.37736646 0.69714175 0.53675736 0.55838064 0.53072909\n",
            "  0.39012644 0.5539235  0.51587331 0.31122765 0.20986668 0.49747069\n",
            "  0.35797881 0.63802197 0.4141946  0.555404   0.15899708 0.65587486\n",
            "  0.84331361 0.30114456 0.7879154  0.67933052 0.4043489  0.13332226\n",
            "  0.22610666 0.15635423 0.61943584 0.29773874 0.3210658  0.42788721\n",
            "  0.7033076  0.49154607 0.37181794 0.65740272 0.64964301 0.51455087\n",
            "  0.60191499 0.7234266  0.39987546 0.33192395 0.43612389 0.52226861\n",
            "  0.59691986 0.55362629 0.42649173 0.88424367 0.59710402 0.28004999\n",
            "  0.27789084 0.26060656 0.40173034 0.22454257 0.33691637 0.36495776\n",
            "  0.62112669 0.34990622 0.65218009 0.36394894 0.52584871 0.64140333\n",
            "  0.45893737 0.0726072  0.83187739 0.44878616 0.57817651 0.63876593\n",
            "  0.85451089 0.28598569 0.6427925  0.67043749]\n",
            " [0.84437364 0.06982114 0.86008212 0.49802973 0.27211923 0.11304865\n",
            "  0.4575211  0.46761291 0.61389318 0.32894836 0.54852695 0.70583626\n",
            "  0.32344823 0.05711465 0.47233328 0.53190624 0.18646171 0.18112542\n",
            "  0.69712044 0.60106562 0.21906872 0.56715657 0.23379609 0.1870344\n",
            "  0.72467144 0.22124383 0.80115406 0.4760771  0.77052926 0.37038889\n",
            "  0.37736646 0.         0.33508366 0.17753713 0.74448471 0.67409822\n",
            "  0.32513457 0.20325397 0.14206564 0.68479555 0.56122643 0.12136282\n",
            "  0.72663475 0.26173299 0.72819373 0.45138138 0.3062981  0.86769992\n",
            "  0.76733455 0.08052128 0.59035381 0.70783925 0.72574853 0.28862063\n",
            "  0.54928092 0.42221484 0.58993283 0.66346455 0.63623482 0.18592771\n",
            "  0.97657698 0.50472641 0.66061113 0.84367296 0.27237528 0.14891881\n",
            "  0.27037396 0.58201962 0.68915497 0.08809313 0.64093434 0.19835939\n",
            "  0.432167   0.34265753 0.69617543 0.77557256 0.45866772 0.64954976\n",
            "  0.26702282 0.12807633 0.6922557  0.15669836 0.62008404 0.25178828\n",
            "  0.6512893  0.32629212 0.27559396 0.64893836 0.17253066 0.32052031\n",
            "  0.09466062 0.3106528  0.65992253 0.75818281 0.61638162 0.36008721\n",
            "  0.75381053 0.5704279  0.35180129 0.84359617]\n",
            " [1.17611528 0.38241632 1.1943535  0.83234974 0.55228281 0.27311903\n",
            "  0.75247341 0.80143941 0.86312642 0.66047273 0.84683303 0.92859101\n",
            "  0.50078385 0.3921458  0.69578505 0.73366007 0.51733018 0.51602951\n",
            "  0.89921516 0.72820653 0.31379068 0.89947448 0.34968384 0.50464552\n",
            "  0.8964563  0.15870521 1.09557252 0.80852124 1.05287592 0.70319614\n",
            "  0.69714175 0.33508366 0.         0.16092585 1.06115722 0.98284862\n",
            "  0.61397223 0.29401932 0.19588458 1.0083431  0.85424765 0.24301314\n",
            "  1.05361815 0.17267921 1.06327165 0.6842111  0.58607505 1.18676675\n",
            "  0.96181014 0.3996974  0.71293188 0.97024183 1.06078003 0.58409186\n",
            "  0.8834822  0.75715927 0.83792736 0.99153885 0.97124416 0.30260536\n",
            "  1.30666937 0.78622968 0.90704465 1.15669703 0.14905571 0.18656135\n",
            "  0.1236352  0.75741937 0.93268212 0.36532183 0.96574045 0.3469432\n",
            "  0.62742663 0.53204598 1.02891822 0.94477346 0.66621642 0.95155694\n",
            "  0.58961887 0.46294056 0.93623836 0.4735665  0.86822113 0.41427274\n",
            "  0.92051238 0.63030506 0.11290197 0.98334023 0.1712975  0.37821396\n",
            "  0.24246667 0.63685256 0.79315548 1.09315063 0.89311164 0.464737\n",
            "  0.93203984 0.82628896 0.44271561 1.15280968]\n",
            " [1.0218338  0.23296324 1.03741636 0.67234925 0.42157759 0.11740834\n",
            "  0.59676541 0.64119743 0.72097314 0.49977158 0.71182333 0.83090215\n",
            "  0.37243252 0.23448369 0.59378277 0.64246878 0.36321979 0.3570476\n",
            "  0.81091825 0.67151834 0.23775578 0.73876185 0.27094025 0.34394468\n",
            "  0.82242145 0.11503587 0.96376885 0.64787087 0.92713818 0.54269876\n",
            "  0.53675736 0.17753713 0.16092585 0.         0.91698367 0.84297047\n",
            "  0.48092805 0.21448585 0.0577298  0.84784874 0.6995824  0.11724898\n",
            "  0.89280045 0.16465187 0.90457093 0.57768806 0.43200173 1.04134094\n",
            "  0.87797508 0.23881143 0.65794334 0.8539076  0.90155326 0.4268503\n",
            "  0.723377   0.59787882 0.72714759 0.83064577 0.81198318 0.17065919\n",
            "  1.15379122 0.65896218 0.7662152  1.01482859 0.15852903 0.0314463\n",
            "  0.10428077 0.6789637  0.79303383 0.20551714 0.81643129 0.25227202\n",
            "  0.53612218 0.43913476 0.87370644 0.87270327 0.57062121 0.79511137\n",
            "  0.44050253 0.30407538 0.79647352 0.31279628 0.72646559 0.28424053\n",
            "  0.80044111 0.49061353 0.13938946 0.8262566  0.0166208  0.33295148\n",
            "  0.08305524 0.47594033 0.73526921 0.93495683 0.76914692 0.40572051\n",
            "  0.85550496 0.68170792 0.38829968 1.01311494]\n",
            " [0.20974636 0.68402523 0.27855537 0.38355722 0.51536914 0.8480641\n",
            "  0.65042695 0.40805266 0.82852504 0.51015322 0.23284394 0.4366174\n",
            "  0.88025143 0.69118994 0.48079028 0.51173143 0.56026943 0.58724868\n",
            "  0.49878395 0.67401926 0.78324103 0.40180383 0.75520053 0.65221787\n",
            "  0.58681826 0.91134795 0.15696038 0.42642902 0.21051309 0.47381066\n",
            "  0.55838064 0.74448471 1.06115722 0.91698367 0.         0.09333405\n",
            "  0.45354082 0.79397351 0.8685661  0.50714599 0.66613626 0.81814429\n",
            "  0.48132023 0.92433018 0.28801907 0.46949192 0.7063669  0.12644108\n",
            "  0.53297946 0.71220135 0.68240916 0.29570988 0.30809203 0.67073655\n",
            "  0.36770062 0.40423257 0.36978432 0.456928   0.31056591 0.89364126\n",
            "  0.28782438 0.31465069 0.85489337 0.10200875 0.94637691 0.88603066\n",
            "  1.01462702 0.56705573 0.87570632 0.76440772 0.12225676 0.73874051\n",
            "  0.55722576 0.60756721 0.19020571 0.60620944 0.52168802 0.64278375\n",
            "  0.47748511 0.6328891  0.87578472 0.67101002 0.83393342 0.87861162\n",
            "  0.27770614 0.43140585 0.96925719 0.24220546 0.91487464 0.79315305\n",
            "  0.83705333 0.55394925 0.66866192 0.27568291 0.26166865 0.72759813\n",
            "  0.57588297 0.79502091 0.7475833  0.11205786]\n",
            " [0.29440524 0.61080029 0.35807237 0.37231206 0.43259826 0.78108378\n",
            "  0.63461436 0.39092578 0.82431709 0.47082258 0.14242322 0.35792333\n",
            "  0.83679286 0.62290692 0.38745903 0.41923728 0.49387562 0.52727212\n",
            "  0.41698986 0.58274662 0.69785641 0.40841627 0.66871464 0.59934186\n",
            "  0.50464451 0.83053105 0.1479762  0.41270054 0.16739446 0.43970984\n",
            "  0.53072909 0.67409822 0.98284862 0.84297047 0.09333405 0.\n",
            "  0.37045921 0.70965093 0.79261124 0.53389027 0.66471838 0.74021617\n",
            "  0.51716074 0.84102506 0.33719141 0.37636165 0.66891191 0.21484139\n",
            "  0.45757883 0.64886026 0.59071787 0.22298789 0.35530326 0.63140864\n",
            "  0.36904478 0.37442409 0.27955381 0.48244081 0.33426133 0.83207122\n",
            "  0.38100812 0.22227839 0.85480542 0.17484279 0.86355865 0.81172021\n",
            "  0.94271781 0.47610366 0.87769521 0.70171433 0.12314487 0.65403738\n",
            "  0.46409292 0.51648941 0.23471924 0.52800313 0.42837513 0.65575102\n",
            "  0.40834936 0.56930247 0.87816846 0.6150081  0.83014155 0.82688621\n",
            "  0.19373329 0.3530086  0.8878138  0.26924873 0.84194563 0.70333863\n",
            "  0.76479005 0.51468561 0.57990225 0.33334547 0.17191264 0.636002\n",
            "  0.4968944  0.78743063 0.65633453 0.17020559]\n",
            " [0.60104083 0.2562692  0.63830168 0.37106788 0.06213928 0.4378535\n",
            "  0.51435678 0.35709148 0.7178238  0.30214447 0.23286651 0.39991784\n",
            "  0.57308089 0.28412997 0.1951777  0.26589623 0.18264771 0.23910575\n",
            "  0.40738735 0.40272992 0.33028216 0.4500538  0.30385629 0.32793849\n",
            "  0.45867716 0.46025949 0.48323157 0.37957166 0.44702711 0.3095876\n",
            "  0.39012644 0.32513457 0.61397223 0.48092805 0.45354082 0.37045921\n",
            "  0.         0.34045642 0.42762562 0.60195135 0.5957319  0.37267886\n",
            "  0.62135604 0.47097985 0.53687221 0.16810492 0.45109611 0.57998028\n",
            "  0.47829759 0.32628949 0.3999685  0.38358192 0.54321372 0.41288097\n",
            "  0.41280097 0.30177856 0.27384212 0.56066307 0.46490137 0.50350631\n",
            "  0.72042053 0.17975673 0.76083249 0.54519342 0.49328651 0.44948495\n",
            "  0.58366321 0.33454762 0.7892453  0.37699569 0.37509268 0.28538453\n",
            "  0.20940766 0.19267993 0.46809239 0.50673864 0.20697897 0.64469351\n",
            "  0.11600172 0.25576518 0.79123144 0.32707534 0.72454403 0.53284699\n",
            "  0.32635701 0.04479025 0.51737378 0.44414935 0.48207538 0.35367714\n",
            "  0.40777373 0.32861032 0.44177428 0.55713135 0.29131967 0.3074804\n",
            "  0.47918034 0.67252829 0.32193986 0.53966314]\n",
            " [0.93353285 0.18852061 0.96326405 0.63570919 0.27888461 0.26234227\n",
            "  0.6491134  0.60975938 0.81529911 0.48780949 0.56918789 0.63519146\n",
            "  0.51870582 0.23467023 0.4017677  0.44124263 0.30794365 0.33748629\n",
            "  0.60829076 0.45725515 0.02327133 0.71240018 0.05795102 0.37750726\n",
            "  0.61263954 0.13588746 0.81174068 0.62414315 0.76465847 0.52225556\n",
            "  0.5539235  0.20325397 0.29401932 0.21448585 0.79397351 0.70965093\n",
            "  0.34045642 0.         0.16029195 0.84665987 0.75146772 0.11016359\n",
            "  0.88168512 0.13245066 0.84597437 0.39057471 0.50665811 0.92040618\n",
            "  0.67289974 0.28031034 0.44354581 0.6779392  0.84787658 0.48513543\n",
            "  0.68592221 0.5566725  0.54458241 0.81767462 0.76119069 0.34392778\n",
            "  1.05741112 0.5015558  0.86207129 0.88447912 0.1560827  0.19119979\n",
            "  0.31065587 0.4704513  0.89080099 0.28883688 0.71153423 0.05587684\n",
            "  0.33452289 0.23835421 0.79292004 0.66236    0.37261153 0.833178\n",
            "  0.35208531 0.29399804 0.89383251 0.35029934 0.82158603 0.43877679\n",
            "  0.62988881 0.36678117 0.18547066 0.75766573 0.22584295 0.12535814\n",
            "  0.19360193 0.4821945  0.52124628 0.87151615 0.60481217 0.19129262\n",
            "  0.64682931 0.7712442  0.174592   0.87742702]\n",
            " [0.98023967 0.1867453  0.99878323 0.63985573 0.36743016 0.12438652\n",
            "  0.58648181 0.6095928  0.72463027 0.47086937 0.6595856  0.77329583\n",
            "  0.3909597  0.19837008 0.53621565 0.5847434  0.32148679 0.32280952\n",
            "  0.75319494 0.61598015 0.18347008 0.70921768 0.21543882 0.323029\n",
            "  0.76514835 0.09118394 0.91084984 0.61813646 0.87272385 0.51245146\n",
            "  0.51587331 0.14206564 0.19588458 0.0577298  0.8685661  0.79261124\n",
            "  0.42762562 0.16029195 0.         0.8252126  0.6901887  0.05955741\n",
            "  0.86794374 0.14019023 0.8687349  0.52033816 0.42594899 0.99362026\n",
            "  0.82030211 0.21473927 0.60264656 0.79781485 0.86678236 0.41559866\n",
            "  0.691136   0.56358313 0.67029411 0.80496892 0.77736228 0.19700998\n",
            "  1.11095355 0.60456286 0.77065458 0.96541833 0.14281823 0.03091211\n",
            "  0.16140662 0.62158724 0.79824135 0.19309246 0.77085888 0.19512401\n",
            "  0.47842155 0.38146286 0.83305635 0.81550197 0.5128964  0.78253588\n",
            "  0.39447111 0.26990236 0.80156986 0.29177703 0.73041434 0.30461948\n",
            "  0.74485162 0.43964703 0.1374023  0.78788223 0.06629885 0.28225544\n",
            "  0.06080055 0.45115473 0.67943395 0.89820987 0.714213   0.35134914\n",
            "  0.79808288 0.68355072 0.33486749 0.96281496]\n",
            " [0.40036081 0.66409412 0.35354465 0.23102195 0.63403698 0.73702249\n",
            "  0.29113426 0.24670853 0.37690535 0.3598984  0.55989591 0.85835514\n",
            "  0.60821014 0.63181863 0.76392482 0.82750452 0.53942005 0.51222127\n",
            "  0.90318195 0.988496   0.85005793 0.1535798  0.84081924 0.50397645\n",
            "  0.98270985 0.90538802 0.66175935 0.22707534 0.700202   0.32452012\n",
            "  0.31122765 0.68479555 1.0083431  0.84784874 0.50714599 0.53389027\n",
            "  0.60195135 0.84665987 0.8252126  0.         0.23078671 0.80265805\n",
            "  0.05687948 0.94221934 0.23447326 0.73898905 0.44503634 0.54948328\n",
            "  0.95995842 0.61099605 0.98915266 0.7446328  0.21420766 0.43342276\n",
            "  0.19477066 0.30299085 0.74125393 0.05149387 0.19979219 0.73402259\n",
            "  0.51235694 0.61856501 0.38711541 0.57963878 0.95550663 0.82516477\n",
            "  0.91198678 0.89907377 0.40042727 0.6431511  0.41078921 0.80755919\n",
            "  0.80532896 0.791656   0.31811614 1.01886151 0.79136907 0.15617574\n",
            "  0.51775428 0.56166794 0.39941155 0.53521693 0.38026352 0.65691411\n",
            "  0.69824006 0.55721067 0.96038823 0.26680995 0.8370583  0.91740896\n",
            "  0.76931637 0.37418154 1.01330339 0.26296842 0.66002738 0.89639354\n",
            "  0.9870229  0.36055461 0.90557019 0.60397996]\n",
            " [0.60823757 0.5631667  0.57268974 0.29354743 0.6057875  0.58265515\n",
            "  0.10384921 0.28089687 0.16283056 0.29571773 0.64203568 0.93414274\n",
            "  0.40103991 0.51817145 0.78477236 0.85452744 0.46900073 0.42172607\n",
            "  0.96586319 0.99840968 0.76077492 0.26516581 0.76111104 0.37544943\n",
            "  1.03464164 0.77837255 0.80820203 0.25653029 0.82969993 0.28729998\n",
            "  0.20986668 0.56122643 0.85424765 0.6995824  0.66613626 0.66471838\n",
            "  0.5957319  0.75146772 0.6901887  0.23078671 0.         0.68244011\n",
            "  0.28750608 0.82202712 0.43743152 0.75768754 0.26817765 0.73666719\n",
            "  1.03093723 0.48094588 0.99525091 0.8457009  0.41996272 0.27460967\n",
            "  0.29874336 0.31861546 0.80536125 0.25503383 0.36685944 0.55932896\n",
            "  0.73092876 0.67603449 0.19008976 0.75451194 0.83046681 0.68262637\n",
            "  0.74501193 0.92578179 0.21349692 0.49742567 0.55035311 0.7245967\n",
            "  0.80422497 0.76342308 0.49425688 1.07770415 0.80206326 0.10278565\n",
            "  0.48620792 0.45843323 0.21421684 0.40479239 0.16800876 0.46466973\n",
            "  0.79079464 0.55374601 0.8274239  0.43136351 0.68618852 0.84623221\n",
            "  0.63004956 0.28067822 1.03617878 0.47085799 0.74853296 0.84760185\n",
            "  1.04708686 0.13490284 0.85085751 0.77413059]\n",
            " [0.93692692 0.14529671 0.95859303 0.60759425 0.31167008 0.15324018\n",
            "  0.57867844 0.57851178 0.73015996 0.44412201 0.60535076 0.71374745\n",
            "  0.41498241 0.17090376 0.4766844  0.52532199 0.28188675 0.29248216\n",
            "  0.69378106 0.56018472 0.13234081 0.6797903  0.16120102 0.30833799\n",
            "  0.70665211 0.10380609 0.85565251 0.58906048 0.81602308 0.48371044\n",
            "  0.49747069 0.12136282 0.24301314 0.11724898 0.81814429 0.74021617\n",
            "  0.37267886 0.11016359 0.05955741 0.80265805 0.68244011 0.\n",
            "  0.84284318 0.14062566 0.83185421 0.46094494 0.42482292 0.94378382\n",
            "  0.76104644 0.20149838 0.54721483 0.7394893  0.8310548  0.40918238\n",
            "  0.65886053 0.52983848 0.61129401 0.77925202 0.74210225 0.23408001\n",
            "  1.06612691 0.54806379 0.77669999 0.91383275 0.15285731 0.0884895\n",
            "  0.22087189 0.56294316 0.8049175  0.19491446 0.7236809  0.13748616\n",
            "  0.41910812 0.32225181 0.79107374 0.75711437 0.45338561 0.77085884\n",
            "  0.3485106  0.24128712 0.80811453 0.2780602  0.73620454 0.33237144\n",
            "  0.68703141 0.38742108 0.16160498 0.74850227 0.12461273 0.23538462\n",
            "  0.08372184 0.42930786 0.62315222 0.86026721 0.65706817 0.29797293\n",
            "  0.73932711 0.68750933 0.28308173 0.91029899]\n",
            " [0.35657088 0.70208089 0.30462829 0.25256812 0.65778104 0.78367564\n",
            "  0.34660461 0.27383363 0.43114167 0.39872678 0.55749461 0.85306403\n",
            "  0.66305904 0.67251468 0.77409808 0.8353402  0.57374249 0.55082377\n",
            "  0.90098746 0.99899359 0.88387437 0.1728676  0.87277371 0.54902015\n",
            "  0.98264968 0.94614807 0.63774193 0.25765773 0.6811029  0.36039441\n",
            "  0.35797881 0.72663475 1.05361815 0.89280045 0.48132023 0.51716074\n",
            "  0.62135604 0.88168512 0.86794374 0.05687948 0.28750608 0.84284318\n",
            "  0.         0.98146787 0.19807197 0.75004265 0.49740947 0.51248916\n",
            "  0.95503292 0.65475611 1.00057275 0.73352095 0.17728125 0.48383805\n",
            "  0.20857552 0.32935623 0.74055132 0.0640134  0.18623254 0.78393473\n",
            "  0.46255064 0.62172295 0.43908224 0.54688228 0.99561058 0.86923765\n",
            "  0.95988456 0.90622234 0.45083786 0.68913211 0.39453386 0.84048441\n",
            "  0.82029861 0.81307046 0.29114807 1.01670451 0.80367474 0.20870724\n",
            "  0.54476729 0.60156542 0.44960023 0.58005336 0.43424394 0.70971665\n",
            "  0.69023394 0.57699015 1.00196857 0.24796656 0.8825231  0.94694362\n",
            "  0.81318238 0.41717296 1.0204077  0.22235548 0.65379188 0.92129175\n",
            "  0.98479089 0.41633613 0.93167967 0.57261578]\n",
            " [1.05791834 0.27992164 1.08427024 0.74272443 0.40899688 0.26425091\n",
            "  0.71819134 0.71456464 0.86342145 0.58290562 0.70108095 0.75942719\n",
            "  0.5301407  0.31107045 0.5295943  0.56369264 0.41387806 0.43064625\n",
            "  0.72799461 0.55616241 0.14826742 0.81654245 0.18279051 0.44876438\n",
            "  0.72381536 0.05046027 0.94419104 0.72627212 0.8967825  0.62147092\n",
            "  0.63802197 0.26173299 0.17267921 0.16465187 0.92433018 0.84102506\n",
            "  0.47097985 0.13245066 0.14019023 0.94221934 0.82202712 0.14062566\n",
            "  0.98146787 0.         0.96201181 0.52012393 0.56154986 1.05075881\n",
            "  0.78981096 0.34132522 0.5410461  0.80858529 0.96241474 0.5480185\n",
            "  0.79378757 0.66422446 0.67431859 0.91769872 0.87421999 0.33214471\n",
            "  1.18391258 0.63400319 0.909629   1.01586391 0.0245238  0.16076782\n",
            "  0.22822447 0.58519858 0.93740571 0.3288614  0.83856102 0.1882864\n",
            "  0.45827579 0.36466169 0.91485781 0.77209447 0.49800346 0.91126142\n",
            "  0.47083933 0.38055427 0.94070084 0.41829422 0.86928827 0.44301503\n",
            "  0.76147293 0.49475617 0.05982169 0.87608208 0.18102527 0.20583108\n",
            "  0.19978233 0.56949537 0.6211146  0.98913285 0.73700132 0.29205846\n",
            "  0.7594735  0.82178634 0.27008264 1.00927187]\n",
            " [0.1708523  0.68656401 0.14462864 0.23707552 0.58674347 0.80844619\n",
            "  0.45920362 0.26990237 0.5967493  0.41273533 0.40917395 0.68930127\n",
            "  0.75135877 0.67112698 0.65257012 0.70519814 0.54999329 0.54753647\n",
            "  0.74347872 0.87301182 0.84292682 0.19422978 0.82442481 0.57692232\n",
            "  0.8289879  0.93485024 0.44495769 0.27142327 0.49418655 0.36826285\n",
            "  0.4141946  0.72819373 1.06327165 0.90457093 0.28801907 0.33719141\n",
            "  0.53687221 0.84597437 0.8687349  0.23447326 0.43743152 0.83185421\n",
            "  0.19807197 0.96201181 0.         0.63199802 0.57260499 0.31539918\n",
            "  0.79068744 0.66948187 0.87725858 0.55959105 0.02079249 0.54695725\n",
            "  0.18957835 0.30702531 0.58989507 0.19033002 0.09467762 0.82866253\n",
            "  0.2968666  0.48559621 0.61358965 0.34885418 0.97988194 0.87697392\n",
            "  0.98689882 0.77251306 0.62969578 0.71396774 0.22139693 0.79721636\n",
            "  0.71219284 0.72680939 0.1024809  0.85774054 0.68771145 0.3858405\n",
            "  0.49389286 0.60056464 0.62902898 0.60474742 0.60103979 0.77786323\n",
            "  0.52359157 0.49680078 0.99332017 0.09324888 0.89741341 0.88672708\n",
            "  0.82165236 0.44738915 0.88451797 0.03508329 0.49209725 0.84419378\n",
            "  0.82603845 0.572334   0.85877162 0.37485613]\n",
            " [0.65513493 0.38241273 0.70662383 0.51033569 0.19021278 0.56258713\n",
            "  0.68017212 0.50281053 0.88455825 0.46755946 0.24084808 0.25519481\n",
            "  0.73123102 0.42313111 0.02725692 0.09797808 0.34445723 0.40281378\n",
            "  0.24802656 0.24950737 0.37222217 0.58544124 0.33733512 0.49113161\n",
            "  0.29151483 0.52554389 0.44224587 0.52704408 0.38495252 0.47038896\n",
            "  0.555404   0.45138138 0.6842111  0.57768806 0.46949192 0.37636165\n",
            "  0.16810492 0.39057471 0.52033816 0.73898905 0.75768754 0.46094494\n",
            "  0.75004265 0.52012393 0.63199802 0.         0.61812994 0.58913904\n",
            "  0.31912086 0.47256836 0.25054219 0.28912101 0.64276058 0.58027332\n",
            "  0.54458232 0.45077323 0.15419517 0.69343003 0.57682152 0.63701138\n",
            "  0.75593437 0.1566308  0.92702436 0.54116873 0.54449852 0.54749284\n",
            "  0.68174335 0.16818424 0.95522534 0.51899609 0.43176426 0.33737658\n",
            "  0.08773471 0.15793763 0.54563956 0.34041637 0.05580038 0.79924735\n",
            "  0.28410585 0.41111586 0.95711301 0.4866288  0.89126489 0.68286712\n",
            "  0.24619377 0.205573   0.57577576 0.53984731 0.5830266  0.34580219\n",
            "  0.5176761  0.49602067 0.27926917 0.64489238 0.23012414 0.26766669\n",
            "  0.31404494 0.83947282 0.29002041 0.5267239 ]\n",
            " [0.72752502 0.32525859 0.71708663 0.34448132 0.43507986 0.31479554\n",
            "  0.16712464 0.31286645 0.30877209 0.19809685 0.590889   0.84258577\n",
            "  0.17970833 0.27366829 0.64474719 0.71482834 0.27764563 0.21891229\n",
            "  0.85699873 0.83141598 0.51968055 0.37991467 0.52707099 0.13857963\n",
            "  0.9095122  0.51579297 0.81583404 0.30419901 0.81297112 0.23258907\n",
            "  0.15899708 0.3062981  0.58607505 0.43200173 0.7063669  0.66891191\n",
            "  0.45109611 0.50665811 0.42594899 0.44503634 0.26817765 0.42482292\n",
            "  0.49740947 0.56154986 0.57260499 0.61812994 0.         0.80950233\n",
            "  0.92734652 0.22669032 0.82465675 0.79175639 0.56213335 0.03948903\n",
            "  0.3850779  0.30279838 0.71156577 0.44211837 0.47990612 0.29387793\n",
            "  0.86226766 0.59062227 0.35554598 0.80707424 0.56795939 0.41626222\n",
            "  0.47809641 0.78038505 0.38438635 0.23307138 0.58474833 0.48994155\n",
            "  0.63923153 0.57469144 0.58432868 0.95781452 0.64954809 0.36638305\n",
            "  0.33655662 0.23200433 0.38736267 0.15929573 0.31511756 0.21242842\n",
            "  0.73203673 0.42048872 0.56235582 0.52237513 0.41833218 0.61484822\n",
            "  0.36526174 0.15423996 0.88023822 0.60733393 0.68975337 0.6342812\n",
            "  0.93023157 0.26458954 0.6323636  0.81796767]\n",
            " [0.17066469 0.80842552 0.24356569 0.47277072 0.64180764 0.96952212\n",
            "  0.73573953 0.50115147 0.89919166 0.6173543  0.3570287  0.52155487\n",
            "  0.98659204 0.81365333 0.59835891 0.62298643 0.68240754 0.70619855\n",
            "  0.58707018 0.78006656 0.909601   0.47311609 0.88139094 0.76666117\n",
            "  0.67407979 1.03753161 0.1987745  0.51592858 0.27202784 0.57803595\n",
            "  0.65587486 0.86769992 1.18676675 1.04134094 0.12644108 0.21484139\n",
            "  0.57998028 0.92040618 0.99362026 0.54948328 0.73666719 0.94378382\n",
            "  0.51248916 1.05075881 0.31539918 0.58913904 0.80950233 0.\n",
            "  0.61005502 0.83225271 0.78973703 0.37918002 0.33600245 0.77569448\n",
            "  0.44629587 0.50723074 0.4764088  0.50331782 0.36992737 1.01211264\n",
            "  0.18648514 0.43680026 0.92067398 0.06086367 1.07277897 1.01052607\n",
            "  1.13805641 0.67293545 0.93886257 0.88392371 0.2309667  0.86515188\n",
            "  0.67667072 0.7313255  0.24245671 0.68627128 0.63962785 0.69763126\n",
            "  0.60108275 0.75340372 0.93849128 0.78721365 0.90407459 0.99094455\n",
            "  0.37679378 0.55751555 1.09551851 0.30608659 1.03882873 0.9180106\n",
            "  0.960852   0.66038644 0.76814339 0.29049066 0.37014011 0.8507102\n",
            "  0.65783297 0.86975717 0.87113892 0.08992208]\n",
            " [0.7424875  0.69936409 0.81124086 0.75178962 0.50897683 0.87658325\n",
            "  0.96707055 0.7550191  1.17243426 0.75847972 0.40042404 0.10200338\n",
            "  1.04926167 0.74179974 0.29590886 0.23665986 0.66007618 0.71731305\n",
            "  0.07122003 0.26729253 0.65110858 0.81410106 0.61517457 0.80613304\n",
            "  0.08678929 0.80740972 0.41221024 0.7802385  0.33807899 0.75071426\n",
            "  0.84331361 0.76733455 0.96181014 0.87797508 0.53297946 0.45757883\n",
            "  0.47829759 0.67289974 0.82030211 0.95995842 1.03093723 0.76104644\n",
            "  0.95503292 0.78981096 0.79068744 0.31912086 0.92734652 0.61005502\n",
            "  0.         0.79166557 0.28341909 0.237279   0.80738064 0.88848766\n",
            "  0.77114735 0.71242608 0.2255787  0.90948606 0.7689624  0.95325622\n",
            "  0.79653612 0.3549028  1.21185829 0.54948279 0.81405306 0.84945381\n",
            "  0.97993962 0.20486831 1.23880437 0.83766782 0.56948255 0.62689008\n",
            "  0.34196672 0.4388409  0.68918529 0.07717041 0.30984109 1.05303377\n",
            "  0.59090899 0.72935602 1.24024353 0.80377794 1.17899958 1.00198468\n",
            "  0.26714005 0.50687529 0.8491693  0.71211533 0.88555587 0.58833467\n",
            "  0.82645781 0.79311771 0.21701155 0.78993843 0.30133709 0.49981502\n",
            "  0.05415859 1.12892867 0.52305565 0.52243399]\n",
            " [0.79516563 0.10852192 0.80544703 0.43505486 0.28373228 0.14016412\n",
            "  0.37718036 0.40343547 0.53506636 0.26119363 0.53309007 0.72201286\n",
            "  0.26731772 0.05516704 0.49608164 0.56064068 0.15609014 0.12695513\n",
            "  0.72059488 0.64786631 0.2942249  0.50008881 0.30457654 0.10844818\n",
            "  0.75670592 0.29913371 0.78330462 0.40931238 0.75977442 0.30451522\n",
            "  0.30114456 0.08052128 0.3996974  0.23881143 0.71220135 0.64886026\n",
            "  0.32628949 0.28031034 0.21473927 0.61099605 0.48094588 0.20149838\n",
            "  0.65475611 0.34132522 0.66948187 0.47256836 0.22669032 0.83225271\n",
            "  0.79166557 0.         0.63852634 0.70794229 0.66543768 0.20810575\n",
            "  0.48578806 0.36253009 0.59936545 0.59226742 0.57596495 0.18355698\n",
            "  0.92921304 0.50080116 0.58183092 0.81320948 0.35085607 0.21448405\n",
            "  0.31761441 0.61701075 0.61052361 0.05301011 0.60227557 0.26782043\n",
            "  0.46771535 0.38607939 0.64599689 0.80723245 0.48875608 0.57018219\n",
            "  0.24289904 0.07958224 0.61356881 0.07737691 0.54133093 0.21037941\n",
            "  0.64945131 0.31636951 0.35138287 0.59480561 0.22976043 0.39240588\n",
            "  0.15843885 0.23758925 0.70361369 0.70080224 0.61164711 0.42234921\n",
            "  0.78334221 0.49120685 0.41697365 0.81587545]\n",
            " [0.8826102  0.53210334 0.9402926  0.75972116 0.39408261 0.68614823\n",
            "  0.9107666  0.75062617 1.11122796 0.70030857 0.47280358 0.3050969\n",
            "  0.90578729 0.58360263 0.22680865 0.17355056 0.54812439 0.60616069\n",
            "  0.24571836 0.01647169 0.42030103 0.83557325 0.38722042 0.68834352\n",
            "  0.20094671 0.56841602 0.61123168 0.77438409 0.53984629 0.70955594\n",
            "  0.7879154  0.59035381 0.71293188 0.65794334 0.68240916 0.59071787\n",
            "  0.3999685  0.44354581 0.60264656 0.98915266 0.99525091 0.54721483\n",
            "  1.00057275 0.5410461  0.87725858 0.25054219 0.82465675 0.78973703\n",
            "  0.28341909 0.63852634 0.         0.4252983  0.88914398 0.78980827\n",
            "  0.79495187 0.69721816 0.31360826 0.9438889  0.82620184 0.76817379\n",
            "  0.96902371 0.392212   1.15549283 0.73431857 0.56404603 0.63344893\n",
            "  0.75285565 0.11710756 1.18427945 0.67379475 0.66812301 0.41046198\n",
            "  0.19105348 0.25296973 0.7864717  0.24209235 0.19794563 1.0437775\n",
            "  0.5100657  0.5976147  1.18646298 0.67552704 1.11795989 0.84132491\n",
            "  0.41366203 0.44317485 0.60069994 0.78631224 0.66878147 0.33537129\n",
            "  0.62464075 0.72265867 0.08041723 0.88765908 0.42125106 0.25304807\n",
            "  0.23866594 1.0654781  0.27270416 0.71343077]\n",
            " [0.50529698 0.63835162 0.57398941 0.55476726 0.43638737 0.82082946\n",
            "  0.79694411 0.56480491 0.99788179 0.60272524 0.20596853 0.142773\n",
            "  0.93959637 0.66763326 0.28371433 0.27709996 0.55643366 0.60582258\n",
            "  0.20789095 0.41344445 0.66039583 0.60690362 0.62592791 0.69116979\n",
            "  0.29511913 0.81163723 0.18803221 0.58929927 0.11480734 0.58393201\n",
            "  0.67933052 0.70783925 0.97024183 0.8539076  0.29570988 0.22298789\n",
            "  0.38358192 0.6779392  0.79781485 0.7446328  0.8457009  0.7394893\n",
            "  0.73352095 0.80858529 0.55959105 0.28912101 0.79175639 0.37918002\n",
            "  0.237279   0.70794229 0.4252983  0.         0.57725285 0.75232502\n",
            "  0.56473489 0.53190279 0.13617569 0.69329928 0.54780287 0.88699091\n",
            "  0.56495795 0.20775138 1.03327942 0.31985744 0.83286599 0.82284584\n",
            "  0.95807124 0.30924105 1.05844948 0.75955188 0.34065844 0.62361388\n",
            "  0.36318922 0.44685037 0.45725555 0.31090529 0.32146607 0.85286706\n",
            "  0.4729055  0.63352594 1.05941576 0.69758981 1.00415471 0.90981301\n",
            "  0.05989869 0.39247115 0.8634089  0.4865376  0.85723007 0.63252675\n",
            "  0.78628038 0.64319985 0.39296535 0.55632609 0.10205799 0.55004187\n",
            "  0.28106887 0.95710707 0.57339931 0.29530574]\n",
            " [0.18905813 0.68578176 0.15721311 0.23114819 0.59173928 0.80384125\n",
            "  0.44477256 0.26365772 0.57853039 0.40702858 0.42302213 0.70582094\n",
            "  0.74031436 0.66877597 0.66381207 0.71760564 0.54944433 0.54476208\n",
            "  0.75928665 0.88520418 0.84539408 0.18246887 0.82766051 0.57108374\n",
            "  0.84442071 0.93432732 0.46505209 0.2633354  0.51350924 0.36264193\n",
            "  0.4043489  0.72574853 1.06078003 0.90155326 0.30809203 0.35530326\n",
            "  0.54321372 0.84787658 0.86678236 0.21420766 0.41996272 0.8310548\n",
            "  0.17728125 0.96241474 0.02079249 0.64276058 0.56213335 0.33600245\n",
            "  0.80738064 0.66543768 0.88914398 0.57725285 0.         0.53748702\n",
            "  0.18203315 0.30368431 0.60460597 0.17087669 0.08957045 0.82208491\n",
            "  0.31232751 0.49813907 0.59468425 0.36964473 0.97992118 0.87431283\n",
            "  0.9824734  0.78547202 0.61046025 0.70905495 0.23790114 0.79981991\n",
            "  0.72197542 0.73407126 0.12098916 0.87383882 0.69837049 0.36632886\n",
            "  0.49602722 0.59784754 0.6097472  0.59938225 0.58273281 0.76882945\n",
            "  0.54024069 0.50240461 0.99263179 0.10293374 0.89405494 0.89142217\n",
            "  0.8187723  0.44038836 0.89789223 0.05091088 0.5080249  0.85069282\n",
            "  0.84208323 0.554837   0.86482848 0.39561648]\n",
            " [0.69847716 0.30017952 0.69096613 0.31508313 0.39866178 0.31105174\n",
            "  0.1708873  0.28281103 0.33404833 0.16103755 0.55170064 0.803351\n",
            "  0.21102715 0.25056591 0.60699537 0.67724131 0.24185766 0.18366771\n",
            "  0.81823512 0.79622755 0.49687522 0.35637328 0.5020844  0.10958289\n",
            "  0.87149098 0.50386904 0.77801987 0.27634172 0.77425574 0.19772432\n",
            "  0.13332226 0.28862063 0.58409186 0.4268503  0.67073655 0.63140864\n",
            "  0.41288097 0.48513543 0.41559866 0.43342276 0.27460967 0.40918238\n",
            "  0.48383805 0.5480185  0.54695725 0.58027332 0.03948903 0.77569448\n",
            "  0.88848766 0.20810575 0.78980827 0.75232502 0.53748702 0.\n",
            "  0.35802713 0.268467   0.67226162 0.42616298 0.45329865 0.30062955\n",
            "  0.83366472 0.55114483 0.38060043 0.77179902 0.55599732 0.40866006\n",
            "  0.48089953 0.74331552 0.40968902 0.22306516 0.54951337 0.46496102\n",
            "  0.60330262 0.54108996 0.55369108 0.91960815 0.61263302 0.36828912\n",
            "  0.29792551 0.20210271 0.41248642 0.13485513 0.34057603 0.23164586\n",
            "  0.69259301 0.3816151  0.55288261 0.49265696 0.41411551 0.5894659\n",
            "  0.35556684 0.11705822 0.84416987 0.58138176 0.65033287 0.60486344\n",
            "  0.89185904 0.28882635 0.60398189 0.78208061]\n",
            " [0.3435699  0.51442489 0.33300813 0.05131181 0.4504449  0.62317581\n",
            "  0.28964013 0.08238596 0.4608663  0.22569199 0.370946   0.67028242\n",
            "  0.56457346 0.49277614 0.56934112 0.63273406 0.38025904 0.36833864\n",
            "  0.7122182  0.79405231 0.68604926 0.04296379 0.67224463 0.38940406\n",
            "  0.79016219 0.76263204 0.51023508 0.08189082 0.5358185  0.18156413\n",
            "  0.22610666 0.54928092 0.8834822  0.723377   0.36770062 0.36904478\n",
            "  0.41280097 0.68592221 0.691136   0.19477066 0.29874336 0.65886053\n",
            "  0.20857552 0.79378757 0.18957835 0.54458232 0.3850779  0.44629587\n",
            "  0.77114735 0.48578806 0.79495187 0.56473489 0.18203315 0.35802713\n",
            "  0.         0.12964975 0.549691   0.1491241  0.09532039 0.64006072\n",
            "  0.47757544 0.42509587 0.48824565 0.45851491 0.80994352 0.69694326\n",
            "  0.80190208 0.70431761 0.51006763 0.52810984 0.25192611 0.64152621\n",
            "  0.6126211  0.60470299 0.20682673 0.82760884 0.59737598 0.28870624\n",
            "  0.34055074 0.4212498  0.51036784 0.4180715  0.46631783 0.58847086\n",
            "  0.51441138 0.36849143 0.82023612 0.14243304 0.71522826 0.74325373\n",
            "  0.6410374  0.25835627 0.81854057 0.2236096  0.47433275 0.71408664\n",
            "  0.79588891 0.42757637 0.72516824 0.47676599]\n",
            " [0.43958638 0.3850986  0.44385978 0.07903719 0.33107642 0.5018363\n",
            "  0.26573287 0.05628547 0.4661902  0.11240941 0.32632054 0.61555937\n",
            "  0.47938229 0.36533857 0.47715915 0.5449353  0.25060989 0.24113344\n",
            "  0.64784823 0.69822704 0.55727417 0.15702094 0.54448581 0.27362934\n",
            "  0.71856949 0.63353894 0.52239606 0.07779339 0.52996498 0.07086796\n",
            "  0.15635423 0.42221484 0.75715927 0.59787882 0.40423257 0.37442409\n",
            "  0.30177856 0.5566725  0.56358313 0.30299085 0.31861546 0.52983848\n",
            "  0.32935623 0.66422446 0.30702531 0.45077323 0.30279838 0.50723074\n",
            "  0.71242608 0.36253009 0.69721816 0.53190279 0.30368431 0.268467\n",
            "  0.12964975 0.         0.48685181 0.2660978  0.21411936 0.52631361\n",
            "  0.57507913 0.35755216 0.50271071 0.50447362 0.68053964 0.57065734\n",
            "  0.68007242 0.61691591 0.52869334 0.40784114 0.28224519 0.51308132\n",
            "  0.5091351  0.48921883 0.29123662 0.76051666 0.49979497 0.34881388\n",
            "  0.21555748 0.29422243 0.52989259 0.29984759 0.4725182  0.48843189\n",
            "  0.47530258 0.25705803 0.69135455 0.2348632  0.5904932  0.61762184\n",
            "  0.51508839 0.15389692 0.72974034 0.33830561 0.43259664 0.59353773\n",
            "  0.72962534 0.42520735 0.60311999 0.5161339 ]\n",
            " [0.57366731 0.52011802 0.63508009 0.52778216 0.31845707 0.70274339\n",
            "  0.74258777 0.52993282 0.94769671 0.53579007 0.18339556 0.13166163\n",
            "  0.84519355 0.55465024 0.14754256 0.14879618 0.45526746 0.50956186\n",
            "  0.16269974 0.30456758 0.52639396 0.59261678 0.49152906 0.597784\n",
            "  0.24210344 0.67922312 0.30561648 0.55516258 0.24036304 0.5260752\n",
            "  0.61943584 0.58993283 0.83792736 0.72714759 0.36978432 0.27955381\n",
            "  0.27384212 0.54458241 0.67029411 0.74125393 0.80536125 0.61129401\n",
            "  0.74055132 0.67431859 0.58989507 0.15419517 0.71156577 0.4764088\n",
            "  0.2255787  0.59936545 0.31360826 0.13617569 0.60460597 0.67226162\n",
            "  0.549691   0.48685181 0.         0.69161258 0.55612145 0.77307998\n",
            "  0.65557029 0.12932872 0.98672215 0.42189548 0.69869342 0.6964703\n",
            "  0.83142073 0.19742393 1.0135359  0.6491587  0.37084475 0.49098486\n",
            "  0.2272485  0.31124289 0.49221195 0.27791785 0.18559134 0.82866936\n",
            "  0.37832728 0.52956168 1.01493985 0.59954076 0.95423367 0.80668618\n",
            "  0.10349726 0.29389441 0.72988697 0.50470631 0.73151506 0.49635225\n",
            "  0.66314176 0.57203257 0.30078108 0.59467028 0.10811572 0.41410232\n",
            "  0.24621544 0.90449799 0.43738388 0.40240211]\n",
            " [0.35952879 0.63821014 0.31849913 0.19030692 0.59559901 0.72246148\n",
            "  0.29901194 0.2103002  0.40968405 0.3351462  0.50973435 0.80778732\n",
            "  0.6119369  0.60908967 0.7179953  0.78064947 0.5097329  0.48708012\n",
            "  0.85325582 0.94282066 0.81990426 0.1107104  0.80895172 0.48721911\n",
            "  0.9333357  0.88264394 0.61102214 0.1936947  0.64884649 0.2964674\n",
            "  0.29773874 0.66346455 0.99153885 0.83064577 0.456928   0.48244081\n",
            "  0.56066307 0.81767462 0.80496892 0.05149387 0.25503383 0.77925202\n",
            "  0.0640134  0.91769872 0.19033002 0.69343003 0.44211837 0.50331782\n",
            "  0.90948606 0.59226742 0.9438889  0.69329928 0.17087669 0.42616298\n",
            "  0.1491241  0.2660978  0.69161258 0.         0.14847532 0.72513922\n",
            "  0.47727669 0.56991677 0.42416728 0.53144582 0.93197215 0.80672945\n",
            "  0.89932711 0.85198894 0.43960716 0.62763103 0.35935897 0.77656839\n",
            "  0.7617008  0.75175051 0.26874449 0.96897995 0.74641821 0.19551152\n",
            "  0.4816431  0.53801249 0.43887834 0.51810755 0.41360829 0.65448875\n",
            "  0.6472059  0.5161075  0.93863519 0.2158528  0.8206111  0.88347759\n",
            "  0.75062369 0.35473272 0.96624845 0.22116318 0.60922528 0.85889313\n",
            "  0.93711504 0.38880355 0.86895482 0.55522277]\n",
            " [0.25154567 0.59688558 0.23769173 0.14244678 0.51030062 0.71454468\n",
            "  0.37509319 0.17523965 0.52927445 0.31823648 0.37274713 0.66697318\n",
            "  0.65918097 0.5792846  0.59948484 0.65751414 0.46076903 0.45521768\n",
            "  0.71565118 0.82347483 0.75939554 0.10697519 0.7427311  0.48241179\n",
            "  0.79813408 0.8455045  0.46321269 0.1771961  0.50040993 0.27377977\n",
            "  0.3210658  0.63623482 0.97124416 0.81198318 0.31056591 0.33426133\n",
            "  0.46490137 0.76119069 0.77736228 0.19979219 0.36685944 0.74210225\n",
            "  0.18623254 0.87421999 0.09467762 0.57682152 0.47990612 0.36992737\n",
            "  0.7689624  0.57596495 0.82620184 0.54780287 0.08957045 0.45329865\n",
            "  0.09532039 0.21411936 0.55612145 0.14847532 0.         0.73401196\n",
            "  0.38404269 0.44054114 0.55124073 0.39093765 0.89144945 0.78476322\n",
            "  0.89312511 0.72733906 0.570203   0.61987499 0.21111825 0.71404144\n",
            "  0.65230332 0.65721225 0.12787597 0.83128527 0.631746   0.33284616\n",
            "  0.4101335  0.50830534 0.5699916  0.51041682 0.53414732 0.68378162\n",
            "  0.50400605 0.42263456 0.903704   0.06836045 0.80449394 0.80878303\n",
            "  0.72920749 0.35271648 0.84108468 0.12834043 0.46765997 0.77174594\n",
            "  0.79936953 0.50049505 0.78489032 0.41279656]\n",
            " [0.96523164 0.25461928 0.96913697 0.59158797 0.45462788 0.08262536\n",
            "  0.46062532 0.55877363 0.5605346  0.41633397 0.71629699 0.89100397\n",
            "  0.2026403  0.21937676 0.65820299 0.71768355 0.33959759 0.30639259\n",
            "  0.88304421 0.77982414 0.36546712 0.64658332 0.39104563 0.25270034\n",
            "  0.90969823 0.28168927 0.96683964 0.559304   0.9424496  0.46075547\n",
            "  0.42788721 0.18592771 0.30260536 0.17065919 0.89364126 0.83207122\n",
            "  0.50350631 0.34392778 0.19700998 0.73402259 0.55932896 0.23408001\n",
            "  0.78393473 0.33214471 0.82866253 0.63701138 0.29387793 1.01211264\n",
            "  0.95325622 0.18355698 0.76817379 0.88699091 0.82208491 0.30062955\n",
            "  0.64006072 0.52631361 0.77307998 0.72513922 0.73401196 0.\n",
            "  1.10039901 0.68104424 0.60459062 0.99504498 0.32851523 0.17179848\n",
            "  0.18641004 0.76657175 0.63045147 0.13055079 0.78137106 0.36120902\n",
            "  0.61704884 0.52553625 0.81618935 0.96061818 0.64439959 0.65943836\n",
            "  0.42636563 0.26290039 0.63398594 0.22741702 0.56565328 0.11437664\n",
            "  0.82923102 0.49776606 0.30977308 0.76117677 0.15411947 0.4692843\n",
            "  0.15037779 0.38175778 0.84039192 0.86162957 0.79245031 0.52644602\n",
            "  0.93928523 0.52382996 0.51381999 0.99844841]\n",
            " [0.13559247 0.92426169 0.15896577 0.5185878  0.78007545 1.06928657\n",
            "  0.7559793  0.55100968 0.88686897 0.68701985 0.51632303 0.70757346\n",
            "  1.04192714 0.92017799 0.76814461 0.79926569 0.79060694 0.80263487\n",
            "  0.77277279 0.96013369 1.04931304 0.48941595 1.02415748 0.84815122\n",
            "  0.86005114 1.16492536 0.38489558 0.55807279 0.45848609 0.64351852\n",
            "  0.7033076  0.97657698 1.30666937 1.15379122 0.28782438 0.38100812\n",
            "  0.72042053 1.05741112 1.11095355 0.51235694 0.73092876 1.06612691\n",
            "  0.46255064 1.18391258 0.2968666  0.75593437 0.86226766 0.18648514\n",
            "  0.79653612 0.92921304 0.96902371 0.56495795 0.31232751 0.83366472\n",
            "  0.47757544 0.57507913 0.65557029 0.47727669 0.38404269 1.10039901\n",
            "  0.         0.59987904 0.8993801  0.24711755 1.20452671 1.12412495\n",
            "  1.2445188  0.85296146 0.91263065 0.97798449 0.345922   1.00371914\n",
            "  0.8435623  0.88838339 0.28421321 0.87274726 0.80884854 0.66851291\n",
            "  0.71762295 0.85378551 0.91153191 0.87306856 0.8906882  1.06134107\n",
            "  0.55891082 0.69069404 1.22372807 0.34162689 1.14906177 1.06991073\n",
            "  1.07121365 0.72627986 0.95132352 0.26209461 0.54777406 1.00920148\n",
            "  0.84424022 0.86550071 1.02820718 0.27498044]\n",
            " [0.49878872 0.43601631 0.55170889 0.40041479 0.23739066 0.61723989\n",
            "  0.61407217 0.40128824 0.81891501 0.40921537 0.08422943 0.25940047\n",
            "  0.73315743 0.46201881 0.17191363 0.21960872 0.34868585 0.39847856\n",
            "  0.2907911  0.38751705 0.48731978 0.46779998 0.45586058 0.48458901\n",
            "  0.36545694 0.62955195 0.31025319 0.4265124  0.26819114 0.39757725\n",
            "  0.49154607 0.50472641 0.78622968 0.65896218 0.31465069 0.22227839\n",
            "  0.17975673 0.5015558  0.60456286 0.61856501 0.67603449 0.54806379\n",
            "  0.62172295 0.63400319 0.48559621 0.1566308  0.59062227 0.43680026\n",
            "  0.3549028  0.50080116 0.392212   0.20775138 0.49813907 0.55114483\n",
            "  0.42509587 0.35755216 0.12932872 0.56991677 0.44054114 0.68104424\n",
            "  0.59987904 0.         0.85765097 0.39231499 0.65746826 0.62757117\n",
            "  0.76228473 0.28757805 0.88437364 0.5527365  0.27737263 0.44572395\n",
            "  0.2439015  0.29511496 0.3943845  0.40476003 0.21106302 0.70058663\n",
            "  0.2654735  0.42585167 0.88575456 0.49013405 0.82542993 0.70207342\n",
            "  0.14871475 0.18480157 0.68471481 0.39570788 0.66076179 0.4834644\n",
            "  0.58719351 0.4469076  0.40080014 0.49544778 0.11168305 0.41394199\n",
            "  0.37342987 0.77595633 0.43456595 0.38108497]\n",
            " [0.78362571 0.6801035  0.74047017 0.48333804 0.76158107 0.65060069\n",
            "  0.24691116 0.46919261 0.04677591 0.45948746 0.82852761 1.1168611\n",
            "  0.41007973 0.62909272 0.95427957 1.02484821 0.61220735 0.5576081\n",
            "  1.14526932 1.16015669 0.87522613 0.453134   0.88210647 0.4901682\n",
            "  1.21049598 0.86178319 0.99814747 0.44533298 1.01963863 0.46153322\n",
            "  0.37181794 0.66061113 0.90704465 0.7662152  0.85489337 0.85480542\n",
            "  0.76083249 0.86207129 0.77065458 0.38711541 0.19008976 0.77669999\n",
            "  0.43908224 0.909629   0.61358965 0.92702436 0.35554598 0.92067398\n",
            "  1.21185829 0.58183092 1.15549283 1.03327942 0.59468425 0.38060043\n",
            "  0.48824565 0.50271071 0.98672215 0.42416728 0.55124073 0.60459062\n",
            "  0.8993801  0.85765097 0.         0.94138053 0.91342118 0.75616624\n",
            "  0.78765736 1.09488976 0.02915461 0.58204148 0.74010217 0.84496225\n",
            "  0.96517354 0.91351646 0.6791164  1.25514797 0.96762237 0.23095481\n",
            "  0.64662034 0.58238641 0.03188846 0.51399839 0.04052913 0.49351239\n",
            "  0.97753421 0.72145413 0.90315105 0.61748662 0.75082338 0.96971152\n",
            "  0.7101559  0.43309679 1.20240776 0.64523644 0.93498647 0.9845001\n",
            "  1.22511261 0.09186192 0.98427412 0.96186145]\n",
            " [0.22151197 0.78205528 0.295499   0.47908096 0.607325   0.94835976\n",
            "  0.74530706 0.50517649 0.91733538 0.6114917  0.31622363 0.46183836\n",
            "  0.98167219 0.79100298 0.54873112 0.56965123 0.66044191 0.68868189\n",
            "  0.52763465 0.72421833 0.87257033 0.48936792 0.8431782  0.75421359\n",
            "  0.61434812 1.00505502 0.13791872 0.52227187 0.21140468 0.57449499\n",
            "  0.65740272 0.84367296 1.15669703 1.01482859 0.10200875 0.17484279\n",
            "  0.54519342 0.88447912 0.96541833 0.57963878 0.75451194 0.91383275\n",
            "  0.54688228 1.01586391 0.34885418 0.54116873 0.80707424 0.06086367\n",
            "  0.54948279 0.81320948 0.73431857 0.31985744 0.36964473 0.77179902\n",
            "  0.45851491 0.50447362 0.42189548 0.53144582 0.39093765 0.99504498\n",
            "  0.24711755 0.39231499 0.94138053 0.         1.03837591 0.98371998\n",
            "  1.11341793 0.61729006 0.96091586 0.86556797 0.22233059 0.82884562\n",
            "  0.62817186 0.68740098 0.26376157 0.62582289 0.59009244 0.72302177\n",
            "  0.57672437 0.73378037 0.9607661  0.77288453 0.92250374 0.98061261\n",
            "  0.32068431 0.52641331 1.06247016 0.32392345 1.01319953 0.87560783\n",
            "  0.93560762 0.65519415 0.71043361 0.32804623 0.31736819 0.80556295\n",
            "  0.59756272 0.88566178 0.82657247 0.03031044]\n",
            " [1.0779325  0.29553394 1.1033342  0.75877461 0.43121908 0.26474963\n",
            "  0.72662738 0.73018961 0.86742895 0.59688496 0.72393962 0.78394152\n",
            "  0.52868937 0.32370876 0.55406976 0.58818786 0.43072668 0.44499582\n",
            "  0.75238171 0.57925854 0.17247921 0.83184912 0.20718487 0.45895866\n",
            "  0.74772177 0.05218244 0.96770077 0.74130549 0.92068088 0.63615345\n",
            "  0.64964301 0.27237528 0.14905571 0.15852903 0.94637691 0.86355865\n",
            "  0.49328651 0.1560827  0.14281823 0.95550663 0.83046681 0.15285731\n",
            "  0.99561058 0.0245238  0.97988194 0.54449852 0.56795939 1.07277897\n",
            "  0.81405306 0.35085607 0.56404603 0.83286599 0.97992118 0.55599732\n",
            "  0.80994352 0.68053964 0.69869342 0.93197215 0.89144945 0.32851523\n",
            "  1.20452671 0.65746826 0.91342118 1.03837591 0.         0.15937764\n",
            "  0.2121731  0.60938656 0.94095626 0.33488876 0.8594617  0.21178803\n",
            "  0.48279711 0.38915794 0.93426285 0.79587746 0.5225255  0.92100574\n",
            "  0.49005955 0.39410278 0.94429485 0.42815857 0.87320142 0.44095089\n",
            "  0.78556825 0.5162074  0.03691642 0.89460766 0.17514108 0.22915883\n",
            "  0.20352476 0.58200002 0.64421248 1.00737425 0.76085971 0.31588641\n",
            "  0.78346536 0.82636189 0.29371915 1.0320558 ]\n",
            " [0.99249087 0.20210244 1.00895237 0.64579763 0.39018203 0.10580726\n",
            "  0.57929414 0.61494069 0.71048255 0.47436649 0.68040066 0.80112488\n",
            "  0.36967023 0.20603212 0.56394625 0.61357663 0.33353766 0.32955263\n",
            "  0.78203357 0.64673838 0.21438171 0.71331574 0.24626931 0.32133872\n",
            "  0.79505575 0.1103644  0.93232609 0.62229752 0.89573974 0.5168487\n",
            "  0.51455087 0.14891881 0.18656135 0.0314463  0.88603066 0.81172021\n",
            "  0.44948495 0.19119979 0.03091211 0.82516477 0.68262637 0.0884895\n",
            "  0.86923765 0.16076782 0.87697392 0.54749284 0.41626222 1.01052607\n",
            "  0.84945381 0.21448405 0.63344893 0.82284584 0.87431283 0.40866006\n",
            "  0.69694326 0.57065734 0.6964703  0.80672945 0.78476322 0.17179848\n",
            "  1.12412495 0.62757117 0.75616624 0.98371998 0.15937764 0.\n",
            "  0.13522583 0.65138776 0.78340578 0.18574692 0.78603941 0.22533516\n",
            "  0.50749375 0.4107043  0.84460332 0.84547942 0.5414436  0.77675669\n",
            "  0.40989394 0.27647229 0.78678926 0.29003967 0.71613112 0.28230402\n",
            "  0.76923404 0.45926493 0.14712778 0.7978219  0.03612361 0.3128356\n",
            "  0.05616182 0.4520733  0.71011992 0.90706912 0.73781482 0.38225448\n",
            "  0.82779979 0.67024732 0.36576811 0.98188133]\n",
            " [1.11125454 0.33196438 1.12299398 0.75159274 0.52492872 0.1787278\n",
            "  0.64521698 0.71954142 0.74442752 0.57629203 0.81345449 0.93454637\n",
            "  0.37928385 0.32529901 0.69753672 0.74509585 0.45642486 0.44254686\n",
            "  0.91344924 0.76696526 0.33362259 0.81353608 0.36836221 0.41409093\n",
            "  0.92251116 0.18814437 1.0658074  0.72367721 1.03037108 0.6203404\n",
            "  0.60191499 0.27037396 0.1236352  0.10428077 1.01462702 0.94271781\n",
            "  0.58366321 0.31065587 0.16140662 0.91198678 0.74501193 0.22087189\n",
            "  0.95988456 0.22822447 0.98689882 0.68174335 0.47809641 1.13805641\n",
            "  0.97993962 0.31761441 0.75285565 0.95807124 0.9824734  0.48089953\n",
            "  0.80190208 0.68007242 0.83142073 0.89932711 0.89312511 0.18641004\n",
            "  1.2445188  0.76228473 0.78765736 1.11341793 0.2121731  0.13522583\n",
            "  0.         0.779557   0.81277427 0.27393571 0.91110897 0.35312616\n",
            "  0.63847476 0.5413413  0.96234653 0.97249805 0.67366096 0.8444177\n",
            "  0.5371638  0.39080097 0.81636624 0.38432587 0.74933013 0.29414565\n",
            "  0.90440516 0.59153215 0.17928339 0.91220373 0.10158846 0.42142155\n",
            "  0.17792906 0.54752524 0.83130555 1.01837407 0.87276298 0.49980836\n",
            "  0.95615557 0.7089123  0.48076385 1.1126328 ]\n",
            " [0.7693134  0.51701059 0.82872809 0.67317861 0.34594192 0.68721159\n",
            "  0.84811252 0.66773248 1.05218813 0.63552094 0.36432519 0.19788923\n",
            "  0.88196949 0.56409053 0.14102688 0.07204117 0.50357384 0.56250377\n",
            "  0.14836581 0.1072021  0.44824812 0.74610754 0.41252736 0.64931408\n",
            "  0.14392374 0.60397368 0.49437795 0.69231097 0.42345676 0.63849878\n",
            "  0.7234266  0.58201962 0.75741937 0.6789637  0.56705573 0.47610366\n",
            "  0.33454762 0.4704513  0.62158724 0.89907377 0.92578179 0.56294316\n",
            "  0.90622234 0.58519858 0.77251306 0.16818424 0.78038505 0.67293545\n",
            "  0.20486831 0.61701075 0.11710756 0.30924105 0.78547202 0.74331552\n",
            "  0.70431761 0.61691591 0.19742393 0.85198894 0.72733906 0.76657175\n",
            "  0.85296146 0.28757805 1.09488976 0.61729006 0.60938656 0.65138776\n",
            "  0.779557   0.         1.12316008 0.65876555 0.55898641 0.42676377\n",
            "  0.14999221 0.24237261 0.67888742 0.19469135 0.13099559 0.96572028\n",
            "  0.450144   0.56401434 1.1250752  0.64145339 1.05890248 0.82613699\n",
            "  0.29660981 0.37352071 0.64466725 0.68321603 0.68749027 0.38352171\n",
            "  0.63261086 0.66314975 0.11425952 0.78086283 0.30545408 0.29497225\n",
            "  0.17660323 1.00697821 0.31827442 0.596324  ]\n",
            " [0.79904465 0.70909087 0.75393225 0.50703173 0.79042587 0.67774653\n",
            "  0.27505457 0.4938843  0.07569644 0.48766629 0.85406474 1.1434471\n",
            "  0.43437405 0.65799153 0.98247738 1.05300482 0.64128454 0.58674416\n",
            "  1.172448   1.18887842 0.90405669 0.473963   0.91108605 0.51924739\n",
            "  1.23816264 0.88940009 1.02028134 0.4697635  1.04304635 0.48888798\n",
            "  0.39987546 0.68915497 0.93268212 0.79303383 0.87570632 0.87769521\n",
            "  0.7892453  0.89080099 0.79824135 0.40042727 0.21349692 0.8049175\n",
            "  0.45083786 0.93740571 0.62969578 0.95522534 0.38438635 0.93886257\n",
            "  1.23880437 0.61052361 1.18427945 1.05844948 0.61046025 0.40968902\n",
            "  0.51006763 0.52869334 1.0135359  0.43960716 0.570203   0.63045147\n",
            "  0.91263065 0.88437364 0.02915461 0.96091586 0.94095626 0.78340578\n",
            "  0.81277427 1.12316008 0.         0.61016134 0.76198564 0.87394198\n",
            "  0.99388649 0.94255868 0.69798738 1.28262739 0.99609454 0.24464033\n",
            "  0.67521097 0.61151188 0.00372071 0.54297217 0.06927675 0.51872259\n",
            "  1.00302077 0.7496726  0.93029791 0.63702653 0.77754993 0.99871464\n",
            "  0.73782209 0.46176689 1.23089796 0.66073693 0.96056276 1.01365191\n",
            "  1.25250809 0.12100538 1.01340795 0.98188939]\n",
            " [0.84348425 0.14241239 0.85163099 0.47798914 0.33191121 0.09533925\n",
            "  0.39387526 0.44579104 0.5355856  0.30243461 0.58600948 0.77035062\n",
            "  0.23567145 0.09587592 0.54176412 0.60475398 0.20908885 0.17778608\n",
            "  0.76679236 0.6839232  0.30584026 0.53972888 0.32177495 0.14064457\n",
            "  0.79987829 0.28272557 0.83631354 0.44974827 0.81254194 0.34659149\n",
            "  0.33192395 0.08809313 0.36532183 0.20551714 0.76440772 0.70171433\n",
            "  0.37699569 0.28883688 0.19309246 0.6431511  0.49742567 0.19491446\n",
            "  0.68913211 0.3288614  0.71396774 0.51899609 0.23307138 0.88392371\n",
            "  0.83766782 0.05301011 0.67379475 0.75955188 0.70905495 0.22306516\n",
            "  0.52810984 0.40784114 0.6491587  0.62763103 0.61987499 0.13055079\n",
            "  0.97798449 0.5527365  0.58204148 0.86556797 0.33488876 0.18574692\n",
            "  0.27393571 0.65876555 0.61016134 0.         0.65361554 0.28645053\n",
            "  0.50887706 0.42328025 0.69423334 0.85060924 0.53218104 0.59101912\n",
            "  0.29588781 0.1324235  0.61338014 0.11044158 0.54157713 0.16796446\n",
            "  0.70128197 0.36862328 0.3300641  0.64164823 0.19404111 0.40817748\n",
            "  0.132662   0.27407072 0.7414141  0.74589664 0.66380266 0.44765829\n",
            "  0.82750949 0.49334805 0.43977346 0.86849771]\n",
            " [0.22766364 0.58438007 0.27487119 0.26301516 0.43426648 0.74039509\n",
            "  0.5296389  0.28639493 0.71182662 0.38943027 0.19532082 0.46797068\n",
            "  0.75959849 0.58591745 0.44899581 0.4946321  0.45468826 0.47582949\n",
            "  0.52226632 0.66242546 0.70340542 0.28924069 0.67850896 0.53583765\n",
            "  0.60815046 0.82091115 0.25843767 0.30549305 0.28970069 0.35216543\n",
            "  0.43612389 0.64093434 0.96574045 0.81643129 0.12225676 0.12314487\n",
            "  0.37509268 0.71153423 0.77085888 0.41078921 0.55035311 0.7236809\n",
            "  0.39453386 0.83856102 0.22139693 0.43176426 0.58474833 0.2309667\n",
            "  0.56948255 0.60227557 0.66812301 0.34065844 0.23790114 0.54951337\n",
            "  0.25192611 0.28224519 0.37084475 0.35935897 0.21111825 0.78137106\n",
            "  0.345922   0.27737263 0.74010217 0.22233059 0.8594617  0.78603941\n",
            "  0.91110897 0.55898641 0.76198564 0.65361554 0.         0.65779797\n",
            "  0.51696942 0.54968201 0.12146201 0.63636181 0.48719218 0.53528984\n",
            "  0.37640891 0.5238543  0.76226937 0.55624711 0.71741998 0.76079053\n",
            "  0.30234278 0.3447815  0.87956275 0.14659964 0.81302103 0.72675036\n",
            "  0.73490499 0.43302983 0.66893387 0.22387536 0.27087829 0.67049227\n",
            "  0.60467752 0.67693503 0.68827129 0.23431409]\n",
            " [0.88083129 0.16486589 0.91206124 0.59195437 0.22416704 0.27859186\n",
            "  0.62377335 0.56724866 0.79824833 0.45130256 0.51340874 0.58497521\n",
            "  0.52141031 0.21658576 0.34982476 0.3928384  0.2683874  0.30476444\n",
            "  0.56087082 0.42315868 0.04596678 0.66971798 0.03714423 0.35560946\n",
            "  0.57015162 0.18823836 0.75593305 0.58289116 0.7092282  0.48324114\n",
            "  0.52226861 0.19835939 0.3469432  0.25227202 0.73874051 0.65403738\n",
            "  0.28538453 0.05587684 0.19512401 0.80755919 0.7245967  0.13748616\n",
            "  0.84048441 0.1882864  0.79721636 0.33737658 0.48994155 0.86515188\n",
            "  0.62689008 0.26782043 0.41046198 0.62361388 0.79981991 0.46496102\n",
            "  0.64152621 0.51308132 0.49098486 0.77656839 0.71404144 0.36120902\n",
            "  1.00371914 0.44572395 0.84496225 0.82884562 0.21178803 0.22533516\n",
            "  0.35312616 0.42676377 0.87394198 0.28645053 0.65779797 0.\n",
            "  0.28598231 0.18889756 0.74147154 0.6204377  0.32257761 0.80231431\n",
            "  0.30393468 0.2665811  0.87683808 0.33097012 0.80468001 0.44636254\n",
            "  0.57491208 0.31307927 0.24028451 0.70793976 0.26130504 0.12495677\n",
            "  0.21453963 0.44981082 0.48583766 0.82197864 0.54934269 0.16538809\n",
            "  0.60334553 0.75342751 0.15444895 0.82164676]\n",
            " [0.7416034  0.36702745 0.79174575 0.57462747 0.20502431 0.53822865\n",
            "  0.71999362 0.56348095 0.92118111 0.50926923 0.32798972 0.30125861\n",
            "  0.73354677 0.41443587 0.081204   0.10688258 0.36160841 0.42033776\n",
            "  0.27498793 0.19499706 0.31380416 0.65204952 0.27781258 0.5052379\n",
            "  0.29265012 0.47027979 0.5258696  0.58672512 0.4654363  0.518847\n",
            "  0.59691986 0.432167   0.62742663 0.53612218 0.55722576 0.46409292\n",
            "  0.20940766 0.33452289 0.47842155 0.80532896 0.80422497 0.41910812\n",
            "  0.82029861 0.45827579 0.71219284 0.08773471 0.63923153 0.67667072\n",
            "  0.34196672 0.46771535 0.19105348 0.36318922 0.72197542 0.60330262\n",
            "  0.6126211  0.5091351  0.2272485  0.7617008  0.65230332 0.61704884\n",
            "  0.8435623  0.2439015  0.96517354 0.62817186 0.48279711 0.50749375\n",
            "  0.63847476 0.14999221 0.99388649 0.50887706 0.51696942 0.28598231\n",
            "  0.         0.09715381 0.62875096 0.34357061 0.041746   0.85399132\n",
            "  0.31914046 0.41747929 0.99602649 0.49537438 0.92791421 0.67639056\n",
            "  0.32636223 0.25319263 0.51619671 0.619367   0.54359234 0.27040875\n",
            "  0.48541566 0.53213046 0.24103376 0.72669146 0.31465496 0.18686414\n",
            "  0.32285333 0.87551037 0.21021837 0.61311503]\n",
            " [0.77729894 0.28092748 0.82073224 0.56157614 0.1598185  0.4454101\n",
            "  0.67266177 0.54531559 0.86828073 0.46844726 0.37473578 0.39684944\n",
            "  0.6533918  0.33139475 0.16506893 0.20395448 0.30150739 0.35788452\n",
            "  0.37213997 0.26185169 0.2182851  0.64104011 0.18254019 0.43719052\n",
            "  0.38626144 0.37424125 0.59676815 0.56658266 0.54200263 0.48571372\n",
            "  0.55362629 0.34265753 0.53204598 0.43913476 0.60756721 0.51648941\n",
            "  0.19267993 0.23835421 0.38146286 0.791656   0.76342308 0.32225181\n",
            "  0.81307046 0.36466169 0.72680939 0.15793763 0.57469144 0.7313255\n",
            "  0.4388409  0.38607939 0.25296973 0.44685037 0.73407126 0.54108996\n",
            "  0.60470299 0.48921883 0.31124289 0.75175051 0.65721225 0.52553625\n",
            "  0.88838339 0.29511496 0.91351646 0.68740098 0.38915794 0.4107043\n",
            "  0.5413413  0.24237261 0.94255868 0.42328025 0.54968201 0.18889756\n",
            "  0.09715381 0.         0.65251473 0.437063   0.13425739 0.82287837\n",
            "  0.28045638 0.3454487  0.94495002 0.4231364  0.8749865  0.591232\n",
            "  0.40371652 0.23636164 0.42166476 0.63366761 0.4468212  0.18963433\n",
            "  0.39026292 0.48446367 0.31814278 0.74537572 0.38489104 0.12094418\n",
            "  0.41788528 0.82240063 0.14005078 0.67550573]\n",
            " [0.14925202 0.64715453 0.17074196 0.24024521 0.52289516 0.78615745\n",
            "  0.49610291 0.27146463 0.65686774 0.40347782 0.31456862 0.58806931\n",
            "  0.76380538 0.63935632 0.56451802 0.61332514 0.51159119 0.51986765\n",
            "  0.64333094 0.78133523 0.78743809 0.23093778 0.76577223 0.56396552\n",
            "  0.72945654 0.89205599 0.34664568 0.28212645 0.39282059 0.36043115\n",
            "  0.42649173 0.69617543 1.02891822 0.87370644 0.19020571 0.23471924\n",
            "  0.46809239 0.79292004 0.83305635 0.31811614 0.49425688 0.79107374\n",
            "  0.29114807 0.91485781 0.1024809  0.54563956 0.58432868 0.24245671\n",
            "  0.68918529 0.64599689 0.7864717  0.45725555 0.12098916 0.55369108\n",
            "  0.20682673 0.29123662 0.49221195 0.26874449 0.12787597 0.81618935\n",
            "  0.28421321 0.3943845  0.6791164  0.26376157 0.93426285 0.84460332\n",
            "  0.96234653 0.67888742 0.69798738 0.69423334 0.12146201 0.74147154\n",
            "  0.62875096 0.65251473 0.         0.75704456 0.60140759 0.45926031\n",
            "  0.4442142  0.57162617 0.69774528 0.5888795  0.66180295 0.77888392\n",
            "  0.4222964  0.43175316 0.95093535 0.06449671 0.86824945 0.82162609\n",
            "  0.79079148 0.44358443 0.78957845 0.1024603  0.39204105 0.77215511\n",
            "  0.72544216 0.62732273 0.78838002 0.28668117]\n",
            " [0.81594172 0.70962651 0.88381986 0.80502822 0.52929102 0.88163467\n",
            "  1.00889278 0.80585326 1.21444524 0.79780692 0.45942555 0.17014028\n",
            "  1.06979153 0.75529682 0.31451011 0.24687293 0.68484001 0.7432296\n",
            "  0.11575096 0.22564309 0.63976757 0.87053383 0.60443782 0.83151155\n",
            "  0.05092092 0.79412874 0.4888424  0.83105906 0.4144921  0.79375331\n",
            "  0.88424367 0.77557256 0.94477346 0.87270327 0.60620944 0.52800313\n",
            "  0.50673864 0.66236    0.81550197 1.01886151 1.07770415 0.75711437\n",
            "  1.01670451 0.77209447 0.85774054 0.34041637 0.95781452 0.68627128\n",
            "  0.07717041 0.80723245 0.24209235 0.31090529 0.87383882 0.91960815\n",
            "  0.82760884 0.76051666 0.27791785 0.96897995 0.83128527 0.96061818\n",
            "  0.87274726 0.40476003 1.25514797 0.62582289 0.79587746 0.84547942\n",
            "  0.97249805 0.19469135 1.28262739 0.85060924 0.63636181 0.6204377\n",
            "  0.34357061 0.437063   0.75704456 0.         0.31854124 1.10533075\n",
            "  0.62201416 0.75004285 1.28423731 0.82636453 1.2210817  1.01723006\n",
            "  0.33516095 0.53983784 0.83188604 0.77669077 0.88154933 0.56718787\n",
            "  0.82729858 0.83003442 0.16580352 0.85855763 0.36584512 0.48003672\n",
            "  0.03191635 1.17019864 0.5022166  0.59902594]\n",
            " [0.70985157 0.3917225  0.76200491 0.56177884 0.21494634 0.56698501\n",
            "  0.72129043 0.552864   0.92437363 0.50911921 0.29522739 0.26260541\n",
            "  0.7523523  0.43677375 0.04136258 0.07333686 0.37258817 0.43152232\n",
            "  0.24099401 0.19843261 0.35242589 0.63779392 0.31657371 0.51834604\n",
            "  0.26795301 0.50849834 0.4855013  0.57674578 0.42426263 0.51513826\n",
            "  0.59710402 0.45866772 0.66621642 0.57062121 0.52168802 0.42837513\n",
            "  0.20697897 0.37261153 0.5128964  0.79136907 0.80206326 0.45338561\n",
            "  0.80367474 0.49800346 0.68771145 0.05580038 0.64954809 0.63962785\n",
            "  0.30984109 0.48875608 0.19794563 0.32146607 0.69837049 0.61263302\n",
            "  0.59737598 0.49979497 0.18559134 0.74641821 0.631746   0.64439959\n",
            "  0.80884854 0.21106302 0.96762237 0.59009244 0.5225255  0.5414436\n",
            "  0.67366096 0.13099559 0.99609454 0.53218104 0.48719218 0.32257761\n",
            "  0.041746   0.13425739 0.60140759 0.31854124 0.         0.84725193\n",
            "  0.32134009 0.43358309 0.99810529 0.51080853 0.93109972 0.6986895\n",
            "  0.28529295 0.24832815 0.55550645 0.59547493 0.57744529 0.31201964\n",
            "  0.51677891 0.53491271 0.23481667 0.70069145 0.27501501 0.22857594\n",
            "  0.29546712 0.87895423 0.25195742 0.57432881]\n",
            " [0.55457157 0.64482452 0.50965562 0.30130521 0.66322977 0.67892746\n",
            "  0.19929918 0.29980503 0.22297981 0.35714749 0.65535814 0.95347528\n",
            "  0.50381037 0.60312508 0.82577756 0.89374736 0.53899431 0.4975525\n",
            "  0.99114251 1.04548362 0.84075533 0.24766405 0.83810108 0.46252314\n",
            "  1.06495229 0.86916939 0.79275294 0.27471088 0.8230644  0.33730022\n",
            "  0.28004999 0.64954976 0.95155694 0.79511137 0.64278375 0.65575102\n",
            "  0.64469351 0.833178   0.78253588 0.15617574 0.10278565 0.77085884\n",
            "  0.20870724 0.91126142 0.3858405  0.79924735 0.36638305 0.69763126\n",
            "  1.05303377 0.57018219 1.0437775  0.85286706 0.36632886 0.36828912\n",
            "  0.28870624 0.34881388 0.82866936 0.19551152 0.33284616 0.65943836\n",
            "  0.66851291 0.70058663 0.23095481 0.72302177 0.92100574 0.77675669\n",
            "  0.8444177  0.96572028 0.24464033 0.59101912 0.53528984 0.80231431\n",
            "  0.85399132 0.82287837 0.45926031 1.10533075 0.84725193 0.\n",
            "  0.54247222 0.53923533 0.24376174 0.49299872 0.22582894 0.56682267\n",
            "  0.80136243 0.60082836 0.91993497 0.40098396 0.78223066 0.92112225\n",
            "  0.72308014 0.35257719 1.07840007 0.41636733 0.76047563 0.91505232\n",
            "  1.074014   0.21255576 0.92034671 0.74549674]\n",
            " [0.58877779 0.20799917 0.61343157 0.29270045 0.12076368 0.37273463\n",
            "  0.40091453 0.27160744 0.60311922 0.19056761 0.29039213 0.50806941\n",
            "  0.46827551 0.2146238  0.3111736  0.38187509 0.08682058 0.13300915\n",
            "  0.52046342 0.51405665 0.34940024 0.37205824 0.33288249 0.21993474\n",
            "  0.57431076 0.44820197 0.54051034 0.29074525 0.51769179 0.20525736\n",
            "  0.27789084 0.26702282 0.58961887 0.44050253 0.47748511 0.40834936\n",
            "  0.11600172 0.35208531 0.39447111 0.51775428 0.48620792 0.3485106\n",
            "  0.54476729 0.47083933 0.49389286 0.28410585 0.33655662 0.60108275\n",
            "  0.59090899 0.24289904 0.5100657  0.4729055  0.49602722 0.29792551\n",
            "  0.34055074 0.21555748 0.37832728 0.4816431  0.4101335  0.42636563\n",
            "  0.71762295 0.2654735  0.64662034 0.57672437 0.49005955 0.40989394\n",
            "  0.5371638  0.450144   0.67521097 0.29588781 0.37640891 0.30393468\n",
            "  0.31914046 0.28045638 0.4442142  0.62201416 0.32134009 0.54247222\n",
            "  0.         0.16438006 0.67728885 0.22469172 0.60984804 0.43741703\n",
            "  0.41336259 0.0845893  0.50709291 0.40595722 0.43775136 0.40276985\n",
            "  0.35977227 0.21363101 0.55594638 0.51960751 0.37361311 0.37894612\n",
            "  0.5940358  0.55764738 0.38781851 0.57717299]\n",
            " [0.72046392 0.10559803 0.73371421 0.36998291 0.22098594 0.21666146\n",
            "  0.35720534 0.33971259 0.53595035 0.20286629 0.4547672  0.6550729\n",
            "  0.32011516 0.07164187 0.4360403  0.5033509  0.07780539 0.05308925\n",
            "  0.65813645 0.60542257 0.30242912 0.43979886 0.30338514 0.09344419\n",
            "  0.70012191 0.34464125 0.70425717 0.34879097 0.68199762 0.24314065\n",
            "  0.26060656 0.12807633 0.46294056 0.30407538 0.6328891  0.56930247\n",
            "  0.25576518 0.29399804 0.26990236 0.56166794 0.45843323 0.24128712\n",
            "  0.60156542 0.38055427 0.60056464 0.41111586 0.23200433 0.75340372\n",
            "  0.72935602 0.07958224 0.5976147  0.63352594 0.59784754 0.20210271\n",
            "  0.4212498  0.29422243 0.52956168 0.53801249 0.50830534 0.26290039\n",
            "  0.85378551 0.42585167 0.58238641 0.73378037 0.39410278 0.27647229\n",
            "  0.39080097 0.56401434 0.61151188 0.1324235  0.5238543  0.2665811\n",
            "  0.41747929 0.3454487  0.57162617 0.75004285 0.43358309 0.53923533\n",
            "  0.16438006 0.         0.61425419 0.07804067 0.54251011 0.27733282\n",
            "  0.57453366 0.24105969 0.40098035 0.52258915 0.29743584 0.38974294\n",
            "  0.22109965 0.18995217 0.65751103 0.6308821  0.53588253 0.40283132\n",
            "  0.72470568 0.49053529 0.40192781 0.73631428]\n",
            " [0.7982592  0.71198115 0.75287456 0.50770338 0.79265284 0.681142\n",
            "  0.27696385 0.49477564 0.07860564 0.48956199 0.8551284  1.14478167\n",
            "  0.43800514 0.66093888 0.98436319 1.05487203 0.64372099 0.58928178\n",
            "  1.17396069 1.19102162 0.90704159 0.47408834 0.91398231 0.52205551\n",
            "  1.23983841 0.89272419 1.02059881 0.47059999 1.04361874 0.49048513\n",
            "  0.40173034 0.6922557  0.93623836 0.79647352 0.87578472 0.87816846\n",
            "  0.79123144 0.89383251 0.80156986 0.39941155 0.21421684 0.80811453\n",
            "  0.44960023 0.94070084 0.62902898 0.95711301 0.38736267 0.93849128\n",
            "  1.24024353 0.61356881 1.18646298 1.05941576 0.6097472  0.41248642\n",
            "  0.51036784 0.52989259 1.01493985 0.43887834 0.5699916  0.63398594\n",
            "  0.91153191 0.88575456 0.03188846 0.9607661  0.94429485 0.78678926\n",
            "  0.81636624 1.1250752  0.00372071 0.61338014 0.76226937 0.87683808\n",
            "  0.99602649 0.94495002 0.69774528 1.28423731 0.99810529 0.24376174\n",
            "  0.67728885 0.61425419 0.         0.54587171 0.07225159 0.5223036\n",
            "  1.00406629 0.75157265 0.93369607 0.63690277 0.78100043 1.00159335\n",
            "  0.74113592 0.46389699 1.23291482 0.65997703 0.96163211 1.01631565\n",
            "  1.25409013 0.12371953 1.01613203 0.98182326]\n",
            " [0.73799668 0.16613263 0.74356072 0.36823479 0.29708875 0.20577983\n",
            "  0.30125283 0.33585311 0.4672792  0.19240835 0.51053598 0.72695266\n",
            "  0.24600574 0.1157151  0.51198426 0.57996832 0.14446515 0.09185194\n",
            "  0.73260321 0.68341626 0.36208581 0.42928745 0.36811408 0.0313188\n",
            "  0.77666197 0.37648802 0.75503428 0.33936095 0.73846128 0.23674211\n",
            "  0.22454257 0.15669836 0.4735665  0.31279628 0.67101002 0.6150081\n",
            "  0.32707534 0.35029934 0.29177703 0.53521693 0.40479239 0.2780602\n",
            "  0.58005336 0.41829422 0.60474742 0.4866288  0.15929573 0.78721365\n",
            "  0.80377794 0.07737691 0.67552704 0.69758981 0.59938225 0.13485513\n",
            "  0.4180715  0.29984759 0.59954076 0.51810755 0.51041682 0.22741702\n",
            "  0.87306856 0.49013405 0.51399839 0.77288453 0.42815857 0.29003967\n",
            "  0.38432587 0.64145339 0.54297217 0.11044158 0.55624711 0.33097012\n",
            "  0.49537438 0.4231364  0.5888795  0.82636453 0.51080853 0.49299872\n",
            "  0.22469172 0.07804067 0.54587171 0.         0.47370999 0.21408418\n",
            "  0.63801022 0.30694839 0.42865777 0.5345263  0.30251128 0.45577979\n",
            "  0.23439759 0.16383918 0.73553051 0.63704403 0.59799914 0.47589453\n",
            "  0.80060181 0.42251949 0.47338932 0.77807614]\n",
            " [0.77174465 0.63983377 0.73176184 0.45788185 0.7239105  0.61063901\n",
            "  0.21219783 0.4417945  0.0067331  0.42408809 0.79881444 1.08480965\n",
            "  0.37284357 0.58871494 0.91852058 0.98917917 0.57353527 0.5184993\n",
            "  1.11191563 1.12283902 0.83479384 0.43317308 0.84182385 0.4501035\n",
            "  1.1760014  0.82152237 0.97470638 0.41854736 0.99387205 0.42828531\n",
            "  0.33691637 0.62008404 0.86822113 0.72646559 0.83393342 0.83014155\n",
            "  0.72454403 0.82158603 0.73041434 0.38026352 0.16800876 0.73620454\n",
            "  0.43424394 0.86928827 0.60103979 0.89126489 0.31511756 0.90407459\n",
            "  1.17899958 0.54133093 1.11795989 1.00415471 0.58273281 0.34057603\n",
            "  0.46631783 0.4725182  0.95423367 0.41360829 0.53414732 0.56565328\n",
            "  0.8906882  0.82542993 0.04052913 0.92250374 0.87320142 0.71613112\n",
            "  0.74933013 1.05890248 0.06927675 0.54157713 0.71741998 0.80468001\n",
            "  0.92791421 0.8749865  0.66180295 1.2210817  0.93109972 0.22582894\n",
            "  0.60984804 0.54251011 0.07225159 0.47370999 0.         0.45524235\n",
            "  0.94781474 0.68572785 0.86316314 0.59918962 0.71114334 0.92946518\n",
            "  0.66987768 0.39621726 1.16579006 0.63356511 0.90511387 0.94485683\n",
            "  1.19124642 0.05258818 0.94443445 0.9421248 ]\n",
            " [0.92579852 0.31037371 0.92142252 0.54366348 0.4935588  0.18115898\n",
            "  0.3718359  0.51090105 0.45039572 0.3760811  0.72461726 0.93110928\n",
            "  0.08829564 0.26207535 0.70645934 0.77082781 0.35351956 0.30554189\n",
            "  0.93088542 0.85163474 0.45859376 0.58801139 0.47965423 0.22754743\n",
            "  0.96661324 0.3926591  0.96834163 0.50658566 0.95254534 0.41849229\n",
            "  0.36495776 0.25178828 0.41427274 0.28424053 0.87861162 0.82688621\n",
            "  0.53284699 0.43877679 0.30461948 0.65691411 0.46466973 0.33237144\n",
            "  0.70971665 0.44301503 0.77786323 0.68286712 0.21242842 0.99094455\n",
            "  1.00198468 0.21037941 0.84132491 0.90981301 0.76882945 0.23164586\n",
            "  0.58847086 0.48843189 0.80668618 0.65448875 0.68378162 0.11437664\n",
            "  1.06134107 0.70207342 0.49351239 0.98061261 0.44095089 0.28230402\n",
            "  0.29414565 0.82613699 0.51872259 0.16796446 0.76079053 0.44636254\n",
            "  0.67639056 0.591232   0.77888392 1.01723006 0.6986895  0.56682267\n",
            "  0.43741703 0.27733282 0.5223036  0.21408418 0.45524235 0.\n",
            "  0.8504898  0.51762426 0.42360391 0.71971437 0.26783137 0.56290687\n",
            "  0.25071282 0.3353027  0.90935438 0.81207312 0.81101834 0.61058821\n",
            "  0.993582   0.4157199  0.6008094  0.98744476]\n",
            " [0.48613135 0.58204844 0.55150593 0.50162036 0.38081693 0.76414249\n",
            "  0.73965402 0.51011154 0.94149219 0.54367684 0.14902166 0.16577301\n",
            "  0.87976008 0.60998801 0.24526787 0.25223001 0.49726915 0.54620907\n",
            "  0.22326426 0.40355227 0.6132348  0.55698957 0.57946516 0.6313688\n",
            "  0.3109313  0.76224895 0.20216332 0.53485318 0.13913132 0.5257593\n",
            "  0.62112669 0.6512893  0.92051238 0.80044111 0.27770614 0.19373329\n",
            "  0.32635701 0.62988881 0.74485162 0.69824006 0.79079464 0.68703141\n",
            "  0.69023394 0.76147293 0.52359157 0.24619377 0.73203673 0.37679378\n",
            "  0.26714005 0.64945131 0.41366203 0.05989869 0.54024069 0.69259301\n",
            "  0.51441138 0.47530258 0.10349726 0.6472059  0.50400605 0.82923102\n",
            "  0.55891082 0.14871475 0.97753421 0.32068431 0.78556825 0.76923404\n",
            "  0.90440516 0.29660981 1.00302077 0.70128197 0.30234278 0.57491208\n",
            "  0.32636223 0.40371652 0.4222964  0.33516095 0.28529295 0.80136243\n",
            "  0.41336259 0.57453366 1.00406629 0.63801022 0.94781474 0.8504898\n",
            "  0.         0.3335048  0.81517242 0.44555579 0.8032414  0.59197322\n",
            "  0.73130213 0.58387976 0.39245865 0.52350465 0.04295028 0.51231801\n",
            "  0.30377959 0.90029186 0.53517205 0.30002201]\n",
            " [0.568255   0.26001646 0.60242424 0.32637609 0.09114314 0.43719568\n",
            "  0.47461817 0.31231122 0.6790243  0.2620107  0.22236912 0.42348043\n",
            "  0.55183501 0.27987849 0.23282937 0.30345281 0.16410477 0.21606613\n",
            "  0.43666225 0.44544916 0.35878164 0.4054596  0.33495838 0.3039551\n",
            "  0.49285785 0.48002511 0.4750419  0.33484711 0.44529896 0.26686434\n",
            "  0.34990622 0.32629212 0.63030506 0.49061353 0.43140585 0.3530086\n",
            "  0.04479025 0.36678117 0.43964703 0.55721067 0.55374601 0.38742108\n",
            "  0.57699015 0.49475617 0.49680078 0.205573   0.42048872 0.55751555\n",
            "  0.50687529 0.31636951 0.44317485 0.39247115 0.50240461 0.3816151\n",
            "  0.36849143 0.25705803 0.29389441 0.5161075  0.42263456 0.49776606\n",
            "  0.69069404 0.18480157 0.72145413 0.52641331 0.5162074  0.45926493\n",
            "  0.59153215 0.37352071 0.7496726  0.36862328 0.3447815  0.31307927\n",
            "  0.25319263 0.23636164 0.43175316 0.53983784 0.24832815 0.60082836\n",
            "  0.0845893  0.24105969 0.75157265 0.30694839 0.68572785 0.51762426\n",
            "  0.3335048  0.         0.53810677 0.40460075 0.49026014 0.39067498\n",
            "  0.41393935 0.2910404  0.48259265 0.51818955 0.29528484 0.34911147\n",
            "  0.51135965 0.63399863 0.3625453  0.52319766]\n",
            " [1.09583338 0.30685006 1.11914632 0.76894693 0.45523833 0.25255674\n",
            "  0.72376906 0.73961714 0.8575379  0.6036367  0.74923402 0.8174541\n",
            "  0.51181642 0.32960306 0.58619555 0.62204008 0.44332873 0.45297926\n",
            "  0.78696371 0.6158628  0.20369597 0.8405244  0.23915744 0.45982313\n",
            "  0.78355471 0.05889214 0.99491093 0.74962375 0.94936952 0.64405667\n",
            "  0.65218009 0.27559396 0.11290197 0.13938946 0.96925719 0.8878138\n",
            "  0.51737378 0.18547066 0.1374023  0.96038823 0.8274239  0.16160498\n",
            "  1.00196857 0.05982169 0.99332017 0.57577576 0.56235582 1.09551851\n",
            "  0.8491693  0.35138287 0.60069994 0.8634089  0.99263179 0.55288261\n",
            "  0.82023612 0.69135455 0.72988697 0.93863519 0.903704   0.30977308\n",
            "  1.22372807 0.68471481 0.90315105 1.06247016 0.03691642 0.14712778\n",
            "  0.17928339 0.64466725 0.93029791 0.3300641  0.87956275 0.24028451\n",
            "  0.51619671 0.42166476 0.95093535 0.83188604 0.55550645 0.91993497\n",
            "  0.50709291 0.40098035 0.93369607 0.42865777 0.86316314 0.42360391\n",
            "  0.81517242 0.53810677 0.         0.90946514 0.15577373 0.26559876\n",
            "  0.19740226 0.58622971 0.68081729 1.02154218 0.78946147 0.35185029\n",
            "  0.81915457 0.81737471 0.32990427 1.05693405]\n",
            " [0.20610173 0.60354725 0.21116022 0.17789519 0.49495623 0.73479548\n",
            "  0.43160629 0.2098545  0.59414454 0.34598285 0.32206878 0.61018823\n",
            "  0.70203964 0.59185612 0.56088246 0.61500835 0.46701373 0.47005425\n",
            "  0.66152612 0.78247927 0.75379217 0.16704129 0.73429253 0.50848954\n",
            "  0.74567347 0.85074207 0.39522292 0.21898013 0.43414903 0.30217219\n",
            "  0.36394894 0.64893836 0.98334023 0.8262566  0.24220546 0.26924873\n",
            "  0.44414935 0.75766573 0.78788223 0.26680995 0.43136351 0.74850227\n",
            "  0.24796656 0.87608208 0.09324888 0.53984731 0.52237513 0.30608659\n",
            "  0.71211533 0.59480561 0.78631224 0.4865376  0.10293374 0.49265696\n",
            "  0.14243304 0.2348632  0.50470631 0.2158528  0.06836045 0.76117677\n",
            "  0.34162689 0.39570788 0.61748662 0.32392345 0.89460766 0.7978219\n",
            "  0.91220373 0.68321603 0.63702653 0.64164823 0.14659964 0.70793976\n",
            "  0.619367   0.63366761 0.06449671 0.77669077 0.59547493 0.40098396\n",
            "  0.40595722 0.52258915 0.63690277 0.5345263  0.59918962 0.71971437\n",
            "  0.44555579 0.40460075 0.90946514 0.         0.82000512 0.7950107\n",
            "  0.74320205 0.38471279 0.79595956 0.11410631 0.41118524 0.75129655\n",
            "  0.74482897 0.56384494 0.7660892  0.34511023]\n",
            " [1.01666178 0.23120102 1.03114283 0.66432461 0.42344027 0.10354473\n",
            "  0.58361256 0.63294297 0.70568637 0.49095389 0.71202023 0.83688955\n",
            "  0.35605709 0.2289602  0.59970014 0.64963486 0.35891951 0.35018656\n",
            "  0.81808772 0.68217754 0.24909423 0.72982335 0.28156392 0.33350312\n",
            "  0.83114115 0.13121151 0.9642995  0.63907262 0.92881779 0.53418431\n",
            "  0.52584871 0.17253066 0.1712975  0.0166208  0.91487464 0.84194563\n",
            "  0.48207538 0.22584295 0.06629885 0.8370583  0.68618852 0.12461273\n",
            "  0.8825231  0.18102527 0.89741341 0.5830266  0.41833218 1.03882873\n",
            "  0.88555587 0.22976043 0.66878147 0.85723007 0.89405494 0.41411551\n",
            "  0.71522826 0.5904932  0.73151506 0.8206111  0.80449394 0.15411947\n",
            "  1.14906177 0.66076179 0.75082338 1.01319953 0.17514108 0.03612361\n",
            "  0.10158846 0.68749027 0.77754993 0.19404111 0.81302103 0.26130504\n",
            "  0.54359234 0.4468212  0.86824945 0.88154933 0.57744529 0.78223066\n",
            "  0.43775136 0.29743584 0.78100043 0.30251128 0.71114334 0.26783137\n",
            "  0.8032414  0.49026014 0.15577373 0.82000512 0.         0.34590257\n",
            "  0.07811705 0.46608048 0.74569197 0.92808362 0.77133899 0.41711211\n",
            "  0.86391349 0.66665531 0.40017946 1.01198077]\n",
            " [0.95381178 0.28964802 0.99195935 0.69538476 0.30005566 0.38764054\n",
            "  0.74637294 0.67318006 0.92301824 0.56652353 0.56098972 0.56633378\n",
            "  0.6412248  0.34153973 0.34881321 0.37046137 0.38287439 0.42476514\n",
            "  0.52929018 0.35038875 0.10439275 0.77453389 0.08791077 0.47997287\n",
            "  0.5195028  0.23439906 0.78636158 0.69078073 0.73073347 0.59522077\n",
            "  0.64140333 0.32052031 0.37821396 0.33295148 0.79315305 0.70333863\n",
            "  0.35367714 0.12535814 0.28225544 0.91740896 0.84623221 0.23538462\n",
            "  0.94694362 0.20583108 0.88672708 0.34580219 0.61484822 0.9180106\n",
            "  0.58833467 0.39240588 0.33537129 0.63252675 0.89142217 0.5894659\n",
            "  0.74325373 0.61762184 0.49635225 0.88347759 0.80878303 0.4692843\n",
            "  1.06991073 0.4834644  0.96971152 0.87560783 0.22915883 0.3128356\n",
            "  0.42142155 0.38352171 0.99871464 0.40817748 0.72675036 0.12495677\n",
            "  0.27040875 0.18963433 0.82162609 0.56718787 0.31201964 0.92112225\n",
            "  0.40276985 0.38974294 1.00159335 0.45577979 0.92946518 0.56290687\n",
            "  0.59197322 0.39067498 0.26559876 0.7950107  0.34590257 0.\n",
            "  0.31894289 0.56879742 0.41533213 0.90877762 0.57437779 0.08859284\n",
            "  0.55565267 0.8781107  0.06531624 0.86443317]\n",
            " [0.93903032 0.15409051 0.95436197 0.5899293  0.35055523 0.07000653\n",
            "  0.52643786 0.55897385 0.66406652 0.41822718 0.6361109  0.77270084\n",
            "  0.33522545 0.15147334 0.5359969  0.58980844 0.28087426 0.27411701\n",
            "  0.75771819 0.63703212 0.21534289 0.65719177 0.242187   0.26571547\n",
            "  0.77651844 0.1516643  0.88865643 0.56618618 0.85479833 0.46077592\n",
            "  0.45893737 0.09466062 0.24246667 0.08305524 0.83705333 0.76479005\n",
            "  0.40777373 0.19360193 0.06080055 0.76931637 0.63004956 0.08372184\n",
            "  0.81318238 0.19978233 0.82165236 0.5176761  0.36526174 0.960852\n",
            "  0.82645781 0.15843885 0.62464075 0.78628038 0.8187723  0.35556684\n",
            "  0.6410374  0.51508839 0.66314176 0.75062369 0.72920749 0.15037779\n",
            "  1.07121365 0.58719351 0.7101559  0.93560762 0.20352476 0.05616182\n",
            "  0.17792906 0.63261086 0.73782209 0.132662   0.73490499 0.21453963\n",
            "  0.48541566 0.39026292 0.79079148 0.82729858 0.51677891 0.72308014\n",
            "  0.35977227 0.22109965 0.74113592 0.23439759 0.66987768 0.25071282\n",
            "  0.73130213 0.41393935 0.19740226 0.74320205 0.07811705 0.31894289\n",
            "  0.         0.39600953 0.69903502 0.85195938 0.69830844 0.37856458\n",
            "  0.80795799 0.62285283 0.3648552  0.9347079 ]\n",
            " [0.59069721 0.29492066 0.58916667 0.21060464 0.32928279 0.36934929\n",
            "  0.18852491 0.1776725  0.38948862 0.04398221 0.43993945 0.70369315\n",
            "  0.3265939  0.25845074 0.52324347 0.59399818 0.18846983 0.14515656\n",
            "  0.72412169 0.72712661 0.48881999 0.2662519  0.48552696 0.1334773\n",
            "  0.78360723 0.53151765 0.66160822 0.17763396 0.65975884 0.08332445\n",
            "  0.0726072  0.3106528  0.63685256 0.47594033 0.55394925 0.51468561\n",
            "  0.32861032 0.4821945  0.45115473 0.37418154 0.28067822 0.42930786\n",
            "  0.41717296 0.56949537 0.44738915 0.49602067 0.15423996 0.66038644\n",
            "  0.79311771 0.23758925 0.72265867 0.64319985 0.44038836 0.11705822\n",
            "  0.25835627 0.15389692 0.57203257 0.35473272 0.35271648 0.38175778\n",
            "  0.72627986 0.4469076  0.43309679 0.65519415 0.58200002 0.4520733\n",
            "  0.54752524 0.66314975 0.46176689 0.27407072 0.43302983 0.44981082\n",
            "  0.53213046 0.48446367 0.44358443 0.83003442 0.53491271 0.35257719\n",
            "  0.21363101 0.18995217 0.46389699 0.16383918 0.39621726 0.3353027\n",
            "  0.58387976 0.2910404  0.58622971 0.38471279 0.46608048 0.56879742\n",
            "  0.39600953 0.         0.76957397 0.48076952 0.54118774 0.56700669\n",
            "  0.8010223  0.34404176 0.57065628 0.66515802]\n",
            " [0.87425249 0.59906996 0.93580277 0.78707274 0.44557197 0.75890635\n",
            "  0.95610674 0.78110424 1.15906187 0.74388712 0.47550125 0.25947247\n",
            "  0.9707271  0.64921355 0.25262423 0.18590337 0.60259719 0.66136031\n",
            "  0.19428283 0.06495472 0.49807267 0.86028365 0.46432918 0.74610911\n",
            "  0.13070487 0.64774031 0.58099752 0.80556399 0.50728687 0.74896687\n",
            "  0.83187739 0.65992253 0.79315548 0.73526921 0.66866192 0.57990225\n",
            "  0.44177428 0.52124628 0.67943395 1.01330339 1.03617878 0.62315222\n",
            "  1.0204077  0.6211146  0.88451797 0.27926917 0.88023822 0.76814339\n",
            "  0.21701155 0.70361369 0.08041723 0.39296535 0.89789223 0.84416987\n",
            "  0.81854057 0.72974034 0.30078108 0.96624845 0.84108468 0.84039192\n",
            "  0.95132352 0.40080014 1.20240776 0.71043361 0.64421248 0.71011992\n",
            "  0.83130555 0.11425952 1.23089796 0.7414141  0.66893387 0.48583766\n",
            "  0.24103376 0.31814278 0.78957845 0.16580352 0.23481667 1.07840007\n",
            "  0.55594638 0.65751103 1.23291482 0.73553051 1.16579006 0.90935438\n",
            "  0.39245865 0.48259265 0.68081729 0.79595956 0.74569197 0.41533213\n",
            "  0.69903502 0.76957397 0.         0.89184305 0.40799416 0.33183911\n",
            "  0.16738928 1.11358962 0.3521215  0.68730936]\n",
            " [0.13838927 0.71506524 0.1097587  0.27020691 0.60875736 0.84011357\n",
            "  0.49414466 0.30311809 0.62938536 0.44541183 0.41656939 0.68919919\n",
            "  0.78620766 0.70107494 0.66453369 0.71478999 0.57841765 0.57795358\n",
            "  0.74521742 0.88280801 0.86781322 0.22928426 0.84839882 0.609541\n",
            "  0.83157408 0.96293493 0.43170078 0.30550036 0.48483734 0.40094528\n",
            "  0.44878616 0.75818281 1.09315063 0.93495683 0.27568291 0.33334547\n",
            "  0.55713135 0.87151615 0.89820987 0.26296842 0.47085799 0.86026721\n",
            "  0.22235548 0.98913285 0.03508329 0.64489238 0.60733393 0.29049066\n",
            "  0.78993843 0.70080224 0.88765908 0.55632609 0.05091088 0.58138176\n",
            "  0.2236096  0.33830561 0.59467028 0.22116318 0.12834043 0.86162957\n",
            "  0.26209461 0.49544778 0.64523644 0.32804623 1.00737425 0.90706912\n",
            "  1.01837407 0.78086283 0.66073693 0.74589664 0.22387536 0.82197864\n",
            "  0.72669146 0.74537572 0.1024603  0.85855763 0.70069145 0.41636733\n",
            "  0.51960751 0.6308821  0.65997703 0.63704403 0.63356511 0.81207312\n",
            "  0.52350465 0.51818955 1.02154218 0.11410631 0.92808362 0.90877762\n",
            "  0.85195938 0.48076952 0.89184305 0.         0.49409986 0.86376088\n",
            "  0.82703674 0.60573811 0.87896458 0.35523158]\n",
            " [0.46630102 0.54758318 0.5289427  0.46018142 0.34795686 0.72892176\n",
            "  0.69677559 0.46801913 0.89877994 0.50085402 0.1065109  0.19933476\n",
            "  0.83880868 0.57357136 0.2338365  0.25284639 0.45833957 0.50614883\n",
            "  0.25139603 0.41252026 0.58912523 0.51706573 0.55619105 0.59063125\n",
            "  0.33747727 0.73545614 0.21219851 0.49284322 0.1599111  0.48280914\n",
            "  0.57817651 0.61638162 0.89311164 0.76914692 0.26166865 0.17191264\n",
            "  0.29131967 0.60481217 0.714213   0.66002738 0.74853296 0.65706817\n",
            "  0.65379188 0.73700132 0.49209725 0.23012414 0.68975337 0.37014011\n",
            "  0.30133709 0.61164711 0.42125106 0.10205799 0.5080249  0.65033287\n",
            "  0.47433275 0.43259664 0.10811572 0.60922528 0.46765997 0.79245031\n",
            "  0.54777406 0.11168305 0.93498647 0.31736819 0.76085971 0.73781482\n",
            "  0.87276298 0.30545408 0.96056276 0.66380266 0.27087829 0.54934269\n",
            "  0.31465496 0.38489104 0.39204105 0.36584512 0.27501501 0.76047563\n",
            "  0.37361311 0.53588253 0.96163211 0.59799914 0.90511387 0.81101834\n",
            "  0.04295028 0.29528484 0.78946147 0.41118524 0.77133899 0.57437779\n",
            "  0.69830844 0.54118774 0.40799416 0.49409986 0.         0.49778131\n",
            "  0.33406592 0.85748935 0.52002919 0.29997378]\n",
            " [0.89813751 0.31423063 0.94091816 0.6687588  0.2636432  0.44382139\n",
            "  0.75152386 0.64980426 0.93825677 0.55790695 0.49478857 0.47869976\n",
            "  0.68332951 0.3680342  0.26726316 0.28336648 0.37860133 0.42853949\n",
            "  0.44075851 0.2672637  0.16802789 0.74849059 0.13677712 0.49608431\n",
            "  0.43185397 0.31605169 0.70991004 0.6695674  0.65144301 0.58109261\n",
            "  0.63876593 0.36008721 0.464737   0.40572051 0.72759813 0.636002\n",
            "  0.3074804  0.19129262 0.35134914 0.89639354 0.84760185 0.29797293\n",
            "  0.92129175 0.29205846 0.84419378 0.26766669 0.6342812  0.8507102\n",
            "  0.49981502 0.42234921 0.25304807 0.55004187 0.85069282 0.60486344\n",
            "  0.71408664 0.59353773 0.41410232 0.85889313 0.77174594 0.52644602\n",
            "  1.00920148 0.41394199 0.9845001  0.80556295 0.31588641 0.38225448\n",
            "  0.49980836 0.29497225 1.01365191 0.44765829 0.67049227 0.16538809\n",
            "  0.18686414 0.12094418 0.77215511 0.48003672 0.22857594 0.91505232\n",
            "  0.37894612 0.40283132 1.01631565 0.47589453 0.94485683 0.61058821\n",
            "  0.51231801 0.34911147 0.35185029 0.75129655 0.41711211 0.08859284\n",
            "  0.37856458 0.56700669 0.33183911 0.86376088 0.49778131 0.\n",
            "  0.46773176 0.892654   0.02386589 0.79261852]\n",
            " [0.78562844 0.68717474 0.85316781 0.77356475 0.50374395 0.86097015\n",
            "  0.97904873 0.77464048 1.18462097 0.76832089 0.42753087 0.13935033\n",
            "  1.04471529 0.73194602 0.28867856 0.22278327 0.65840051 0.71656765\n",
            "  0.08386259 0.22225329 0.62450069 0.83882133 0.58888323 0.80505275\n",
            "  0.03772946 0.77980099 0.46109353 0.79985464 0.38650051 0.76362242\n",
            "  0.85451089 0.75381053 0.93203984 0.85550496 0.57588297 0.4968944\n",
            "  0.47918034 0.64682931 0.79808288 0.9870229  1.04708686 0.73932711\n",
            "  0.98479089 0.7594735  0.82603845 0.31404494 0.93023157 0.65783297\n",
            "  0.05415859 0.78334221 0.23866594 0.28106887 0.84208323 0.89185904\n",
            "  0.79588891 0.72962534 0.24621544 0.93711504 0.79936953 0.93928523\n",
            "  0.84424022 0.37342987 1.22511261 0.59756272 0.78346536 0.82779979\n",
            "  0.95615557 0.17660323 1.25250809 0.82750949 0.60467752 0.60334553\n",
            "  0.32285333 0.41788528 0.72544216 0.03191635 0.29546712 1.074014\n",
            "  0.5940358  0.72470568 1.25409013 0.80060181 1.19124642 0.993582\n",
            "  0.30377959 0.51135965 0.81915457 0.74482897 0.86391349 0.55565267\n",
            "  0.80795799 0.8010223  0.16738928 0.82703674 0.33406592 0.46773176\n",
            "  0.         1.14049526 0.49040714 0.57113377]\n",
            " [0.74313449 0.58856181 0.70705008 0.415348   0.67141255 0.56517656\n",
            "  0.16191033 0.39731617 0.0458802  0.37269222 0.75141247 1.03535091\n",
            "  0.33661828 0.53781002 0.86672435 0.93741776 0.52095576 0.46600288\n",
            "  1.06151901 1.07041072 0.78410126 0.39689114 0.7905698  0.39840744\n",
            "  1.12486306 0.77449594 0.93303196 0.37481524 0.94989909 0.3784313\n",
            "  0.28598569 0.5704279  0.82628896 0.68170792 0.79502091 0.78743063\n",
            "  0.67252829 0.7712442  0.68355072 0.36055461 0.13490284 0.68750933\n",
            "  0.41633613 0.82178634 0.572334   0.83947282 0.26458954 0.86975717\n",
            "  1.12892867 0.49120685 1.0654781  0.95710707 0.554837   0.28882635\n",
            "  0.42757637 0.42520735 0.90449799 0.38880355 0.50049505 0.52382996\n",
            "  0.86550071 0.77595633 0.09186192 0.88566178 0.82636189 0.67024732\n",
            "  0.7089123  1.00697821 0.12100538 0.49334805 0.67693503 0.75342751\n",
            "  0.87551037 0.82240063 0.62732273 1.17019864 0.87895423 0.21255576\n",
            "  0.55764738 0.49053529 0.12371953 0.42251949 0.05258818 0.4157199\n",
            "  0.90029186 0.63399863 0.81737471 0.56384494 0.66665531 0.8781107\n",
            "  0.62285283 0.34404176 1.11358962 0.60573811 0.85748935 0.892654\n",
            "  1.14049526 0.         0.89241439 0.90432982]\n",
            " [0.91592842 0.30968293 0.95762928 0.67912551 0.27518329 0.43128472\n",
            "  0.75365273 0.65930112 0.93787027 0.5633492  0.51474145 0.50255514\n",
            "  0.67523364 0.36332983 0.29032687 0.30722788 0.38224326 0.43025905\n",
            "  0.46437032 0.28731098 0.1514999  0.75881241 0.12278571 0.49472896\n",
            "  0.45433865 0.29571465 0.73221366 0.67853382 0.67427189 0.58804372\n",
            "  0.6427925  0.35180129 0.44271561 0.38829968 0.7475833  0.65633453\n",
            "  0.32193986 0.174592   0.33486749 0.90557019 0.85085751 0.28308173\n",
            "  0.93167967 0.27008264 0.85877162 0.29002041 0.6323636  0.87113892\n",
            "  0.52305565 0.41697365 0.27270416 0.57339931 0.86482848 0.60398189\n",
            "  0.72516824 0.60311999 0.43738388 0.86895482 0.78489032 0.51381999\n",
            "  1.02820718 0.43456595 0.98427412 0.82657247 0.29371915 0.36576811\n",
            "  0.48076385 0.31827442 1.01340795 0.43977346 0.68827129 0.15444895\n",
            "  0.21021837 0.14005078 0.78838002 0.5022166  0.25195742 0.92034671\n",
            "  0.38781851 0.40192781 1.01613203 0.47338932 0.94443445 0.6008094\n",
            "  0.53517205 0.3625453  0.32990427 0.7660892  0.40017946 0.06531624\n",
            "  0.3648552  0.57065628 0.3521215  0.87896458 0.52002919 0.02386589\n",
            "  0.49040714 0.89241439 0.         0.81400037]\n",
            " [0.25152696 0.78079609 0.32554099 0.49483354 0.60176149 0.94966785\n",
            "  0.7616066  0.51983874 0.9368506  0.62127722 0.30823957 0.43644129\n",
            "  0.99111988 0.79178167 0.53299667 0.55083986 0.66191784 0.69244114\n",
            "  0.50258273 0.70294093 0.86485318 0.50904469 0.83476449 0.76039598\n",
            "  0.58880157 0.99992235 0.11022981 0.53784742 0.18463334 0.58549759\n",
            "  0.67043749 0.84359617 1.15280968 1.01311494 0.11205786 0.17020559\n",
            "  0.53966314 0.87742702 0.96281496 0.60397996 0.77413059 0.91029899\n",
            "  0.57261578 1.00927187 0.37485613 0.5267239  0.81796767 0.08992208\n",
            "  0.52243399 0.81587545 0.71343077 0.29530574 0.39561648 0.78208061\n",
            "  0.47676599 0.5161339  0.40240211 0.55522277 0.41279656 0.99844841\n",
            "  0.27498044 0.38108497 0.96186145 0.03031044 1.0320558  0.98188133\n",
            "  1.1126328  0.596324   0.98188939 0.86849771 0.23431409 0.82164676\n",
            "  0.61311503 0.67550573 0.28668117 0.59902594 0.57432881 0.74549674\n",
            "  0.57717299 0.73631428 0.98182326 0.77807614 0.9421248  0.98744476\n",
            "  0.30002201 0.52319766 1.05693405 0.34511023 1.01198077 0.86443317\n",
            "  0.9347079  0.66515802 0.68730936 0.35523158 0.29997378 0.79261852\n",
            "  0.57113377 0.90432982 0.81400037 0.        ]]\n"
          ]
        }
      ],
      "source": [
        "v = np.random.random((100, 2))        #random vector created in shape(100,2)\n",
        "x,y = np.atleast_2d(v[:,0], v[:,1])   #vector is converted to 2-dimensional\n",
        "distance = np.sqrt((x-x.T)**2 + (y-y.T)**2)   #formula used to find the distance\n",
        "print(distance)"
      ]
    },
    {
      "cell_type": "markdown",
      "metadata": {
        "id": "dHBNAqOzODY_"
      },
      "source": [
        "#### 53. How to convert a float (32 bits) array into an integer (32 bits) in place? \n",
        "(**hint**: astype(copy=False))"
      ]
    },
    {
      "cell_type": "code",
      "execution_count": null,
      "metadata": {
        "id": "8I2sS8rXODY_",
        "colab": {
          "base_uri": "https://localhost:8080/"
        },
        "outputId": "70e272a1-52da-4af7-e20e-2a0dc5e0f3ac"
      },
      "outputs": [
        {
          "output_type": "stream",
          "name": "stdout",
          "text": [
            "[[1.2173523 8.689062  7.7796183 0.7592318 7.193909 ]]\n",
            "[[1 8 7 0 7]]\n"
          ]
        }
      ],
      "source": [
        "#creating a variable x with random values\n",
        "x=10*np.random.random((1,5))\n",
        "x=x.astype(np.float32)  #changin the data type to float32\n",
        "print(x)\n",
        "\n",
        "#converting the values to int32\n",
        "x=x.astype(np.int32,copy=False)\n",
        "print(x)"
      ]
    },
    {
      "cell_type": "markdown",
      "metadata": {
        "id": "PedrsLwxODY_"
      },
      "source": [
        "#### 54. How to read the following file? (★★☆) \n",
        "(**hint**: np.genfromtxt)"
      ]
    },
    {
      "cell_type": "markdown",
      "metadata": {
        "id": "oEu61UCsODY_"
      },
      "source": [
        "```\n",
        "1, 2, 3, 4, 5\n",
        "6,  ,  , 7, 8\n",
        " ,  , 9,10,11\n",
        "```"
      ]
    },
    {
      "cell_type": "code",
      "execution_count": null,
      "metadata": {
        "id": "jk1ZHKZVODZA",
        "colab": {
          "base_uri": "https://localhost:8080/"
        },
        "outputId": "488fe3b9-2e85-449e-daef-dddadc187bce"
      },
      "outputs": [
        {
          "output_type": "stream",
          "name": "stdout",
          "text": [
            "without mentioning the dtype, the missing values are nan\n",
            "[[ 1.  2.  3.  4.  5.]\n",
            " [ 6. nan nan  7.  8.]\n",
            " [nan nan  9. 10. 11.]] \n",
            "\n",
            "with the dtype as int and the missing values as 0\n",
            "[[ 1  2  3  4  5]\n",
            " [ 6  0  0  7  8]\n",
            " [ 0  0  9 10 11]]\n"
          ]
        },
        {
          "output_type": "stream",
          "name": "stderr",
          "text": [
            "/usr/local/lib/python3.7/dist-packages/ipykernel_launcher.py:14: DeprecationWarning: `np.int` is a deprecated alias for the builtin `int`. To silence this warning, use `int` by itself. Doing this will not modify any behavior and is safe. When replacing `np.int`, you may wish to use e.g. `np.int64` or `np.int32` to specify the precision. If you wish to review your current use, check the release note link for additional information.\n",
            "Deprecated in NumPy 1.20; for more details and guidance: https://numpy.org/devdocs/release/1.20.0-notes.html#deprecations\n",
            "  \n"
          ]
        }
      ],
      "source": [
        "#importing Input/output package\n",
        "from io import StringIO\n",
        "\n",
        "#variable assigned to the data\n",
        "data=\"\"\"1, 2, 3, 4, 5\n",
        "6,  ,  , 7, 8\n",
        " ,  , 9,10,11\"\"\"\n",
        "\n",
        "print(\"without mentioning the dtype, the missing values are nan\")\n",
        "text=np.genfromtxt(StringIO(data),delimiter=',')\n",
        "print(text,'\\n')\n",
        "\n",
        "print(\"with the dtype as int and the missing values as 0\")\n",
        "text1=np.genfromtxt(StringIO(data),delimiter=\",\",dtype=np.int,filling_values=0)\n",
        "print(text1)"
      ]
    },
    {
      "cell_type": "markdown",
      "metadata": {
        "id": "3sHVYVy0ODZA"
      },
      "source": [
        "#### 55. What is the equivalent of enumerate for numpy arrays? (★★☆) \n",
        "(**hint**: np.ndenumerate, np.ndindex)"
      ]
    },
    {
      "cell_type": "code",
      "execution_count": null,
      "metadata": {
        "id": "HIueeKTCODZA",
        "colab": {
          "base_uri": "https://localhost:8080/"
        },
        "outputId": "53a2376c-1473-438d-d619-9a6b82b07332"
      },
      "outputs": [
        {
          "output_type": "stream",
          "name": "stdout",
          "text": [
            "An array created with the range of 4 elements and reshaped\n",
            "[[0 1]\n",
            " [2 3]] \n",
            "\n",
            "Using np.ndenumerate \n",
            "\n",
            "[((0,), (([1, 1, 1, 1, 1], [1, 1]), (1., 1., 1.))), ((1,), (([1, 1, 1, 1, 1], [1, 1]), (1., 1., 1.))), ((2,), (([1, 1, 1, 1, 1], [1, 1]), (1., 1., 1.)))] \n",
            "\n",
            "Using np.ndindex\n",
            "\n",
            "[((0, 0), 0), ((0, 1), 1), ((1, 0), 2), ((1, 1), 3)]\n"
          ]
        }
      ],
      "source": [
        "#We can use ndindex equivalent to enumerate\n",
        "\n",
        "print(\"An array created with the range of 4 elements and reshaped\")\n",
        "x = np.arange(4).reshape(2,2)\n",
        "print(x,'\\n')\n",
        "print(\"Using np.ndenumerate \\n\") \n",
        "print(list(np.ndenumerate(Z)),'\\n')\n",
        "print(\"Using np.ndindex\\n\")\n",
        "Result=[]\n",
        "for index in np.ndindex(x.shape):\n",
        "    Result.append((index, x[index]))\n",
        "print(Result)"
      ]
    },
    {
      "cell_type": "markdown",
      "metadata": {
        "id": "IdLvQ05iODZA"
      },
      "source": [
        "#### 56. Generate a generic 2D Gaussian-like array (★★☆) \n",
        "(**hint**: np.meshgrid, np.exp)"
      ]
    },
    {
      "cell_type": "code",
      "execution_count": null,
      "metadata": {
        "id": "2eQS_qLrODZA",
        "colab": {
          "base_uri": "https://localhost:8080/"
        },
        "outputId": "1c3b0842-8a21-4a30-d1e7-1ffc15ffa565"
      },
      "outputs": [
        {
          "output_type": "stream",
          "name": "stdout",
          "text": [
            "2D Gaussian-like Array\n",
            "[[0.36787944 0.27768997 0.19691168 0.13117145 0.082085  ]\n",
            " [0.27768997 0.20961139 0.14863673 0.09901341 0.06196101]\n",
            " [0.19691168 0.14863673 0.10539922 0.07021102 0.04393693]\n",
            " [0.13117145 0.09901341 0.07021102 0.04677062 0.02926831]\n",
            " [0.082085   0.06196101 0.04393693 0.02926831 0.01831564]]\n"
          ]
        }
      ],
      "source": [
        "#Gaussian formula:   f(x,μ,σ)=1σ2π−−√e−(x−mu)22σ2\n",
        "\n",
        "x, y = np.meshgrid(np.linspace(1,2,5), np.linspace(1,2,5))\n",
        "d = np.sqrt(x*x+y*y)\n",
        "sigma, mu = 1.0, 0.0\n",
        "g = np.exp(-( (d-mu)**2 / ( 2.0 * sigma**2 ) ) )\n",
        "print(\"2D Gaussian-like Array\")\n",
        "print(g)"
      ]
    },
    {
      "cell_type": "markdown",
      "metadata": {
        "id": "eo3PtOYNODZA"
      },
      "source": [
        "#### 57. How to randomly place p elements in a 2D array? (★★☆) \n",
        "(**hint**: np.put, np.random.choice)"
      ]
    },
    {
      "cell_type": "code",
      "execution_count": null,
      "metadata": {
        "id": "Hl7MemiLODZC",
        "colab": {
          "base_uri": "https://localhost:8080/"
        },
        "outputId": "bfa5af10-7325-4c84-a7c3-a3fd765c805a"
      },
      "outputs": [
        {
          "output_type": "stream",
          "name": "stdout",
          "text": [
            "Randomly placed 777 in 10 places in the matrix \n",
            "\n",
            "[[  1.   1.   1. 777.   1.]\n",
            " [777.   1. 777. 777. 777.]\n",
            " [777.   1.   1. 777.   1.]\n",
            " [777. 777.   1. 777.   1.]\n",
            " [  1.   1.   1.   1.   1.]]\n"
          ]
        }
      ],
      "source": [
        "n = 5   \n",
        "p = 10  #number of elements to be placed\n",
        "x= np.ones((n, n))   #generated the matrix with element values of 1\n",
        "np.put(x, np.random.choice(range(n*n), p, replace=False), 777)   #specified the value to be replaced as 777\n",
        "print(\"Randomly placed 777 in 10 places in the matrix \\n\")\n",
        "print(x)"
      ]
    },
    {
      "cell_type": "markdown",
      "metadata": {
        "id": "1jKl3qzCODZD"
      },
      "source": [
        "#### 58. Subtract the mean of each row of a matrix (★★☆) \n",
        "(**hint**: mean(axis=,keepdims=))"
      ]
    },
    {
      "cell_type": "code",
      "execution_count": null,
      "metadata": {
        "id": "E7ei3YidODZD",
        "colab": {
          "base_uri": "https://localhost:8080/"
        },
        "outputId": "cf1acfa4-4a32-4be1-f463-d4b51f1ea55b"
      },
      "outputs": [
        {
          "output_type": "stream",
          "name": "stdout",
          "text": [
            "Random values of 3x4 matrix created \n",
            "\n",
            "[[0.00418531 0.41281158 0.24547158 0.43436853]\n",
            " [0.5136018  0.28109415 0.08788459 0.62895368]\n",
            " [0.98247503 0.92967076 0.45450915 0.51123057]] \n",
            "\n",
            "Mean subtracted for each row of the matrix \n",
            "\n",
            "[[-0.27002394  0.13860233 -0.02873767  0.16015928]\n",
            " [ 0.13571824 -0.0967894  -0.28999896  0.25107012]\n",
            " [ 0.26300365  0.21019938 -0.26496223 -0.20824081]]\n"
          ]
        }
      ],
      "source": [
        "print(\"Random values of 3x4 matrix created \\n\")\n",
        "x=np.random.rand(3,4)\n",
        "print(x,'\\n')\n",
        "\n",
        "x_mean=x.mean(axis=1,keepdims=True)\n",
        "x=x-x_mean\n",
        "print(\"Mean subtracted for each row of the matrix \\n\")\n",
        "print(x)"
      ]
    },
    {
      "cell_type": "markdown",
      "metadata": {
        "id": "sUDeGZgMODZD"
      },
      "source": [
        "#### 59. How to sort an array by the nth column? (★★☆) \n",
        "(**hint**: argsort)"
      ]
    },
    {
      "cell_type": "code",
      "execution_count": null,
      "metadata": {
        "id": "9VVNUdlZODZD",
        "colab": {
          "base_uri": "https://localhost:8080/"
        },
        "outputId": "1df4a955-6d9e-419f-c815-0ec9d8693701"
      },
      "outputs": [
        {
          "output_type": "stream",
          "name": "stdout",
          "text": [
            "Random integer matrix\n",
            "[[11  2  8  1]\n",
            " [16 13  5  5]\n",
            " [ 6  2 15  8]] \n",
            "\n",
            "sorting based on the 2nd column\n",
            "[[11  2  8  1]\n",
            " [ 6  2 15  8]\n",
            " [16 13  5  5]] \n",
            "\n",
            "sorted based on the 3rd column\n",
            "[[16 13  5  5]\n",
            " [11  2  8  1]\n",
            " [ 6  2 15  8]]\n"
          ]
        }
      ],
      "source": [
        "#created a random integer matrix\n",
        "x = np.random.randint(1,25,(3,4))\n",
        "print(\"Random integer matrix\")\n",
        "print(x,'\\n')\n",
        "print(\"sorting based on the 2nd column\")\n",
        "print(x[x[:,1].argsort()],'\\n')\n",
        "print(\"sorted based on the 3rd column\")\n",
        "print(x[x[:,2].argsort()])"
      ]
    },
    {
      "cell_type": "markdown",
      "metadata": {
        "id": "bsmMCD3nODZD"
      },
      "source": [
        "#### 60. How to tell if a given 2D array has null columns? (★★☆) \n",
        "(**hint**: any, ~)"
      ]
    },
    {
      "cell_type": "code",
      "execution_count": null,
      "metadata": {
        "id": "WIvQY5bqODZD",
        "colab": {
          "base_uri": "https://localhost:8080/"
        },
        "outputId": "ec02ea47-c935-4a34-e31a-dcd091c8a06a"
      },
      "outputs": [
        {
          "output_type": "stream",
          "name": "stdout",
          "text": [
            "Random array\n",
            "[[2 2 3 2]\n",
            " [3 1 2 2]\n",
            " [0 3 0 0]]\n",
            "False\n",
            "Values with all values as 0 will be resulted as True \n",
            "\n",
            "Array created with second column as 0\n",
            "[[1 0 2]\n",
            " [4 0 7]\n",
            " [8 0 1]]\n",
            "[False  True False]\n",
            "Here the second column resulted as True as all the values are 0 \n",
            "\n",
            "Example with an array with nan values\n",
            "[[ 0.  1. nan]\n",
            " [ 1.  2. nan]]\n",
            "[False False  True]\n"
          ]
        }
      ],
      "source": [
        "#Random array created\n",
        "x=np.random.randint(0,4,(3,4))\n",
        "print(\"Random array\")\n",
        "print(x)\n",
        "print((~x.any(axis=0)).any())\n",
        "print(\"Values with all values as 0 will be resulted as True \\n\")\n",
        "\n",
        "print(\"Array created with second column as 0\")\n",
        "y=np.array([1,0,2,4,0,7,8,0,1]).reshape(3,3)\n",
        "print(y)\n",
        "print((~y.any(axis=0)))\n",
        "print(\"Here the second column resulted as True as all the values are 0 \\n\")\n",
        "\n",
        "print(\"Example with an array with nan values\")\n",
        "z=np.array([\n",
        "    [0,1,np.nan],\n",
        "    [1,2,np.nan]\n",
        "])\n",
        "print(z)\n",
        "print(np.isnan(z).all(axis=0))"
      ]
    },
    {
      "cell_type": "markdown",
      "metadata": {
        "id": "t87KC_k7ODZD"
      },
      "source": [
        "#### 61. Find the nearest value from a given value in an array (★★☆) \n",
        "(**hint**: np.abs, argmin, flat)"
      ]
    },
    {
      "cell_type": "code",
      "execution_count": null,
      "metadata": {
        "id": "O4Zsp_LiODZD",
        "colab": {
          "base_uri": "https://localhost:8080/"
        },
        "outputId": "51bcb5d8-bf3f-4738-b7c7-01ce668dd8ba"
      },
      "outputs": [
        {
          "output_type": "stream",
          "name": "stdout",
          "text": [
            "[0.27850226 0.07789562 0.17840007 0.49620618 0.55202004 0.45133449\n",
            " 0.42227416 0.31109998 0.31047865 0.99581799] \n",
            "\n",
            "The nearest value to n=0.5 is \n",
            "0.49620618009768536\n"
          ]
        }
      ],
      "source": [
        "#created a random array\n",
        "x = np.random.uniform(0,1,10)\n",
        "print(x,'\\n')\n",
        "n = 0.5   #Defining a value to find out the closest\n",
        "i_min = np.abs(x-n).argmin()\n",
        "print(\"The nearest value to n=0.5 is \")\n",
        "print(x[i_min])"
      ]
    },
    {
      "cell_type": "markdown",
      "metadata": {
        "id": "hy6lYQTdODZD"
      },
      "source": [
        "#### 62. Considering two arrays with shape (1,3) and (3,1), how to compute their sum using an iterator? (★★☆) \n",
        "(**hint**: np.nditer)"
      ]
    },
    {
      "cell_type": "code",
      "execution_count": null,
      "metadata": {
        "id": "kEHMJYuOODZD",
        "colab": {
          "base_uri": "https://localhost:8080/"
        },
        "outputId": "94a0e37a-3ff0-4675-c731-ad67e13f8f41"
      },
      "outputs": [
        {
          "output_type": "stream",
          "name": "stdout",
          "text": [
            "x- Array \n",
            "\n",
            "[[0 1 2]] \n",
            "\n",
            "y- Array \n",
            "\n",
            "[[0]\n",
            " [1]\n",
            " [2]] \n",
            "\n",
            "Iterator object i created with x,y and an empty set\n",
            "<numpy.nditer object at 0x7fdb98a74850> \n",
            "\n",
            "Computing the sum of x and y with the iterator i\n",
            "[[0 1 2]\n",
            " [1 2 3]\n",
            " [2 3 4]]\n"
          ]
        }
      ],
      "source": [
        "x=np.arange(3).reshape(1,3)\n",
        "print(\"x- Array \\n\")\n",
        "print(x,'\\n')\n",
        "y=np.arange(3).reshape(3,1)\n",
        "print(\"y- Array \\n\")\n",
        "print(y,'\\n')\n",
        "#creating iterations\n",
        "i=np.nditer([x,y,None])\n",
        "print(\"Iterator object i created with x,y and an empty set\")\n",
        "print(i,'\\n')\n",
        "\n",
        "#Appending to Z\n",
        "print(\"Computing the sum of x and y with the iterator i\")\n",
        "for x,y,z in i:\n",
        "  z[...]=x+y\n",
        "print(i.operands[2])"
      ]
    },
    {
      "cell_type": "markdown",
      "metadata": {
        "id": "IGsx45XaODZD"
      },
      "source": [
        "#### 63. Create an array class that has a name attribute (★★☆) \n",
        "(**hint**: class method)"
      ]
    },
    {
      "cell_type": "code",
      "execution_count": null,
      "metadata": {
        "id": "QAo5v2_uODZE",
        "colab": {
          "base_uri": "https://localhost:8080/"
        },
        "outputId": "cf7fe4a5-b3c5-4893-bc72-3434ce66453e"
      },
      "outputs": [
        {
          "output_type": "stream",
          "name": "stdout",
          "text": [
            "Z-array\n",
            "[0 1 2 3 4] \n",
            "\n",
            "Name of the Z-array\n",
            "arangeof5\n"
          ]
        }
      ],
      "source": [
        "#class defined with the functions\n",
        "class NamedArray(np.ndarray):\n",
        "    def __new__(cls, array, name=\"no name\"):\n",
        "        obj = np.asarray(array).view(cls)\n",
        "        obj.name = name\n",
        "        return obj\n",
        "    def __array_finalize__(self, obj):\n",
        "        if obj is None: return\n",
        "        self.name = getattr(obj, 'name', \"no name\")\n",
        "\n",
        "#Calling the NamedArray\n",
        "Z = NamedArray(np.arange(5), \"arangeof5\")\n",
        "\n",
        "print('Z-array')\n",
        "print(Z,'\\n')\n",
        "print('Name of the Z-array')\n",
        "print (Z.name)"
      ]
    },
    {
      "cell_type": "markdown",
      "metadata": {
        "id": "45PCLXk4ODZE"
      },
      "source": [
        "#### 64. Consider a given vector, how to add 1 to each element indexed by a second vector (be careful with repeated indices)? (★★★) \n",
        "(**hint**: np.bincount | np.add.at)"
      ]
    },
    {
      "cell_type": "code",
      "execution_count": null,
      "metadata": {
        "id": "L3l7tFVSODZE",
        "colab": {
          "base_uri": "https://localhost:8080/"
        },
        "outputId": "f63af11c-cffb-4ece-eac8-1e785a722984"
      },
      "outputs": [
        {
          "output_type": "stream",
          "name": "stdout",
          "text": [
            "Original Array - 1st: \n",
            "[1. 1. 1. 1. 1. 1. 1. 1. 1. 1.] \n",
            "\n",
            "The Second array: \n",
            "[3 5 9 2 8 2 4 4 4 6 3 6 4 7 3 7 2 2 5 5] \n",
            "\n",
            "The bin_count: \n",
            "[0 0 4 3 4 3 2 2 1 1] \n",
            "\n",
            "Result after the summation\n",
            "[1. 1. 5. 4. 5. 4. 3. 3. 2. 2.] \n",
            "\n",
            "--------------------------------\n",
            "Another Method using np.add.at\n",
            "[1. 1. 5. 4. 5. 4. 3. 3. 2. 2.]\n"
          ]
        }
      ],
      "source": [
        "#Array creted with all 1s, size of 10\n",
        "x = np.ones(10)\n",
        "print(\"Original Array - 1st: \")\n",
        "print(x,'\\n')\n",
        "\n",
        "#This vector holds 10 (Length of the array, x) in the range of random values between 0 and 20\n",
        "y = np.random.randint(0, len(x), 20) \n",
        "print(\"The Second array: \")\n",
        "print(y,'\\n')\n",
        "\n",
        "'''\n",
        "The np.bincount() is a numpy library method used to obtain the frequency of each element provided inside a numpy array. \n",
        "The numpy bincount() method takes arr_name, weights, and minlength as arguments and returns the ndarray of integers.\n",
        "'''\n",
        "bin_count = np.bincount(y, minlength=len(x))\n",
        "print(\"The bin_count: \")\n",
        "print(bin_count,'\\n')\n",
        "\n",
        "Result = x + bin_count\n",
        "print(\"Result after the summation\")\n",
        "print(Result,'\\n')\n",
        "\n",
        "print(\"--------------------------------\")\n",
        "print(\"Another Method using np.add.at\")\n",
        "np.add.at(x, y, 1)\n",
        "print(x)\n"
      ]
    },
    {
      "cell_type": "markdown",
      "metadata": {
        "id": "Ui225LdbODZE"
      },
      "source": [
        "#### 65. How to accumulate elements of a vector (X) to an array (F) based on an index list (I)? (★★★) \n",
        "(**hint**: np.bincount)"
      ]
    },
    {
      "cell_type": "code",
      "execution_count": null,
      "metadata": {
        "id": "Qe_R7hx3ODZE",
        "colab": {
          "base_uri": "https://localhost:8080/"
        },
        "outputId": "3377fc9d-f997-4883-cb9d-e14f21a0476d"
      },
      "outputs": [
        {
          "output_type": "stream",
          "name": "stdout",
          "text": [
            "Array - X\n",
            "[88, 33, 98, 21, 18, 3, 78] \n",
            "\n",
            "Array - Y\n",
            "[1, 2, 4, 7, 9, 3, 0] \n",
            "\n",
            "Elements accumulated based on an Index List Y\n",
            "Array - F\n",
            "[78. 88. 33.  3. 98.  0.  0. 21.  0. 18.]\n"
          ]
        }
      ],
      "source": [
        "print(\"Array - X\")\n",
        "X=[88,33,98,21,18,3,78]\n",
        "print(X,'\\n')\n",
        "print(\"Array - Y\")\n",
        "Y=[1,2,4,7,9,3,0]\n",
        "print(Y,'\\n')\n",
        "print(\"Elements accumulated based on an Index List Y\")\n",
        "print(\"Array - F\")\n",
        "F=np.bincount(Y,X)\n",
        "print(F)\n"
      ]
    },
    {
      "cell_type": "markdown",
      "metadata": {
        "id": "I9JQG8EmODZE"
      },
      "source": [
        "#### 66. Considering a (w,h,3) image of (dtype=ubyte), compute the number of unique colors (★★★) \n",
        "(**hint**: np.unique)"
      ]
    },
    {
      "cell_type": "code",
      "execution_count": null,
      "metadata": {
        "id": "h-xyfe1FODZE",
        "colab": {
          "base_uri": "https://localhost:8080/"
        },
        "outputId": "2a84c80d-9769-4e76-b15d-ebaf3d61fd68"
      },
      "outputs": [
        {
          "output_type": "stream",
          "name": "stdout",
          "text": [
            "The number of unique colors\n",
            "64\n"
          ]
        }
      ],
      "source": [
        "#Assigning the values for w and h\n",
        "w, h = 256, 256\n",
        "I = np.random.randint(0,4,(h,w,3), dtype=np.uint8)\n",
        "\n",
        "# View each pixel as a single 24-bit integer, rather than three 8-bit bytes\n",
        "I24 = np.dot(I.astype(np.uint32),[1,256,65536])\n",
        "\n",
        "# Count unique colours\n",
        "print(\"The number of unique colors\")\n",
        "n = len(np.unique(I24))\n",
        "print(n)\n"
      ]
    },
    {
      "cell_type": "markdown",
      "metadata": {
        "id": "RUL1RYjrODZE"
      },
      "source": [
        "#### 67. Considering a four dimensions array, how to get sum over the last two axis at once? (★★★) \n",
        "(**hint**: sum(axis=(-2,-1)))"
      ]
    },
    {
      "cell_type": "code",
      "execution_count": null,
      "metadata": {
        "id": "GOzE0ZCnODZE",
        "colab": {
          "base_uri": "https://localhost:8080/"
        },
        "outputId": "71f11bc0-302d-4040-f4d1-ad398ff2a4a4"
      },
      "outputs": [
        {
          "output_type": "stream",
          "name": "stdout",
          "text": [
            "******4D array******\n",
            "[[[[ 0 15]\n",
            "   [14  5]]\n",
            "\n",
            "  [[16  3]\n",
            "   [15 13]]]\n",
            "\n",
            "\n",
            " [[[10  9]\n",
            "   [ 9  8]]\n",
            "\n",
            "  [[ 8  5]\n",
            "   [19  0]]]] \n",
            "\n",
            "Sum over the last two axis at once:  [[34 47]\n",
            " [36 32]]\n"
          ]
        }
      ],
      "source": [
        "x = np.random.randint(0,20,(2,2,2,2))\n",
        "print(\"******4D array******\")\n",
        "print(x,'\\n')\n",
        "#passing a tuple of axes\n",
        "sum = x.sum(axis=(-2,-1))\n",
        "print('Sum over the last two axis at once: ', sum)"
      ]
    },
    {
      "cell_type": "markdown",
      "metadata": {
        "id": "-e6GOW8AODZE"
      },
      "source": [
        "#### 68. Considering a one-dimensional vector D, how to compute means of subsets of D using a vector S of same size describing subset  indices? (★★★) \n",
        "(**hint**: np.bincount)"
      ]
    },
    {
      "cell_type": "code",
      "execution_count": null,
      "metadata": {
        "id": "7NW06E5qODZE",
        "colab": {
          "base_uri": "https://localhost:8080/"
        },
        "outputId": "e1e5aee6-9c30-4a69-aa70-c832c8569557"
      },
      "outputs": [
        {
          "output_type": "stream",
          "name": "stdout",
          "text": [
            "ndarray : D\n",
            "[0.53408311 0.7752947  0.56767356 0.73075935 0.07125541 0.3023702\n",
            " 0.58410565 0.32811434 0.19364256 0.15915055 0.00494197 0.06806802\n",
            " 0.48664469 0.94862442 0.22027098 0.80497244 0.82710339 0.79063492\n",
            " 0.41559628 0.63786382 0.87938804 0.96380142 0.2022936  0.31662628\n",
            " 0.57642958 0.08694666 0.135011   0.03658527 0.38506411 0.78067929\n",
            " 0.57741496]\n",
            "--------------------------------------------\n",
            "ndarray :S\n",
            "[7 9 5 8 9 8 2 9 7 0 2 0 6 2 6 9 6 0 5 0 4 6 9 6 1 6 3 9 8 3 0]\n",
            "-------------------------------------------\n",
            "Means of the subsets of D using S\n",
            "[0.44662645 0.57642958 0.51255735 0.45784515 0.87938804 0.49163492\n",
            " 0.48356557 0.36386283 0.47273122 0.36975263]\n"
          ]
        }
      ],
      "source": [
        "print(\"ndarray : D\")\n",
        "D = np.random.uniform(0,1,31)\n",
        "print(D)\n",
        "print('--------------------------------------------')\n",
        "S = np.random.randint(0,10,31)\n",
        "print(\"ndarray :S\")\n",
        "print(S)\n",
        "print('-------------------------------------------')\n",
        "D_sums = np.bincount(S, weights=D) \n",
        "D_counts = np.bincount(S)\n",
        "D_means = D_sums / D_counts  \n",
        "print(\"Means of the subsets of D using S\")\n",
        "print(D_means)"
      ]
    },
    {
      "cell_type": "markdown",
      "metadata": {
        "id": "vCrx8EXtODZE"
      },
      "source": [
        "#### 69. How to get the diagonal of a dot product? (★★★) \n",
        "(**hint**: np.diag)"
      ]
    },
    {
      "cell_type": "code",
      "execution_count": null,
      "metadata": {
        "id": "QyspaTBBODZF",
        "colab": {
          "base_uri": "https://localhost:8080/"
        },
        "outputId": "4b4625fa-701d-4320-fbe5-561b60ec2cf6"
      },
      "outputs": [
        {
          "output_type": "stream",
          "name": "stdout",
          "text": [
            "x: 2x2 Array\n",
            "[[1 6]\n",
            " [3 7]] \n",
            "\n",
            "y: 2x2 Array\n",
            "[[6 5]\n",
            " [5 4]] \n",
            "\n",
            "z: Product of x and y\n",
            "[[36 29]\n",
            " [53 43]] \n",
            "\n",
            "Diagonal of the resultant array z\n",
            "[36 43]\n"
          ]
        }
      ],
      "source": [
        "x=np.random.randint(1,10,size=(2,2))\n",
        "print(\"x: 2x2 Array\")\n",
        "print(x, '\\n')\n",
        "y=np.random.randint(1,10,size=(2,2))\n",
        "print(\"y: 2x2 Array\")\n",
        "print(y,'\\n')\n",
        "print(\"z: Product of x and y\")\n",
        "z=x.dot(y)\n",
        "print(z,'\\n')\n",
        "print(\"Diagonal of the resultant array z\")\n",
        "d=np.diag(z)\n",
        "print(d)"
      ]
    },
    {
      "cell_type": "markdown",
      "metadata": {
        "id": "UtRs_0oqODZF"
      },
      "source": [
        "#### 70. Consider the vector \\[1, 2, 3, 4, 5\\], how to build a new vector with 3 consecutive zeros interleaved between each value? (★★★) \n",
        "(**hint**: array\\[::4\\])"
      ]
    },
    {
      "cell_type": "code",
      "execution_count": null,
      "metadata": {
        "id": "oViGk-jfODZF",
        "colab": {
          "base_uri": "https://localhost:8080/"
        },
        "outputId": "8fa16b8e-0a9e-4881-8763-7ffbfd3b247f"
      },
      "outputs": [
        {
          "output_type": "stream",
          "name": "stdout",
          "text": [
            "Using for loop\n",
            "Added 3 zeros using for loop\n",
            "[(1, 0, 0, 0), (2, 0, 0, 0), (3, 0, 0, 0), (4, 0, 0, 0), 5]\n",
            "Tuple values are added to the list L\n",
            "[1, 0, 0, 0, 2, 0, 0, 0, 3, 0, 0, 0, 4, 0, 0, 0, 5] \n",
            "\n",
            "------------------------------\n",
            "Using slicing method\n",
            "Length of Z :  5 \n",
            "\n",
            "Initialized zero array for the required length\n",
            "Zero Array : \n",
            "[0. 0. 0. 0. 0. 0. 0. 0. 0. 0. 0. 0. 0. 0. 0. 0. 0.] \n",
            "\n",
            "Equated the values of Z for every 4th element\n",
            "[1. 0. 0. 0. 2. 0. 0. 0. 3. 0. 0. 0. 4. 0. 0. 0. 5.]\n"
          ]
        }
      ],
      "source": [
        "print(\"Using for loop\")\n",
        "\n",
        "x=[1,2,3,4,5]\n",
        "\n",
        "for i in range(0,4):\n",
        "  x[i]=i+1,0,0,0\n",
        "\n",
        "print(\"Added 3 zeros using for loop\")\n",
        "print(x)\n",
        "L=[]  #Empty list created here\n",
        "for i in x:\n",
        "   if type(i)!=int:\n",
        "       for j in range(len(i)):\n",
        "          L.append(i[j])\n",
        "   else:\n",
        "       L.append(i)\n",
        "\n",
        "print(\"Tuple values are added to the list L\")\n",
        "print(L,'\\n')\n",
        "print('------------------------------')\n",
        "\n",
        "print(\"Using slicing method\")\n",
        "\n",
        "Z = np.array([1,2,3,4,5])\n",
        "nz = 3 #Number of zeros should be placed between each value in the vector\n",
        "Z_len = len(Z)\n",
        "print(\"Length of Z : \", Z_len,'\\n')\n",
        "\n",
        "Z0 = np.zeros(Z_len + (Z_len-1)*(nz)) #Initializing a Zero vector of size (Length of the vector + the number of zeros between each value)\n",
        "print(\"Initialized zero array for the required length\")\n",
        "print(\"Zero Array : \")\n",
        "print(Z0,'\\n')\n",
        "print(\"Equated the values of Z for every 4th element\")\n",
        "Z0[::nz+1] = Z\n",
        "print(Z0)"
      ]
    },
    {
      "cell_type": "markdown",
      "metadata": {
        "id": "53j76007ODZF"
      },
      "source": [
        "#### 71. Consider an array of dimension (5,5,3), how to mulitply it by an array with dimensions (5,5)? (★★★) \n",
        "(**hint**: array\\[:, :, None\\])"
      ]
    },
    {
      "cell_type": "code",
      "execution_count": null,
      "metadata": {
        "collapsed": true,
        "id": "bV6ffycWODZF",
        "colab": {
          "base_uri": "https://localhost:8080/"
        },
        "outputId": "a5933828-ff54-4903-d07b-364ba2d32095"
      },
      "outputs": [
        {
          "output_type": "stream",
          "name": "stdout",
          "text": [
            "Array A : \n",
            "[[[1. 1. 1.]\n",
            "  [1. 1. 1.]\n",
            "  [1. 1. 1.]\n",
            "  [1. 1. 1.]\n",
            "  [1. 1. 1.]]\n",
            "\n",
            " [[1. 1. 1.]\n",
            "  [1. 1. 1.]\n",
            "  [1. 1. 1.]\n",
            "  [1. 1. 1.]\n",
            "  [1. 1. 1.]]\n",
            "\n",
            " [[1. 1. 1.]\n",
            "  [1. 1. 1.]\n",
            "  [1. 1. 1.]\n",
            "  [1. 1. 1.]\n",
            "  [1. 1. 1.]]\n",
            "\n",
            " [[1. 1. 1.]\n",
            "  [1. 1. 1.]\n",
            "  [1. 1. 1.]\n",
            "  [1. 1. 1.]\n",
            "  [1. 1. 1.]]\n",
            "\n",
            " [[1. 1. 1.]\n",
            "  [1. 1. 1.]\n",
            "  [1. 1. 1.]\n",
            "  [1. 1. 1.]\n",
            "  [1. 1. 1.]]] \n",
            "\n",
            "Array B : \n",
            "[[2. 2. 2. 2. 2.]\n",
            " [2. 2. 2. 2. 2.]\n",
            " [2. 2. 2. 2. 2.]\n",
            " [2. 2. 2. 2. 2.]\n",
            " [2. 2. 2. 2. 2.]] \n",
            "\n",
            "Multiplication between A and B :\n",
            "[[[2. 2. 2.]\n",
            "  [2. 2. 2.]\n",
            "  [2. 2. 2.]\n",
            "  [2. 2. 2.]\n",
            "  [2. 2. 2.]]\n",
            "\n",
            " [[2. 2. 2.]\n",
            "  [2. 2. 2.]\n",
            "  [2. 2. 2.]\n",
            "  [2. 2. 2.]\n",
            "  [2. 2. 2.]]\n",
            "\n",
            " [[2. 2. 2.]\n",
            "  [2. 2. 2.]\n",
            "  [2. 2. 2.]\n",
            "  [2. 2. 2.]\n",
            "  [2. 2. 2.]]\n",
            "\n",
            " [[2. 2. 2.]\n",
            "  [2. 2. 2.]\n",
            "  [2. 2. 2.]\n",
            "  [2. 2. 2.]\n",
            "  [2. 2. 2.]]\n",
            "\n",
            " [[2. 2. 2.]\n",
            "  [2. 2. 2.]\n",
            "  [2. 2. 2.]\n",
            "  [2. 2. 2.]\n",
            "  [2. 2. 2.]]]\n"
          ]
        }
      ],
      "source": [
        "A = np.ones((5,5,3))\n",
        "print(\"Array A : \")\n",
        "print(A,'\\n')\n",
        "\n",
        "B = 2*np.ones((5,5))\n",
        "print(\"Array B : \")\n",
        "print(B,'\\n')\n",
        "\n",
        "print(\"Multiplication between A and B :\")\n",
        "print(A * B[:,:,None])"
      ]
    },
    {
      "cell_type": "markdown",
      "metadata": {
        "id": "K34grwhYODZF"
      },
      "source": [
        "#### 72. How to swap two rows of an array? (★★★) \n",
        "(**hint**: array\\[\\[\\]\\] = array\\[\\[\\]\\])"
      ]
    },
    {
      "cell_type": "code",
      "execution_count": null,
      "metadata": {
        "id": "zmaqlHmkODZF",
        "colab": {
          "base_uri": "https://localhost:8080/"
        },
        "outputId": "54a28abb-fd00-4e72-fa6c-7530efd5547d"
      },
      "outputs": [
        {
          "output_type": "stream",
          "name": "stdout",
          "text": [
            "Array-y\n",
            "[[ 0  1  2  3  4]\n",
            " [ 5  6  7  8  9]\n",
            " [10 11 12 13 14]\n",
            " [15 16 17 18 19]\n",
            " [20 21 22 23 24]] \n",
            "\n",
            "Using index values to swap the first two rows\n",
            "[[ 5  6  7  8  9]\n",
            " [ 0  1  2  3  4]\n",
            " [10 11 12 13 14]\n",
            " [15 16 17 18 19]\n",
            " [20 21 22 23 24]]\n"
          ]
        }
      ],
      "source": [
        "print('Array-y')\n",
        "y=np.arange(25).reshape(5,5)\n",
        "print(y,'\\n')\n",
        "print('Using index values to swap the first two rows')\n",
        "y[[0,1]]=y[[1,0]]\n",
        "print(y)"
      ]
    },
    {
      "cell_type": "markdown",
      "metadata": {
        "id": "E8632eetODZF"
      },
      "source": [
        "#### 73. Consider a set of 10 triplets describing 10 triangles (with shared vertices), find the set of unique line segments composing all the  triangles (★★★) \n",
        "(**hint**: repeat, np.roll, np.sort, view, np.unique)"
      ]
    },
    {
      "cell_type": "code",
      "execution_count": null,
      "metadata": {
        "id": "2NVWohkoODZG",
        "colab": {
          "base_uri": "https://localhost:8080/"
        },
        "outputId": "e616c553-a3ec-4e9e-8331-a3e2cbf5bc99"
      },
      "outputs": [
        {
          "output_type": "stream",
          "name": "stdout",
          "text": [
            "[( 8, 17) ( 8, 42) (10, 52) (10, 72) (12, 27) (12, 37) (12, 46) (12, 97)\n",
            " (14, 47) (14, 71) (17, 42) (17, 81) (17, 91) (20, 23) (20, 51) (20, 64)\n",
            " (20, 65) (20, 68) (20, 74) (23, 74) (27, 97) (37, 46) (47, 71) (51, 68)\n",
            " (52, 72) (61, 86) (61, 89) (64, 65) (81, 91) (86, 89)]\n"
          ]
        }
      ],
      "source": [
        "faces = np.random.randint(0,100,(10,3))\n",
        "F = np.roll(faces.repeat(2,axis=1),-1,axis=1)\n",
        "F = F.reshape(len(F)*3,2)\n",
        "F = np.sort(F,axis=1)\n",
        "G = F.view( dtype=[('p0',F.dtype),('p1',F.dtype)] )\n",
        "G = np.unique(G)\n",
        "print(G)"
      ]
    },
    {
      "cell_type": "markdown",
      "metadata": {
        "id": "Yzuxmka-ODZG"
      },
      "source": [
        "#### 74. Given an array C that is a bincount, how to produce an array A such that np.bincount(A) == C? (★★★) \n",
        "(**hint**: np.repeat)"
      ]
    },
    {
      "cell_type": "code",
      "execution_count": null,
      "metadata": {
        "id": "xJMgBYNiODZG",
        "colab": {
          "base_uri": "https://localhost:8080/"
        },
        "outputId": "3bc471cc-3ef6-4536-fbe0-fa7a84df95cd"
      },
      "outputs": [
        {
          "output_type": "stream",
          "name": "stdout",
          "text": [
            "C-Array\n",
            "[0 2 1 1 2 0 1] \n",
            "\n",
            "Array with the length of C\n",
            "[0 1 2 3 4 5 6] \n",
            "\n",
            "Array A, produced to match C using repeat method\n",
            "[1 1 2 3 4 4 6] \n",
            "\n",
            "np.bincount(A) [0 2 1 1 2 0 1]  =   C  [0 2 1 1 2 0 1]\n"
          ]
        }
      ],
      "source": [
        "print('C-Array')\n",
        "C = np.bincount([1,1,2,3,4,4,6]) \n",
        "print(C,'\\n')\n",
        "print(\"Array with the length of C\")\n",
        "print(np.arange(len(C)),\"\\n\")\n",
        "print(\"Array A, produced to match C using repeat method\")\n",
        "A = np.repeat(np.arange(len(C)), C)\n",
        "print(A,'\\n')\n",
        "print(\"np.bincount(A)\",np.bincount(A),\" = \" , \" C \",C)"
      ]
    },
    {
      "cell_type": "markdown",
      "metadata": {
        "id": "BXQMUgDEODZG"
      },
      "source": [
        "#### 75. How to compute averages using a sliding window over an array? (★★★) \n",
        "(**hint**: np.cumsum)"
      ]
    },
    {
      "cell_type": "code",
      "execution_count": null,
      "metadata": {
        "id": "Ivaa7n1uODZG",
        "colab": {
          "base_uri": "https://localhost:8080/"
        },
        "outputId": "a91c9907-0cde-4ee4-c89d-0669b8916a39"
      },
      "outputs": [
        {
          "output_type": "stream",
          "name": "stdout",
          "text": [
            "Array Z\n",
            "[0 1 2 3 4 5 6 7 8 9] \n",
            "\n",
            "cumulative summation\n",
            "[ 0.  1.  3.  6. 10. 15. 21. 28. 36. 45.] \n",
            "\n",
            "Array after moving average\n",
            "[0.5 1.5 2.5 3.5 4.5 5.5 6.5 7.5 8.5] \n",
            "\n",
            "--------------------------------------\n",
            "Another Method\n",
            "Using sliding_window_view\n",
            "[0.5 1.5 2.5 3.5 4.5 5.5 6.5 7.5 8.5]\n"
          ]
        }
      ],
      "source": [
        "def avg(a, n=2) :\n",
        "    ret = np.cumsum(a, dtype=float)\n",
        "    print(\"cumulative summation\")\n",
        "    print(ret,'\\n')\n",
        "    ret[n:] = ret[n:] - ret[:-n]\n",
        "    print('Array after moving average')\n",
        "    return ret[n - 1:] / n\n",
        "   \n",
        "Z = np.arange(10)\n",
        "print(\"Array Z\")\n",
        "print(Z,'\\n')\n",
        "print(avg(Z, n=2),'\\n')\n",
        "print('--------------------------------------')\n",
        "\n",
        "print(\"Another Method\")\n",
        "print('Using sliding_window_view')\n",
        "from numpy.lib.stride_tricks import sliding_window_view\n",
        "x=np.arange(10)\n",
        "print(sliding_window_view(x,window_shape=2).mean(axis=-1))\n"
      ]
    },
    {
      "cell_type": "markdown",
      "metadata": {
        "id": "cOPtuh0mODZG"
      },
      "source": [
        "#### 76. Consider a one-dimensional array Z, build a two-dimensional array whose first row is (Z\\[0\\],Z\\[1\\],Z\\[2\\]) and each subsequent row is  shifted by 1 (last row should be (Z\\[-3\\],Z\\[-2\\],Z\\[-1\\]) (★★★) \n",
        "(**hint**: from numpy.lib import stride_tricks)"
      ]
    },
    {
      "cell_type": "code",
      "execution_count": null,
      "metadata": {
        "id": "c3sxt8aPODZG",
        "colab": {
          "base_uri": "https://localhost:8080/"
        },
        "outputId": "e7c0eb58-fcfb-47bd-bfad-d0df9145b458"
      },
      "outputs": [
        {
          "output_type": "stream",
          "name": "stdout",
          "text": [
            "[0 1 2 3 4 5 6 7 8 9]\n",
            "[[0 1 2]\n",
            " [1 2 3]\n",
            " [2 3 4]\n",
            " [3 4 5]\n",
            " [4 5 6]\n",
            " [5 6 7]\n",
            " [6 7 8]\n",
            " [7 8 9]]\n"
          ]
        }
      ],
      "source": [
        "from numpy.lib import stride_tricks\n",
        "from numpy.lib.stride_tricks import sliding_window_view\n",
        "\n",
        "x=np.arange(10)\n",
        "print(x)\n",
        "print(sliding_window_view(x,window_shape=3))"
      ]
    },
    {
      "cell_type": "markdown",
      "metadata": {
        "id": "on1SGrt-ODZG"
      },
      "source": [
        "#### 77. How to negate a boolean, or to change the sign of a float inplace? (★★★) \n",
        "(**hint**: np.logical_not, np.negative)"
      ]
    },
    {
      "cell_type": "code",
      "execution_count": null,
      "metadata": {
        "id": "pwpA0NhZODZH",
        "colab": {
          "base_uri": "https://localhost:8080/"
        },
        "outputId": "01aebef7-9eb6-444d-f7f5-cf4b6d66f710"
      },
      "outputs": [
        {
          "output_type": "stream",
          "name": "stdout",
          "text": [
            "Z- Random Array with size 10\n",
            "[1 1 0 0 1 0 1 1 1 0] \n",
            "\n",
            "Negate the Boolean using np.logical_not\n",
            "[0 0 1 1 0 1 0 0 0 1] \n",
            "\n",
            "----------------------------\n",
            "x-Random Array with size 10\n",
            "[-0.3404951  -0.52318616 -0.60557592  0.30443308 -0.80857901 -0.91612931\n",
            "  0.77420394 -0.79124905 -0.93098118  0.76467883] \n",
            "\n",
            "Changing the sign using np.negative\n",
            "[ 0.3404951   0.52318616  0.60557592 -0.30443308  0.80857901  0.91612931\n",
            " -0.77420394  0.79124905  0.93098118 -0.76467883]\n"
          ]
        }
      ],
      "source": [
        "Z = np.random.randint(0,2,10)\n",
        "print(\"Z- Random Array with size 10\")\n",
        "print(Z,'\\n')\n",
        "print(\"Negate the Boolean using np.logical_not\")\n",
        "print(np.logical_not(Z, out=Z),'\\n')\n",
        "print(\"----------------------------\")\n",
        "\n",
        "x = np.random.uniform(-1.0,1.0,10)\n",
        "print(\"x-Random Array with size 10\")\n",
        "print(x,'\\n')\n",
        "print(\"Changing the sign using np.negative\")\n",
        "print(np.negative(x, out=x))"
      ]
    },
    {
      "cell_type": "markdown",
      "metadata": {
        "id": "zvg3jfAuODZH"
      },
      "source": [
        "#### 78. Consider 2 sets of points P0,P1 describing lines (2d) and a point p, how to compute distance from p to each line i  (P0\\[i\\],P1\\[i\\])? (★★★)"
      ]
    },
    {
      "cell_type": "code",
      "execution_count": null,
      "metadata": {
        "id": "0cItNkK5ODZH",
        "colab": {
          "base_uri": "https://localhost:8080/"
        },
        "outputId": "958cbc6b-f071-48b3-d2c3-fbb415527c81"
      },
      "outputs": [
        {
          "output_type": "stream",
          "name": "stdout",
          "text": [
            "Point P0\n",
            "[[-6.41713064  5.34168437]\n",
            " [ 8.32090282  6.52233652]\n",
            " [-5.7612222  -6.89389881]]\n",
            "-----------------------------\n",
            "Point P1\n",
            "[[-5.677229   -1.62169363]\n",
            " [ 7.10883078  1.45262225]\n",
            " [ 2.15099899  0.03891797]]\n",
            "-----------------------------\n",
            "Point p\n",
            "[[-6.73129287  2.0255158 ]]\n",
            "------------------------------\n",
            "Distance Result\n",
            "[ 0.6627944  13.59397642  7.34779692]\n"
          ]
        }
      ],
      "source": [
        "def distance(P0, P1, p):\n",
        "    T = P1 - P0\n",
        "    L = (T**2).sum(axis=1)\n",
        "    U = -((P0[:,0]-p[...,0])*T[:,0] + (P0[:,1]-p[...,1])*T[:,1]) / L\n",
        "    U = U.reshape(len(U),1)\n",
        "    D = P0 + U*T - p\n",
        "    return np.sqrt((D**2).sum(axis=1))\n",
        "\n",
        "P0 = np.random.uniform(-10,10,(3,2))\n",
        "print(\"Point P0\")\n",
        "print(P0)\n",
        "print(\"-----------------------------\")\n",
        "P1 = np.random.uniform(-10,10,(3,2))\n",
        "print(\"Point P1\")\n",
        "print(P1)\n",
        "print(\"-----------------------------\")\n",
        "p = np.random.uniform(-10,10,( 1,2))\n",
        "print(\"Point p\")\n",
        "print(p)\n",
        "print(\"------------------------------\")\n",
        "distance_result = distance(P0, P1, p)\n",
        "print(\"Distance Result\")\n",
        "print(distance_result)"
      ]
    },
    {
      "cell_type": "markdown",
      "metadata": {
        "id": "EbQBMdR-ODZH"
      },
      "source": [
        "#### 79. Consider 2 sets of points P0,P1 describing lines (2d) and a set of points P, how to compute distance from each point j (P\\[j\\]) to each line i (P0\\[i\\],P1\\[i\\])? (★★★)"
      ]
    },
    {
      "cell_type": "code",
      "execution_count": null,
      "metadata": {
        "id": "SK-tjhR7ODZH",
        "colab": {
          "base_uri": "https://localhost:8080/"
        },
        "outputId": "e07cc131-22ac-43cf-c314-12371e167317"
      },
      "outputs": [
        {
          "output_type": "stream",
          "name": "stdout",
          "text": [
            "Point P0\n",
            "[[-4.12587942e-01 -6.85082585e+00]\n",
            " [-4.50222212e+00 -7.33243234e+00]\n",
            " [ 1.50858168e-03 -9.36255680e+00]]\n",
            "--------------------------------\n",
            "Point P1\n",
            "[[ 9.71638369  4.73769351]\n",
            " [-3.61376614 -7.99623315]\n",
            " [ 8.46223841  0.35503646]]\n",
            "---------------------------------\n",
            "[[ 6.87393007  0.57840969  8.8431597 ]\n",
            " [ 8.07601311 13.79440781 10.01765855]\n",
            " [ 3.75206785  7.41294018  1.79982407]]\n"
          ]
        }
      ],
      "source": [
        "P0 = np.random.uniform(-10, 10,(3,2))\n",
        "print(\"Point P0\")\n",
        "print(P0)\n",
        "print(\"--------------------------------\")\n",
        "P1 = np.random.uniform(-10,10,(3,2))\n",
        "print(\"Point P1\")\n",
        "print(P1)\n",
        "print(\"---------------------------------\")\n",
        "p = np.random.uniform(-10, 10,(3,2))\n",
        "print(np.array([distance(P0,P1,p_i) for p_i in p]))"
      ]
    },
    {
      "cell_type": "markdown",
      "metadata": {
        "id": "9B-dUG1oODZH"
      },
      "source": [
        "#### 80. Consider an arbitrary array, write a function that extract a subpart with a fixed shape and centered on a given element (pad with a `fill` value when necessary) (★★★) \n",
        "(**hint**: minimum, maximum)"
      ]
    },
    {
      "cell_type": "code",
      "execution_count": null,
      "metadata": {
        "id": "bVIn8W13ODZI",
        "colab": {
          "base_uri": "https://localhost:8080/"
        },
        "outputId": "398457c2-181b-4482-f1a2-57bed2d396b8"
      },
      "outputs": [
        {
          "output_type": "stream",
          "name": "stdout",
          "text": [
            "[[2 1 9 3 9 5 1 3 7 2]\n",
            " [6 2 9 4 3 1 0 7 8 1]\n",
            " [0 7 0 6 1 2 2 1 3 7]\n",
            " [4 9 9 4 5 7 6 3 2 7]\n",
            " [9 8 4 2 0 3 2 7 4 1]\n",
            " [8 1 4 0 6 1 0 6 1 0]\n",
            " [0 3 7 0 2 7 4 4 0 0]\n",
            " [6 8 6 7 6 4 1 4 7 3]\n",
            " [7 0 6 6 2 3 0 9 2 9]\n",
            " [8 4 4 8 9 1 2 5 6 8]]\n",
            "[[0 0 0 0 0]\n",
            " [0 2 1 9 3]\n",
            " [0 6 2 9 4]\n",
            " [0 0 7 0 6]\n",
            " [0 4 9 9 4]]\n"
          ]
        },
        {
          "output_type": "stream",
          "name": "stderr",
          "text": [
            "/usr/local/lib/python3.7/dist-packages/ipykernel_launcher.py:23: FutureWarning: Using a non-tuple sequence for multidimensional indexing is deprecated; use `arr[tuple(seq)]` instead of `arr[seq]`. In the future this will be interpreted as an array index, `arr[np.array(seq)]`, which will result either in an error or a different result.\n"
          ]
        }
      ],
      "source": [
        "Z = np.random.randint(0,10,(10,10))\n",
        "shape = (5,5)\n",
        "fill  = 0\n",
        "position = (1,1)\n",
        "\n",
        "R = np.ones(shape, dtype=Z.dtype)*fill\n",
        "P  = np.array(list(position)).astype(int)\n",
        "Rs = np.array(list(R.shape)).astype(int)\n",
        "Zs = np.array(list(Z.shape)).astype(int)\n",
        "\n",
        "R_start = np.zeros((len(shape),)).astype(int)\n",
        "R_stop  = np.array(list(shape)).astype(int)\n",
        "Z_start = (P-Rs//2)\n",
        "Z_stop  = (P+Rs//2)+Rs%2\n",
        "\n",
        "R_start = (R_start - np.minimum(Z_start,0)).tolist()\n",
        "Z_start = (np.maximum(Z_start,0)).tolist()\n",
        "R_stop = np.maximum(R_start, (R_stop - np.maximum(Z_stop-Zs,0))).tolist()\n",
        "Z_stop = (np.minimum(Z_stop,Zs)).tolist()\n",
        "\n",
        "r = [slice(start,stop) for start,stop in zip(R_start,R_stop)]\n",
        "z = [slice(start,stop) for start,stop in zip(Z_start,Z_stop)]\n",
        "R[r] = Z[z]\n",
        "print(Z)\n",
        "print(R)"
      ]
    },
    {
      "cell_type": "markdown",
      "metadata": {
        "id": "KVotQ1tHODZI"
      },
      "source": [
        "#### 81. Consider an array Z = \\[1,2,3,4,5,6,7,8,9,10,11,12,13,14\\], how to generate an array R = \\[\\[1,2,3,4\\], \\[2,3,4,5\\], \\[3,4,5,6\\], ..., \\[11,12,13,14\\]\\]? (★★★) \n",
        "(**hint**: stride\\_tricks.as\\_strided)"
      ]
    },
    {
      "cell_type": "code",
      "execution_count": null,
      "metadata": {
        "id": "_4En0scYODZI",
        "colab": {
          "base_uri": "https://localhost:8080/"
        },
        "outputId": "5ee98ed1-1fbd-4370-bff3-eaf817e73359"
      },
      "outputs": [
        {
          "output_type": "stream",
          "name": "stdout",
          "text": [
            "Initialized Array : \n",
            "[ 1  2  3  4  5  6  7  8  9 10 11 12 13 14]\n",
            "-----------------------------------------\n",
            "The result after applying Strides : \n",
            "[[ 1  2  3  4]\n",
            " [ 2  3  4  5]\n",
            " [ 3  4  5  6]\n",
            " [ 4  5  6  7]\n",
            " [ 5  6  7  8]\n",
            " [ 6  7  8  9]\n",
            " [ 7  8  9 10]\n",
            " [ 8  9 10 11]\n",
            " [ 9 10 11 12]\n",
            " [10 11 12 13]\n",
            " [11 12 13 14]]\n"
          ]
        }
      ],
      "source": [
        "from numpy.lib import stride_tricks\n",
        "from numpy.lib.stride_tricks import sliding_window_view\n",
        "\n",
        "Z = np.arange(1,15,dtype=np.int32)\n",
        "print(\"Initialized Array : \")\n",
        "print(Z)\n",
        "print(\"-----------------------------------------\")\n",
        "R = stride_tricks.as_strided(Z,(11,4),(4,4))\n",
        "print(\"The result after applying Strides : \")\n",
        "print(R)"
      ]
    },
    {
      "cell_type": "markdown",
      "metadata": {
        "id": "v10FHuiiODZI"
      },
      "source": [
        "#### 82. Compute a matrix rank (★★★) \n",
        "(**hint**: np.linalg.svd) (suggestion: np.linalg.svd)"
      ]
    },
    {
      "cell_type": "code",
      "execution_count": null,
      "metadata": {
        "id": "xyrRGm9OODZI",
        "colab": {
          "base_uri": "https://localhost:8080/"
        },
        "outputId": "d567c676-3f9a-429a-9ff3-47d3484dd4cf"
      },
      "outputs": [
        {
          "output_type": "stream",
          "name": "stdout",
          "text": [
            "Random array - Z \n",
            "[[0.7129101  0.42083812 0.98983792]\n",
            " [0.12010281 0.22715104 0.87017638]\n",
            " [0.71608892 0.72779263 0.65913865]] \n",
            "\n",
            "Rank using np.linalg.svd\n",
            "3\n",
            "-----------------------\n",
            "Rank using np.linalg.matrix_rank\n",
            "3\n"
          ]
        }
      ],
      "source": [
        "print(\"Random array - Z \")\n",
        "print(Z,'\\n')\n",
        "Z = np.random.uniform(0,1,(3,3))\n",
        "U, S, V = np.linalg.svd(Z)\n",
        "rank = np.sum(S > 1e-10)\n",
        "print(\"Rank using np.linalg.svd\")\n",
        "print(rank)\n",
        "\n",
        "print(\"-----------------------\")\n",
        "\n",
        "rank = np.linalg.matrix_rank(Z)\n",
        "print(\"Rank using np.linalg.matrix_rank\")\n",
        "print(rank)"
      ]
    },
    {
      "cell_type": "markdown",
      "metadata": {
        "id": "RqEfo7fWODZI"
      },
      "source": [
        "#### 83. How to find the most frequent value in an array? \n",
        "(**hint**: np.bincount, argmax)"
      ]
    },
    {
      "cell_type": "code",
      "execution_count": null,
      "metadata": {
        "id": "mdQRs5ABODZJ",
        "colab": {
          "base_uri": "https://localhost:8080/"
        },
        "outputId": "9ad8afbb-a9a4-4d39-c401-27911b235c51"
      },
      "outputs": [
        {
          "output_type": "stream",
          "name": "stdout",
          "text": [
            "Initialized Array : \n",
            "[1 9 7 0 0 0 4 8 9 9 2 1 5 0 2 6 3 1 7 5 1 5 6 8 2 8 0 5 3 7 3 4 1 8 4 0 8\n",
            " 6 8 4 7 0 1 1 2 5 1 3 5 3]\n",
            "--------------------------------\n",
            "Most frequent value in the array\n",
            "1\n"
          ]
        }
      ],
      "source": [
        "Z = np.random.randint(0,10,50)\n",
        "print(\"Initialized Array : \")\n",
        "print(Z)\n",
        "print(\"--------------------------------\")\n",
        "frequent_value = np.bincount(Z).argmax()\n",
        "print(\"Most frequent value in the array\")\n",
        "print(frequent_value)"
      ]
    },
    {
      "cell_type": "markdown",
      "metadata": {
        "id": "n9hI8ot7ODZJ"
      },
      "source": [
        "#### 84. Extract all the contiguous 3x3 blocks from a random 10x10 matrix (★★★) \n",
        "(**hint**: stride\\_tricks.as\\_strided)"
      ]
    },
    {
      "cell_type": "code",
      "execution_count": null,
      "metadata": {
        "id": "O9a91q5XODZJ",
        "colab": {
          "base_uri": "https://localhost:8080/"
        },
        "outputId": "56c2a2b5-55d4-4b05-fb90-1e64dcbf6234"
      },
      "outputs": [
        {
          "output_type": "stream",
          "name": "stdout",
          "text": [
            "Initialized Array : \n",
            "[[3 3 2 2 1 3 1 2 1 0]\n",
            " [2 2 3 2 2 4 4 3 3 1]\n",
            " [1 2 3 2 1 0 0 2 4 4]\n",
            " [2 4 0 1 2 3 4 1 0 4]\n",
            " [1 4 3 4 0 4 4 0 2 4]\n",
            " [0 0 2 0 3 2 4 4 0 1]\n",
            " [1 2 2 1 2 0 0 0 4 4]\n",
            " [4 4 3 4 1 4 0 1 3 2]\n",
            " [0 2 0 1 4 1 2 3 4 1]\n",
            " [2 2 0 3 3 0 3 1 3 1]]\n",
            "-------------------------\n",
            "[[[[3 3 2]\n",
            "   [2 2 3]\n",
            "   [1 2 3]]\n",
            "\n",
            "  [[3 2 2]\n",
            "   [2 3 2]\n",
            "   [2 3 2]]\n",
            "\n",
            "  [[2 2 1]\n",
            "   [3 2 2]\n",
            "   [3 2 1]]\n",
            "\n",
            "  [[2 1 3]\n",
            "   [2 2 4]\n",
            "   [2 1 0]]\n",
            "\n",
            "  [[1 3 1]\n",
            "   [2 4 4]\n",
            "   [1 0 0]]\n",
            "\n",
            "  [[3 1 2]\n",
            "   [4 4 3]\n",
            "   [0 0 2]]\n",
            "\n",
            "  [[1 2 1]\n",
            "   [4 3 3]\n",
            "   [0 2 4]]\n",
            "\n",
            "  [[2 1 0]\n",
            "   [3 3 1]\n",
            "   [2 4 4]]]\n",
            "\n",
            "\n",
            " [[[2 2 3]\n",
            "   [1 2 3]\n",
            "   [2 4 0]]\n",
            "\n",
            "  [[2 3 2]\n",
            "   [2 3 2]\n",
            "   [4 0 1]]\n",
            "\n",
            "  [[3 2 2]\n",
            "   [3 2 1]\n",
            "   [0 1 2]]\n",
            "\n",
            "  [[2 2 4]\n",
            "   [2 1 0]\n",
            "   [1 2 3]]\n",
            "\n",
            "  [[2 4 4]\n",
            "   [1 0 0]\n",
            "   [2 3 4]]\n",
            "\n",
            "  [[4 4 3]\n",
            "   [0 0 2]\n",
            "   [3 4 1]]\n",
            "\n",
            "  [[4 3 3]\n",
            "   [0 2 4]\n",
            "   [4 1 0]]\n",
            "\n",
            "  [[3 3 1]\n",
            "   [2 4 4]\n",
            "   [1 0 4]]]\n",
            "\n",
            "\n",
            " [[[1 2 3]\n",
            "   [2 4 0]\n",
            "   [1 4 3]]\n",
            "\n",
            "  [[2 3 2]\n",
            "   [4 0 1]\n",
            "   [4 3 4]]\n",
            "\n",
            "  [[3 2 1]\n",
            "   [0 1 2]\n",
            "   [3 4 0]]\n",
            "\n",
            "  [[2 1 0]\n",
            "   [1 2 3]\n",
            "   [4 0 4]]\n",
            "\n",
            "  [[1 0 0]\n",
            "   [2 3 4]\n",
            "   [0 4 4]]\n",
            "\n",
            "  [[0 0 2]\n",
            "   [3 4 1]\n",
            "   [4 4 0]]\n",
            "\n",
            "  [[0 2 4]\n",
            "   [4 1 0]\n",
            "   [4 0 2]]\n",
            "\n",
            "  [[2 4 4]\n",
            "   [1 0 4]\n",
            "   [0 2 4]]]\n",
            "\n",
            "\n",
            " [[[2 4 0]\n",
            "   [1 4 3]\n",
            "   [0 0 2]]\n",
            "\n",
            "  [[4 0 1]\n",
            "   [4 3 4]\n",
            "   [0 2 0]]\n",
            "\n",
            "  [[0 1 2]\n",
            "   [3 4 0]\n",
            "   [2 0 3]]\n",
            "\n",
            "  [[1 2 3]\n",
            "   [4 0 4]\n",
            "   [0 3 2]]\n",
            "\n",
            "  [[2 3 4]\n",
            "   [0 4 4]\n",
            "   [3 2 4]]\n",
            "\n",
            "  [[3 4 1]\n",
            "   [4 4 0]\n",
            "   [2 4 4]]\n",
            "\n",
            "  [[4 1 0]\n",
            "   [4 0 2]\n",
            "   [4 4 0]]\n",
            "\n",
            "  [[1 0 4]\n",
            "   [0 2 4]\n",
            "   [4 0 1]]]\n",
            "\n",
            "\n",
            " [[[1 4 3]\n",
            "   [0 0 2]\n",
            "   [1 2 2]]\n",
            "\n",
            "  [[4 3 4]\n",
            "   [0 2 0]\n",
            "   [2 2 1]]\n",
            "\n",
            "  [[3 4 0]\n",
            "   [2 0 3]\n",
            "   [2 1 2]]\n",
            "\n",
            "  [[4 0 4]\n",
            "   [0 3 2]\n",
            "   [1 2 0]]\n",
            "\n",
            "  [[0 4 4]\n",
            "   [3 2 4]\n",
            "   [2 0 0]]\n",
            "\n",
            "  [[4 4 0]\n",
            "   [2 4 4]\n",
            "   [0 0 0]]\n",
            "\n",
            "  [[4 0 2]\n",
            "   [4 4 0]\n",
            "   [0 0 4]]\n",
            "\n",
            "  [[0 2 4]\n",
            "   [4 0 1]\n",
            "   [0 4 4]]]\n",
            "\n",
            "\n",
            " [[[0 0 2]\n",
            "   [1 2 2]\n",
            "   [4 4 3]]\n",
            "\n",
            "  [[0 2 0]\n",
            "   [2 2 1]\n",
            "   [4 3 4]]\n",
            "\n",
            "  [[2 0 3]\n",
            "   [2 1 2]\n",
            "   [3 4 1]]\n",
            "\n",
            "  [[0 3 2]\n",
            "   [1 2 0]\n",
            "   [4 1 4]]\n",
            "\n",
            "  [[3 2 4]\n",
            "   [2 0 0]\n",
            "   [1 4 0]]\n",
            "\n",
            "  [[2 4 4]\n",
            "   [0 0 0]\n",
            "   [4 0 1]]\n",
            "\n",
            "  [[4 4 0]\n",
            "   [0 0 4]\n",
            "   [0 1 3]]\n",
            "\n",
            "  [[4 0 1]\n",
            "   [0 4 4]\n",
            "   [1 3 2]]]\n",
            "\n",
            "\n",
            " [[[1 2 2]\n",
            "   [4 4 3]\n",
            "   [0 2 0]]\n",
            "\n",
            "  [[2 2 1]\n",
            "   [4 3 4]\n",
            "   [2 0 1]]\n",
            "\n",
            "  [[2 1 2]\n",
            "   [3 4 1]\n",
            "   [0 1 4]]\n",
            "\n",
            "  [[1 2 0]\n",
            "   [4 1 4]\n",
            "   [1 4 1]]\n",
            "\n",
            "  [[2 0 0]\n",
            "   [1 4 0]\n",
            "   [4 1 2]]\n",
            "\n",
            "  [[0 0 0]\n",
            "   [4 0 1]\n",
            "   [1 2 3]]\n",
            "\n",
            "  [[0 0 4]\n",
            "   [0 1 3]\n",
            "   [2 3 4]]\n",
            "\n",
            "  [[0 4 4]\n",
            "   [1 3 2]\n",
            "   [3 4 1]]]\n",
            "\n",
            "\n",
            " [[[4 4 3]\n",
            "   [0 2 0]\n",
            "   [2 2 0]]\n",
            "\n",
            "  [[4 3 4]\n",
            "   [2 0 1]\n",
            "   [2 0 3]]\n",
            "\n",
            "  [[3 4 1]\n",
            "   [0 1 4]\n",
            "   [0 3 3]]\n",
            "\n",
            "  [[4 1 4]\n",
            "   [1 4 1]\n",
            "   [3 3 0]]\n",
            "\n",
            "  [[1 4 0]\n",
            "   [4 1 2]\n",
            "   [3 0 3]]\n",
            "\n",
            "  [[4 0 1]\n",
            "   [1 2 3]\n",
            "   [0 3 1]]\n",
            "\n",
            "  [[0 1 3]\n",
            "   [2 3 4]\n",
            "   [3 1 3]]\n",
            "\n",
            "  [[1 3 2]\n",
            "   [3 4 1]\n",
            "   [1 3 1]]]]\n"
          ]
        }
      ],
      "source": [
        "Z = np.random.randint(0,5,(10,10))\n",
        "print(\"Initialized Array : \")\n",
        "print(Z)\n",
        "print(\"-------------------------\")\n",
        "print(sliding_window_view(Z, window_shape=(3, 3)))"
      ]
    },
    {
      "cell_type": "markdown",
      "metadata": {
        "id": "yt15OwHEODZJ"
      },
      "source": [
        "#### 85. Create a 2D array subclass such that Z\\[i,j\\] == Z\\[j,i\\] (★★★) \n",
        "(**hint**: class method)"
      ]
    },
    {
      "cell_type": "code",
      "execution_count": null,
      "metadata": {
        "id": "_R-lq_ZaODZJ",
        "colab": {
          "base_uri": "https://localhost:8080/"
        },
        "outputId": "dc0a4ad1-a77c-4e34-b4ad-7c6754b3f228"
      },
      "outputs": [
        {
          "output_type": "stream",
          "name": "stdout",
          "text": [
            "Symmetric random matrix 3x3 is created\n",
            "[[ 1 12 14]\n",
            " [12  0 12]\n",
            " [14 12  6]] \n",
            "\n",
            "changing the element of index value(1,2) and (2,1) to 1000\n",
            "[[   1   12   14]\n",
            " [  12    0 1000]\n",
            " [  14 1000    6]]\n"
          ]
        }
      ],
      "source": [
        "class Symetric(np.ndarray):\n",
        "    def __setitem__(self, index, value):\n",
        "        i,j = index\n",
        "        super(Symetric, self).__setitem__((i,j), value)\n",
        "        super(Symetric, self).__setitem__((j,i), value)\n",
        "\n",
        "def symetric(Z):\n",
        "    return np.asarray(Z + Z.T - np.diag(Z.diagonal())).view(Symetric)\n",
        "\n",
        "print(\"Symmetric random matrix 3x3 is created\")\n",
        "S = symetric(np.random.randint(0,10,(3,3)))\n",
        "print(S,\"\\n\")\n",
        "print(\"changing the element of index value(1,2) and (2,1) to 1000\")\n",
        "S[1,2] = 1000\n",
        "print(S)"
      ]
    },
    {
      "cell_type": "markdown",
      "metadata": {
        "id": "8nmHMX2yODZJ"
      },
      "source": [
        "#### 86. Consider a set of p matrices wich shape (n,n) and a set of p vectors with shape (n,1). How to compute the sum of of the p matrix products at once? (result has shape (n,1)) (★★★) \n",
        "(**hint**: np.tensordot)"
      ]
    },
    {
      "cell_type": "code",
      "execution_count": null,
      "metadata": {
        "id": "AR-4KDURODZJ",
        "colab": {
          "base_uri": "https://localhost:8080/"
        },
        "outputId": "dac52918-995a-4aa3-afd2-2aacf8954cff"
      },
      "outputs": [
        {
          "output_type": "stream",
          "name": "stdout",
          "text": [
            "Value of p=2 \n",
            "Value of n=3 \n",
            "\n",
            "M-Array\n",
            "[[[1. 1. 1.]\n",
            "  [1. 1. 1.]\n",
            "  [1. 1. 1.]]\n",
            "\n",
            " [[1. 1. 1.]\n",
            "  [1. 1. 1.]\n",
            "  [1. 1. 1.]]] \n",
            "\n",
            "V-Array\n",
            "[[[1.]\n",
            "  [1.]\n",
            "  [1.]]\n",
            "\n",
            " [[1.]\n",
            "  [1.]\n",
            "  [1.]]] \n",
            "\n",
            "S-Array\n",
            "[[6.]\n",
            " [6.]\n",
            " [6.]]\n"
          ]
        }
      ],
      "source": [
        "print(\"Value of p=2 \\nValue of n=3 \\n\")\n",
        "p, n = 2, 3\n",
        "M = np.ones((p,n,n))\n",
        "print(\"M-Array\")\n",
        "print(M,'\\n')\n",
        "V = np.ones((p,n,1))\n",
        "print(\"V-Array\")\n",
        "print(V,\"\\n\")\n",
        "S = np.tensordot(M, V, axes=[[0, 2], [0, 1]])\n",
        "print(\"S-Array\")\n",
        "print(S)"
      ]
    },
    {
      "cell_type": "markdown",
      "metadata": {
        "id": "1ov-ZbkPODZJ"
      },
      "source": [
        "#### 87. Consider a 16x16 array, how to get the block-sum (block size is 4x4)? (★★★) \n",
        "(**hint**: np.add.reduceat)"
      ]
    },
    {
      "cell_type": "code",
      "execution_count": null,
      "metadata": {
        "id": "oNpXHCm2ODZJ",
        "colab": {
          "base_uri": "https://localhost:8080/"
        },
        "outputId": "8edbd2b5-b943-4e62-ff36-96a93d83f445"
      },
      "outputs": [
        {
          "output_type": "stream",
          "name": "stdout",
          "text": [
            "Z-Random Array\n",
            "[[7 4 2 3 6 3 3 3 8 3 1 3 9 5 9 3]\n",
            " [6 7 1 3 9 5 4 1 1 8 9 9 7 5 3 5]\n",
            " [4 5 2 6 9 1 5 2 8 2 2 2 1 2 7 6]\n",
            " [3 1 6 8 9 6 8 6 5 3 3 7 2 5 6 2]\n",
            " [4 4 2 7 1 7 8 4 5 6 3 8 8 5 6 2]\n",
            " [1 8 5 7 4 2 9 6 1 5 4 8 6 1 8 9]\n",
            " [7 8 2 9 1 4 4 9 3 4 5 1 1 6 6 5]\n",
            " [7 4 1 7 3 5 8 6 7 7 2 5 2 9 2 6]\n",
            " [2 2 9 4 1 3 7 7 4 7 3 4 4 4 5 6]\n",
            " [7 5 2 2 9 4 8 6 3 5 8 7 8 9 7 3]\n",
            " [3 1 4 9 6 5 1 8 8 3 6 5 8 5 1 9]\n",
            " [9 2 5 2 3 5 5 8 5 1 7 2 8 1 1 9]\n",
            " [2 5 6 4 4 3 7 1 1 2 3 8 4 8 4 9]\n",
            " [7 2 6 3 6 1 8 5 6 1 1 9 1 3 5 3]\n",
            " [8 7 2 6 4 9 3 6 4 6 3 1 4 1 5 3]\n",
            " [3 6 9 1 8 1 3 8 1 9 7 2 6 6 8 9]]\n",
            "Using np.add.reduceat\n",
            "[[68 80 74 77]\n",
            " [83 81 74 82]\n",
            " [68 86 78 88]\n",
            " [77 77 64 79]]\n"
          ]
        }
      ],
      "source": [
        "Z = np.random.randint(1,10,(16,16))\n",
        "print(\"Z-Random Array\")\n",
        "print(Z)\n",
        "k = 4\n",
        "print(\"Using np.add.reduceat\")\n",
        "S = np.add.reduceat(np.add.reduceat(Z, np.arange(0, Z.shape[0], k), axis=0),\n",
        "                                       np.arange(0, Z.shape[1], k), axis=1)\n",
        "print(S)"
      ]
    },
    {
      "cell_type": "markdown",
      "metadata": {
        "id": "DX4FHBuqODZJ"
      },
      "source": [
        "#### 88. How to implement the Game of Life using numpy arrays? (★★★)"
      ]
    },
    {
      "cell_type": "code",
      "execution_count": null,
      "metadata": {
        "id": "M4FNzRqqODZJ",
        "colab": {
          "base_uri": "https://localhost:8080/"
        },
        "outputId": "cf6fd8ef-d4a3-4efe-9040-7a75123032da"
      },
      "outputs": [
        {
          "output_type": "stream",
          "name": "stdout",
          "text": [
            "[[0 0 0 ... 0 0 0]\n",
            " [0 0 0 ... 0 0 0]\n",
            " [0 0 0 ... 0 0 0]\n",
            " ...\n",
            " [0 0 0 ... 0 0 0]\n",
            " [0 0 0 ... 0 0 0]\n",
            " [0 0 0 ... 0 0 0]]\n"
          ]
        }
      ],
      "source": [
        "def iterate(Z):\n",
        "    # Count neighbours\n",
        "    N = (Z[0:-2,0:-2] + Z[0:-2,1:-1] + Z[0:-2,2:] +\n",
        "         Z[1:-1,0:-2]                + Z[1:-1,2:] +\n",
        "         Z[2:  ,0:-2] + Z[2:  ,1:-1] + Z[2:  ,2:])\n",
        "\n",
        "    # Apply rules\n",
        "    birth = (N==3) & (Z[1:-1,1:-1]==0)\n",
        "    survive = ((N==2) | (N==3)) & (Z[1:-1,1:-1]==1)\n",
        "    Z[...] = 0\n",
        "    Z[1:-1,1:-1][birth | survive] = 1\n",
        "    return Z\n",
        "\n",
        "Z = np.random.randint(0,2,(50,50))\n",
        "for i in range(100): Z = iterate(Z)\n",
        "print(Z)"
      ]
    },
    {
      "cell_type": "markdown",
      "metadata": {
        "id": "Z6dqfw7aODZJ"
      },
      "source": [
        "#### 89. How to get the n largest values of an array (★★★) \n",
        "(**hint**: np.argsort | np.argpartition)"
      ]
    },
    {
      "cell_type": "code",
      "execution_count": null,
      "metadata": {
        "id": "U9x47F37ODZJ",
        "colab": {
          "base_uri": "https://localhost:8080/"
        },
        "outputId": "483950a0-7698-4d4c-ce7f-5aedeaed75c5"
      },
      "outputs": [
        {
          "output_type": "stream",
          "name": "stdout",
          "text": [
            "Z-Array\n",
            "Z- An array from the range 1-100\n",
            "[  1   2   3   4   5   6   7   8   9  10  11  12  13  14  15  16  17  18\n",
            "  19  20  21  22  23  24  25  26  27  28  29  30  31  32  33  34  35  36\n",
            "  37  38  39  40  41  42  43  44  45  46  47  48  49  50  51  52  53  54\n",
            "  55  56  57  58  59  60  61  62  63  64  65  66  67  68  69  70  71  72\n",
            "  73  74  75  76  77  78  79  80  81  82  83  84  85  86  87  88  89  90\n",
            "  91  92  93  94  95  96  97  98  99 100] \n",
            "\n",
            "n=8; Taking the last 8 values after sorting \n",
            " \n",
            "Using np.argsort\n",
            "[ 93  94  95  96  97  98  99 100] \n",
            "\n",
            "Using np.argpartition\n",
            "[ 95  99 100  97  96  98  94  93]\n"
          ]
        }
      ],
      "source": [
        "print(\"Z-Array\")\n",
        "print(\"Z- An array from the range 1-100\")\n",
        "Z = np.arange(1,101)\n",
        "print(Z,\"\\n\")\n",
        "\n",
        "np.random.shuffle(Z)\n",
        "n = 8\n",
        "print(\"n=8; Taking the last 8 values after sorting \\n \")\n",
        "print(\"Using np.argsort\")\n",
        "print (Z[np.argsort(Z)[-n:]],'\\n')\n",
        "\n",
        "print(\"Using np.argpartition\")\n",
        "print (Z[np.argpartition(-Z,n)[:n]])"
      ]
    },
    {
      "cell_type": "markdown",
      "metadata": {
        "id": "sTyNuF6EODZJ"
      },
      "source": [
        "#### 90. Given an arbitrary number of vectors, build the cartesian product (every combinations of every item) (★★★) \n",
        "(**hint**: np.indices)"
      ]
    },
    {
      "cell_type": "code",
      "execution_count": null,
      "metadata": {
        "id": "uDRIzg8fODZJ",
        "scrolled": true,
        "colab": {
          "base_uri": "https://localhost:8080/"
        },
        "outputId": "e4e11e17-4e16-439c-95bf-5517e35f1cc5"
      },
      "outputs": [
        {
          "output_type": "stream",
          "name": "stdout",
          "text": [
            "Cartesian Product of 3 x 1 x 2\n",
            "6 rows and 3 colums created with every combinations\n",
            "[[1 2 1]\n",
            " [1 2 0]\n",
            " [2 2 1]\n",
            " [2 2 0]\n",
            " [3 2 1]\n",
            " [3 2 0]]\n"
          ]
        }
      ],
      "source": [
        "def cartesian(arrays):\n",
        "    arrays = [np.asarray(a) for a in arrays]\n",
        "    shape = (len(x) for x in arrays)\n",
        "\n",
        "    ix = np.indices(shape, dtype=int)\n",
        "    ix = ix.reshape(len(arrays), -1).T\n",
        "\n",
        "    for n, arr in enumerate(arrays):\n",
        "        ix[:, n] = arrays[n][ix[:, n]]\n",
        "\n",
        "    return ix\n",
        "\n",
        "print(\"Cartesian Product of 3 x 1 x 2\")\n",
        "print(\"6 rows and 3 colums created with every combinations\")\n",
        "print (cartesian(([1, 2, 3],[2],[1, 0])))"
      ]
    },
    {
      "cell_type": "markdown",
      "metadata": {
        "id": "I57WaZZCODZK"
      },
      "source": [
        "#### 91. How to create a record array from a regular array? (★★★) \n",
        "(**hint**: np.core.records.fromarrays)"
      ]
    },
    {
      "cell_type": "code",
      "execution_count": null,
      "metadata": {
        "id": "Z1wLIDPrODZK",
        "colab": {
          "base_uri": "https://localhost:8080/"
        },
        "outputId": "249608f4-c24a-42f1-fa14-d72ff843aa39"
      },
      "outputs": [
        {
          "output_type": "stream",
          "name": "stdout",
          "text": [
            "Result\n",
            "[(1, 'Red', 12.2) (2, 'Green', 15. ) (3, 'White', 20. )\n",
            " (4, 'Orange', 40. )] \n",
            "\n",
            "Result[0] : (1, 'Red', 12.2) \n",
            "\n",
            "Result[1] : (2, 'Green', 15.) \n",
            "\n",
            "Result[2] : (3, 'White', 20.) \n",
            "\n",
            "Result[3] : (4, 'Orange', 40.)\n"
          ]
        }
      ],
      "source": [
        "import numpy as np\n",
        "a1=np.array([1,2,3,4])\n",
        "a2=np.array(['Red','Green','White','Orange'])\n",
        "a3=np.array([12.20,15,20,40])\n",
        "result= np.core.records.fromarrays([a1, a2, a3],names='a,b,c')\n",
        "print(\"Result\")\n",
        "print(result,'\\n')\n",
        "print(\"Result[0] :\", result[0],'\\n')\n",
        "print(\"Result[1] :\", result[1],'\\n')\n",
        "print(\"Result[2] :\", result[2],'\\n')\n",
        "print(\"Result[3] :\", result[3])"
      ]
    },
    {
      "cell_type": "markdown",
      "metadata": {
        "id": "jPWeS8x1ODZK"
      },
      "source": [
        "#### 92. Consider a large vector Z, compute Z to the power of 3 using 3 different methods (★★★) \n",
        "(**hint**: np.power, \\*, np.einsum)"
      ]
    },
    {
      "cell_type": "code",
      "execution_count": null,
      "metadata": {
        "id": "2prec9G8ODZK",
        "colab": {
          "base_uri": "https://localhost:8080/"
        },
        "outputId": "578e7bb4-bed9-4f01-d300-e8593a6b7c59"
      },
      "outputs": [
        {
          "output_type": "stream",
          "name": "stdout",
          "text": [
            "Using np.power method\n",
            "[0.53359066 0.24729354 0.03904951 ... 0.07386672 0.00266819 0.0023081 ] \n",
            "\n",
            "Using normal multiplication method\n",
            "[0.53359066 0.24729354 0.03904951 ... 0.07386672 0.00266819 0.0023081 ] \n",
            "\n",
            "Using np.einsum\n",
            "[0.53359066 0.24729354 0.03904951 ... 0.07386672 0.00266819 0.0023081 ]\n"
          ]
        }
      ],
      "source": [
        "x = np.random.rand(int(5e7))\n",
        "\n",
        "print(\"Using np.power method\")\n",
        "print(np.power(x,3),'\\n')\n",
        "\n",
        "print(\"Using normal multiplication method\")\n",
        "print(x*x*x,'\\n')\n",
        "\n",
        "print(\"Using np.einsum\")\n",
        "print(np.einsum('i,i,i->i',x,x,x))"
      ]
    },
    {
      "cell_type": "markdown",
      "metadata": {
        "id": "bg1TEn5vODZK"
      },
      "source": [
        "#### 93. Consider two arrays A and B of shape (8,3) and (2,2). How to find rows of A that contain elements of each row of B regardless of the order of the elements in B? (★★★) \n",
        "(**hint**: np.where)"
      ]
    },
    {
      "cell_type": "code",
      "execution_count": null,
      "metadata": {
        "id": "n6YPQ9gcODZK",
        "colab": {
          "base_uri": "https://localhost:8080/"
        },
        "outputId": "3cd4550f-6f88-442f-9a10-877b7feec2ce"
      },
      "outputs": [
        {
          "output_type": "stream",
          "name": "stdout",
          "text": [
            "Original arrays:\n",
            "[[7 6 7 8]\n",
            " [8 8 8 7]\n",
            " [8 6 9 6]\n",
            " [9 5 5 9]\n",
            " [7 8 6 8]\n",
            " [9 7 7 9]]\n",
            "\n",
            " [[9 6 8]\n",
            " [7 9 7]]\n",
            "\n",
            "Rows of a given array that contain elements of each row of another given array:\n",
            "[0 1 2 3 4 5]\n"
          ]
        }
      ],
      "source": [
        "nums1 = np.random.randint(5,10,(6,4))\n",
        "nums2 = np.random.randint(5,10,(2,3))\n",
        "print(\"Original arrays:\")\n",
        "print(nums1)\n",
        "print(\"\\n\",nums2)\n",
        "temp = (nums1[..., np.newaxis, np.newaxis] == nums2)\n",
        "rows = (temp.sum(axis=(1,2,3)) >= nums2.shape[1]).nonzero()[0]\n",
        "print(\"\\nRows of a given array that contain elements of each row of another given array:\")\n",
        "print(rows)"
      ]
    },
    {
      "cell_type": "markdown",
      "metadata": {
        "id": "pCCge-tOODZK"
      },
      "source": [
        "#### 94. Considering a 10x3 matrix, extract rows with unequal values (e.g. \\[2,2,3\\]) (★★★)"
      ]
    },
    {
      "cell_type": "code",
      "execution_count": null,
      "metadata": {
        "id": "XVJzoLWGODZK",
        "colab": {
          "base_uri": "https://localhost:8080/"
        },
        "outputId": "45baafd2-e93b-4877-87c8-314e113d5fe8"
      },
      "outputs": [
        {
          "output_type": "stream",
          "name": "stdout",
          "text": [
            "Original vector:\n",
            "[[1. 0. 6.]\n",
            " [2. 1. 0.]\n",
            " [1. 0. 4.]\n",
            " [7. 2. 5.]\n",
            " [3. 7. 4.]\n",
            " [1. 1. 1.]\n",
            " [1. 1. 1.]\n",
            " [1. 1. 1.]\n",
            " [1. 1. 1.]\n",
            " [1. 1. 1.]]\n",
            "\n",
            "Rows with unequal values:\n",
            "[[1. 0. 6.]\n",
            " [2. 1. 0.]\n",
            " [1. 0. 4.]\n",
            " [7. 2. 5.]\n",
            " [3. 7. 4.]]\n"
          ]
        }
      ],
      "source": [
        "x = np.random.randint(0,10,(5,3))\n",
        "x1=np.ones(15).reshape(5,3)\n",
        "#created an array with the same values to show the difference\n",
        "y=np.vstack((x,x1))   #used horizontal stack to stack it with the x matrix\n",
        "print(\"Original vector:\")\n",
        "print(y)\n",
        "new_y = np.logical_and.reduce(y[:,1:] == y[:,:-1], axis=1)\n",
        "result = y[~new_y]\n",
        "print(\"\\nRows with unequal values:\")\n",
        "print(result)"
      ]
    },
    {
      "cell_type": "markdown",
      "metadata": {
        "id": "AGphkNv7ODZK"
      },
      "source": [
        "#### 95. Convert a vector of ints into a matrix binary representation (★★★) \n",
        "(**hint**: np.unpackbits)"
      ]
    },
    {
      "cell_type": "code",
      "execution_count": null,
      "metadata": {
        "id": "AGEM3p17ODZK",
        "colab": {
          "base_uri": "https://localhost:8080/"
        },
        "outputId": "b3c00d3a-3d2c-46f8-a7d0-aa5c8aca90d5"
      },
      "outputs": [
        {
          "output_type": "stream",
          "name": "stdout",
          "text": [
            "[[0 0 0 0 1 0 0 0]\n",
            " [0 0 0 1 0 0 0 0]\n",
            " [0 0 1 0 0 0 0 0]\n",
            " [0 1 0 0 0 0 0 0]\n",
            " [1 0 0 0 0 0 0 0]]\n"
          ]
        }
      ],
      "source": [
        "x = np.array([8, 16, 32, 64, 128], dtype=np.uint8)\n",
        "print(np.unpackbits(x[:, np.newaxis], axis=1))"
      ]
    },
    {
      "cell_type": "markdown",
      "metadata": {
        "id": "BEA94pPeODZK"
      },
      "source": [
        "#### 96. Given a two dimensional array, how to extract unique rows? (★★★) \n",
        "(**hint**: np.ascontiguousarray)"
      ]
    },
    {
      "cell_type": "code",
      "execution_count": null,
      "metadata": {
        "id": "FKR5FgYyODZK",
        "colab": {
          "base_uri": "https://localhost:8080/"
        },
        "outputId": "c8a33a56-db2a-4263-959f-5acd13337234"
      },
      "outputs": [
        {
          "output_type": "stream",
          "name": "stdout",
          "text": [
            "Original vector:\n",
            "[[2. 8. 8.]\n",
            " [1. 5. 8.]\n",
            " [4. 6. 7.]\n",
            " [1. 1. 1.]\n",
            " [1. 1. 1.]\n",
            " [1. 1. 1.]] \n",
            "\n",
            "------------------------\n",
            "Unique Rows are displayed using np.unique method\n",
            "[[1. 1. 1.]\n",
            " [1. 5. 8.]\n",
            " [2. 8. 8.]\n",
            " [4. 6. 7.]]\n"
          ]
        }
      ],
      "source": [
        "x = np.random.randint(0,10,(3,3))\n",
        "x1=np.ones(9).reshape(3,3)\n",
        "#created an array with the same values to show the difference\n",
        "y=np.vstack((x,x1))   #used horizontal stack to stack it with the x matrix\n",
        "print(\"Original vector:\")\n",
        "print(y,'\\n')\n",
        "print(\"------------------------\")\n",
        "print(\"Unique Rows are displayed using np.unique method\")\n",
        "u = np.unique(y, axis=0)\n",
        "print(u)"
      ]
    },
    {
      "cell_type": "markdown",
      "metadata": {
        "id": "sfxXWR0AODZK"
      },
      "source": [
        "#### 97. Considering 2 vectors A & B, write the einsum equivalent of inner, outer, sum, and mul function (★★★) \n",
        "(**hint**: np.einsum)"
      ]
    },
    {
      "cell_type": "code",
      "execution_count": null,
      "metadata": {
        "id": "JxsM7jk3ODZK",
        "colab": {
          "base_uri": "https://localhost:8080/"
        },
        "outputId": "b7ba941a-67d6-44b3-a298-ba51f161c099"
      },
      "outputs": [
        {
          "output_type": "stream",
          "name": "stdout",
          "text": [
            "np.einsum\n",
            "3 \n",
            "\n",
            "Multiplication function\n",
            "[ 0  5 12] \n",
            "\n",
            "Inner product or the Dot product\n",
            "17 \n",
            "\n",
            "Outer product\n",
            "[[ 0  0  0]\n",
            " [ 4  5  6]\n",
            " [ 8 10 12]]\n"
          ]
        }
      ],
      "source": [
        "A = np.array([0, 1, 2])\n",
        "\n",
        "B = np.array([4, 5, 6])\n",
        "\n",
        "print(\"np.einsum\")\n",
        "print(np.einsum('i->', A),'\\n')\n",
        "\n",
        "print(\"Multiplication function\")\n",
        "print(np.einsum('i,i->i', A, B),'\\n')\n",
        "\n",
        "print(\"Inner product or the Dot product\")\n",
        "print(np.einsum('i,i', A, B),'\\n')\n",
        "\n",
        "print(\"Outer product\")\n",
        "print(np.einsum('i,j->ij', A, B))"
      ]
    },
    {
      "cell_type": "markdown",
      "metadata": {
        "id": "nCAY_zpkODZK"
      },
      "source": [
        "#### 98. Considering a path described by two vectors (X,Y), how to sample it using equidistant samples (★★★)? \n",
        "(**hint**: np.cumsum, np.interp)"
      ]
    },
    {
      "cell_type": "code",
      "execution_count": null,
      "metadata": {
        "collapsed": true,
        "id": "B5gZBaIFODZL",
        "colab": {
          "base_uri": "https://localhost:8080/"
        },
        "outputId": "52836f31-36e2-47c6-fef5-25d4ce5f7d63"
      },
      "outputs": [
        {
          "output_type": "stream",
          "name": "stdout",
          "text": [
            "Equidistant:\n",
            "------------\n",
            "A point is equidistant from 2 other points when it is always the same distance away from those points.\n",
            "Example: point B is equidistant from points A and C. \n",
            "\n",
            "Distance formula\n",
            "----------------\n",
            "d = √[(x2−x1)2+(y2−y1)2] √ [ ( x 2 − x 1 ) 2 + ( y 2 − y 1 ) 2 ] \n",
            "\n",
            "r_int:  [  0.         123.7724568  247.54491359 371.31737039 495.08982719] \n",
            "\n",
            "x_int, y_int\n",
            "------------\n",
            "0.0 0.0\n",
            "0.0 1.5054772837517967\n",
            "0.0 -3.6940816250278914\n",
            "0.0 24.191900161063277\n",
            "0.0 -0.500072085643085\n",
            "-15.53063667594265 0.0\n",
            "-15.53063667594265 1.5054772837517967\n",
            "-15.53063667594265 -3.6940816250278914\n",
            "-15.53063667594265 24.191900161063277\n",
            "-15.53063667594265 -0.500072085643085\n",
            "-21.821431128409632 0.0\n",
            "-21.821431128409632 1.5054772837517967\n",
            "-21.821431128409632 -3.6940816250278914\n",
            "-21.821431128409632 24.191900161063277\n",
            "-21.821431128409632 -0.500072085643085\n",
            "-12.321022161747202 0.0\n",
            "-12.321022161747202 1.5054772837517967\n",
            "-12.321022161747202 -3.6940816250278914\n",
            "-12.321022161747202 24.191900161063277\n",
            "-12.321022161747202 -0.500072085643085\n",
            "31.396017707810664 0.0\n",
            "31.396017707810664 1.5054772837517967\n",
            "31.396017707810664 -3.6940816250278914\n",
            "31.396017707810664 24.191900161063277\n",
            "31.396017707810664 -0.500072085643085\n"
          ]
        }
      ],
      "source": [
        "print(\"Equidistant:\")\n",
        "print(\"------------\")\n",
        "print(\"A point is equidistant from 2 other points when it is always the same distance away from those points.\\nExample: point B is equidistant from points A and C. \\n\")\n",
        "\n",
        "print(\"Distance formula\")\n",
        "print(\"----------------\")\n",
        "print(\"d = √[(x2−x1)2+(y2−y1)2] √ [ ( x 2 − x 1 ) 2 + ( y 2 − y 1 ) 2 ] \\n\")\n",
        "\n",
        "phi = np.arange(0, 10*np.pi, 0.1)\n",
        "a = 1\n",
        "x = a*phi*np.cos(phi)\n",
        "y = a*phi*np.sin(phi)\n",
        "dr = (np.diff(x)**2 + np.diff(y)**2)**.5 \n",
        "r = np.zeros_like(x)\n",
        "r[1:] = np.cumsum(dr) \n",
        "r_int = np.linspace(0, r.max(), 5) \n",
        "x_int = np.interp(r_int, r, x) \n",
        "y_int = np.interp(r_int, r, y)\n",
        "\n",
        "print(\"r_int: \", r_int,'\\n')\n",
        "print(\"x_int, y_int\")\n",
        "print(\"------------\")\n",
        "for i in range(len(x_int)):\n",
        "  for j in range(len(y_int)):\n",
        "    print(x_int[i],y_int[j])"
      ]
    },
    {
      "cell_type": "markdown",
      "metadata": {
        "id": "8dCOxhdfODZL"
      },
      "source": [
        "#### 99. Given an integer n and a 2D array X, select from X the rows which can be interpreted as draws from a multinomial distribution with n degrees, i.e., the rows which only contain integers and which sum to n. (★★★) \n",
        "(**hint**: np.logical\\_and.reduce, np.mod)"
      ]
    },
    {
      "cell_type": "code",
      "execution_count": null,
      "metadata": {
        "id": "Rn2AHxc9ODZL",
        "colab": {
          "base_uri": "https://localhost:8080/"
        },
        "outputId": "f98b383b-11bd-4c08-8885-0955482f50c7"
      },
      "outputs": [
        {
          "output_type": "stream",
          "name": "stdout",
          "text": [
            "Original Array\n",
            "[[6. 7. 3. 7. 8.]\n",
            " [5. 4. 8. 9. 4.]\n",
            " [1. 2. 7. 3. 7.]\n",
            " [3. 5. 9. 8. 8.]\n",
            " [6. 2. 6. 3. 1.]\n",
            " [1. 1. 1. 1. 1.]\n",
            " [1. 1. 1. 1. 1.]] \n",
            "\n",
            "stating n=5; The summation of all the elements to 5 is our result \n",
            "\n",
            "Using np.logical_and.reduce, np.mod methods \n",
            "\n",
            "Here last 2 rows are summing to 5 and it came out 'True'\n",
            "[False False False False False  True  True] \n",
            "\n",
            "The rows with the summation of 5:\n",
            "[[1. 1. 1. 1. 1.]\n",
            " [1. 1. 1. 1. 1.]]\n"
          ]
        }
      ],
      "source": [
        "x = np.random.randint(1,10,(5,5))\n",
        "x1=np.ones(10).reshape(2,5)\n",
        "y=np.vstack((x,x1))\n",
        "print(\"Original Array\")\n",
        "print(y,'\\n')\n",
        "\n",
        "print(\"stating n=5; The summation of all the elements to 5 is our result \\n\")\n",
        "n = 5\n",
        "M = np.logical_and.reduce(np.mod(y, 1) == 0, axis=-1)\n",
        "M &= (y.sum(axis=-1) == n)\n",
        "print(\"Using np.logical_and.reduce, np.mod methods \\n\")\n",
        "print(\"Here last 2 rows are summing to 5 and it came out 'True'\")\n",
        "print(M,'\\n')\n",
        "print(\"The rows with the summation of 5:\")\n",
        "print(y[M])"
      ]
    },
    {
      "cell_type": "code",
      "source": [
        "import numpy as np"
      ],
      "metadata": {
        "id": "qxvpnXm0Cgu0"
      },
      "execution_count": null,
      "outputs": []
    },
    {
      "cell_type": "markdown",
      "metadata": {
        "id": "0fxTpVfmODZL"
      },
      "source": [
        "#### 100. Compute bootstrapped 95% confidence intervals for the mean of a 1D array X (i.e., resample the elements of an array with replacement N times, compute the mean of each sample, and then compute percentiles over the means). (★★★) \n",
        "(**hint**: np.percentile)"
      ]
    },
    {
      "cell_type": "code",
      "execution_count": 4,
      "metadata": {
        "id": "D3OVuRovODZL",
        "colab": {
          "base_uri": "https://localhost:8080/"
        },
        "outputId": "1c0f5aed-5a41-4669-840b-56c4f0b4af9c"
      },
      "outputs": [
        {
          "output_type": "stream",
          "name": "stdout",
          "text": [
            "Bootstrapped 95% confidence intervals for the mean of 1D array X\n",
            "[-0.06373265  0.29824701]\n"
          ]
        }
      ],
      "source": [
        "X = np.random.randn(100) # random 1D array\n",
        "N = 1000 # number of bootstrap samples\n",
        "idx = np.random.randint(0, X.size, (N, X.size))\n",
        "means = X[idx].mean(axis=1)\n",
        "confint = np.percentile(means, [2.5, 97.5])\n",
        "print(\"Bootstrapped 95% confidence intervals for the mean of 1D array X\")\n",
        "print(confint)"
      ]
    }
  ],
  "metadata": {
    "colab": {
      "provenance": [],
      "include_colab_link": true
    },
    "kernelspec": {
      "display_name": "Python 3",
      "language": "python",
      "name": "python3"
    },
    "language_info": {
      "codemirror_mode": {
        "name": "ipython",
        "version": 3
      },
      "file_extension": ".py",
      "mimetype": "text/x-python",
      "name": "python",
      "nbconvert_exporter": "python",
      "pygments_lexer": "ipython3",
      "version": "3.8.3"
    }
  },
  "nbformat": 4,
  "nbformat_minor": 0
}